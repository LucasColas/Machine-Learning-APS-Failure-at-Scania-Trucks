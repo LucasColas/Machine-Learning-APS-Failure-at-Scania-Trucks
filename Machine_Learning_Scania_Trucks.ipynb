{
  "nbformat": 4,
  "nbformat_minor": 0,
  "metadata": {
    "colab": {
      "provenance": [],
      "authorship_tag": "ABX9TyOB9oZNlgdAAf3/RMkbkbwO",
      "include_colab_link": true
    },
    "kernelspec": {
      "name": "python3",
      "display_name": "Python 3"
    },
    "language_info": {
      "name": "python"
    }
  },
  "cells": [
    {
      "cell_type": "markdown",
      "metadata": {
        "id": "view-in-github",
        "colab_type": "text"
      },
      "source": [
        "<a href=\"https://colab.research.google.com/github/LucasColas/Machine-Learning-APS-Failure-at-Scania-Trucks/blob/main/Machine_Learning_Scania_Trucks.ipynb\" target=\"_parent\"><img src=\"https://colab.research.google.com/assets/colab-badge.svg\" alt=\"Open In Colab\"/></a>"
      ]
    },
    {
      "cell_type": "markdown",
      "source": [
        "# Implementation of KMeans"
      ],
      "metadata": {
        "id": "Z4weyoFQLRp1"
      }
    },
    {
      "cell_type": "markdown",
      "source": [
        "### Libraries"
      ],
      "metadata": {
        "id": "1lFKU7ioLhPO"
      }
    },
    {
      "cell_type": "code",
      "source": [
        "import pandas as pd\n",
        "import numpy as np\n",
        "import matplotlib.pyplot as plt\n",
        "from scipy.io import loadmat"
      ],
      "metadata": {
        "id": "1U6t1O7GLi_L"
      },
      "execution_count": 1,
      "outputs": []
    },
    {
      "cell_type": "markdown",
      "source": [
        "### Dataset"
      ],
      "metadata": {
        "id": "lpKjbYKYNNbO"
      }
    },
    {
      "cell_type": "markdown",
      "source": [
        "This database contains the component measurements for the APS of Scania trucks. "
      ],
      "metadata": {
        "id": "ImYFwx2-ON2R"
      }
    },
    {
      "cell_type": "code",
      "execution_count": 3,
      "metadata": {
        "colab": {
          "base_uri": "https://localhost:8080/"
        },
        "id": "7rWF9-YvLPSo",
        "outputId": "9d1c153e-2e7a-4230-a926-736b5812d666"
      },
      "outputs": [
        {
          "output_type": "stream",
          "name": "stdout",
          "text": [
            "Mounted at /content/drive\n"
          ]
        }
      ],
      "source": [
        "from google.colab import drive \n",
        "drive.mount('/content/drive') #My dataset is in my Google Drive "
      ]
    },
    {
      "cell_type": "code",
      "source": [
        "Dataset = loadmat('/content/drive/My Drive/Machine Learning/scaniaTrucks_data.mat') \n"
      ],
      "metadata": {
        "id": "FqnmmchDMyfD"
      },
      "execution_count": 5,
      "outputs": []
    },
    {
      "cell_type": "code",
      "source": [
        "Dataset.keys()"
      ],
      "metadata": {
        "colab": {
          "base_uri": "https://localhost:8080/"
        },
        "id": "xXJVSyFfOZYf",
        "outputId": "cd3b0e18-223a-421c-bf74-d7c34c702960"
      },
      "execution_count": 8,
      "outputs": [
        {
          "output_type": "execute_result",
          "data": {
            "text/plain": [
              "dict_keys(['__header__', '__version__', '__globals__', 'K', 'X', 'YR', 'None', '__function_workspace__'])"
            ]
          },
          "metadata": {},
          "execution_count": 8
        }
      ]
    },
    {
      "cell_type": "code",
      "source": [
        "Dataset['YR']"
      ],
      "metadata": {
        "colab": {
          "base_uri": "https://localhost:8080/"
        },
        "id": "peCR_BAyOb2e",
        "outputId": "63926608-c309-4817-8dd0-a43cfdaa9ee4"
      },
      "execution_count": 11,
      "outputs": [
        {
          "output_type": "execute_result",
          "data": {
            "text/plain": [
              "array([[1],\n",
              "       [1],\n",
              "       [1],\n",
              "       ...,\n",
              "       [1],\n",
              "       [1],\n",
              "       [1]], dtype=uint8)"
            ]
          },
          "metadata": {},
          "execution_count": 11
        }
      ]
    },
    {
      "cell_type": "code",
      "source": [
        "Xdf = pd.DataFrame(Dataset['X'])\n",
        "print(Xdf)\n"
      ],
      "metadata": {
        "colab": {
          "base_uri": "https://localhost:8080/"
        },
        "id": "J7KfSsrTNQX2",
        "outputId": "02a417b5-ae64-4086-914f-8be4cf19e317"
      },
      "execution_count": 12,
      "outputs": [
        {
          "output_type": "stream",
          "name": "stdout",
          "text": [
            "           0    1     2    3    4    5      6        7          8    \\\n",
            "0      76698.0  0.0   0.0  0.0  0.0  0.0    0.0  37250.0  1432864.0   \n",
            "1      33058.0  0.0   0.0  0.0  0.0  0.0    0.0  18254.0   653294.0   \n",
            "2      41040.0  0.0   0.0  0.0  0.0  0.0    0.0   1648.0   370592.0   \n",
            "3         12.0  0.0  10.0  0.0  0.0  0.0  318.0   2212.0     3232.0   \n",
            "4      60874.0  0.0   0.0  0.0  0.0  0.0    0.0  43752.0  1966618.0   \n",
            "...        ...  ...   ...  ...  ...  ...    ...      ...        ...   \n",
            "69304  81852.0  0.0   0.0  0.0  0.0  0.0    0.0   5486.0   704012.0   \n",
            "69305     18.0  8.0  26.0  0.0  0.0  0.0    0.0   6444.0     3308.0   \n",
            "69306  79636.0  0.0   0.0  0.0  0.0  0.0    0.0  15062.0  1991298.0   \n",
            "69307    110.0  0.0   0.0  0.0  0.0  0.0    0.0    198.0     3730.0   \n",
            "69308      8.0  2.0   2.0  0.0  0.0  0.0    0.0   1350.0     3328.0   \n",
            "\n",
            "             9    ...        120       121       122       123       124  \\\n",
            "0      3664156.0  ...  1240520.0  493384.0  721044.0  469792.0  339156.0   \n",
            "1      1720800.0  ...   421400.0  178064.0  293306.0  245416.0  133654.0   \n",
            "2      1883374.0  ...   277378.0  159812.0  423992.0  409564.0  320746.0   \n",
            "3         1872.0  ...      240.0      46.0      58.0      44.0      10.0   \n",
            "4      1800340.0  ...   622012.0  229790.0  405298.0  347188.0  286954.0   \n",
            "...          ...  ...        ...       ...       ...       ...       ...   \n",
            "69304  3220278.0  ...   632658.0  273242.0  510354.0  373918.0  349840.0   \n",
            "69305     2720.0  ...      266.0      44.0      46.0      14.0       2.0   \n",
            "69306  2768440.0  ...   806832.0  449962.0  778826.0  581558.0  375498.0   \n",
            "69307    27418.0  ...      588.0     210.0     180.0     544.0    1004.0   \n",
            "69308     1126.0  ...       46.0      10.0      48.0      14.0      42.0   \n",
            "\n",
            "            125       126      127  128   129  \n",
            "0      157956.0   73224.0      0.0  0.0   0.0  \n",
            "1       81140.0   97576.0   1500.0  0.0   0.0  \n",
            "2      158022.0   95128.0    514.0  0.0   0.0  \n",
            "3           0.0       0.0      0.0  4.0  32.0  \n",
            "4      311560.0  433954.0   1218.0  0.0   0.0  \n",
            "...         ...       ...      ...  ...   ...  \n",
            "69304  317840.0  960024.0  25566.0  0.0   0.0  \n",
            "69305       0.0       0.0      0.0  0.0   0.0  \n",
            "69306  222866.0  358934.0  19548.0  0.0   0.0  \n",
            "69307    1338.0      74.0      0.0  0.0   0.0  \n",
            "69308      46.0       0.0      0.0  0.0   0.0  \n",
            "\n",
            "[69309 rows x 130 columns]\n"
          ]
        }
      ]
    },
    {
      "cell_type": "code",
      "source": [
        "Xall = np.array(Xdf)\n",
        "\n",
        "X = Xall[np.random.choice(range(Xall.shape[0]), 5000, replace=False),:]\n",
        "print(X.shape)"
      ],
      "metadata": {
        "colab": {
          "base_uri": "https://localhost:8080/"
        },
        "id": "iR9PQtgfNxtB",
        "outputId": "f78fcabc-86c6-442f-af67-ac36d41287dd"
      },
      "execution_count": 13,
      "outputs": [
        {
          "output_type": "stream",
          "name": "stdout",
          "text": [
            "(1000, 130)\n"
          ]
        }
      ]
    },
    {
      "cell_type": "code",
      "source": [
        "pd.DataFrame(X)"
      ],
      "metadata": {
        "colab": {
          "base_uri": "https://localhost:8080/",
          "height": 487
        },
        "id": "eWk9XtJSNxnk",
        "outputId": "6291a9f9-0a34-4890-befa-40c668be707d"
      },
      "execution_count": 15,
      "outputs": [
        {
          "output_type": "execute_result",
          "data": {
            "text/plain": [
              "          0    1    2    3    4      5         6          7          8    \\\n",
              "0     35294.0  0.0  0.0  0.0  0.0    0.0   81792.0  1505336.0   378136.0   \n",
              "1     38258.0  0.0  0.0  0.0  0.0    0.0       0.0     2178.0   628224.0   \n",
              "2    161528.0  0.0  0.0  0.0  0.0    0.0       0.0   223684.0  3074966.0   \n",
              "3     52336.0  0.0  0.0  0.0  0.0    0.0       0.0     4766.0  1084514.0   \n",
              "4     10588.0  0.0  0.0  0.0  0.0  734.0   21548.0   117908.0   457042.0   \n",
              "..        ...  ...  ...  ...  ...    ...       ...        ...        ...   \n",
              "995  212800.0  0.0  0.0  0.0  0.0    0.0  385874.0  5129594.0  4543322.0   \n",
              "996   13154.0  0.0  0.0  0.0  0.0    0.0       0.0     1474.0   344724.0   \n",
              "997       8.0  0.0  0.0  0.0  0.0    0.0       0.0     3862.0     1590.0   \n",
              "998      78.0  0.0  0.0  0.0  0.0    0.0       0.0    17662.0    21546.0   \n",
              "999      10.0  0.0  0.0  0.0  0.0    0.0       0.0     1470.0     1730.0   \n",
              "\n",
              "           9    ...        120       121        122        123        124  \\\n",
              "0      10096.0  ...   134374.0   54886.0   221294.0    83480.0   153780.0   \n",
              "1    1843956.0  ...   292096.0  135482.0   273222.0   240502.0   191574.0   \n",
              "2    6149650.0  ...  1304986.0  734720.0  1739456.0  1504928.0   962888.0   \n",
              "3    2130936.0  ...   503788.0  234788.0   501396.0   431452.0   328948.0   \n",
              "4     134228.0  ...   289744.0  238640.0    63870.0    10982.0     3850.0   \n",
              "..         ...  ...        ...       ...        ...        ...        ...   \n",
              "995  2701660.0  ...  1293016.0  686610.0  1220906.0   813982.0  1823454.0   \n",
              "996   547796.0  ...    76584.0   24800.0    45778.0    85328.0    20440.0   \n",
              "997     1964.0  ...       46.0      16.0       28.0       56.0       12.0   \n",
              "998     4800.0  ...     2060.0     546.0      464.0      110.0      120.0   \n",
              "999     2910.0  ...       50.0      14.0       30.0       24.0       16.0   \n",
              "\n",
              "           125       126      127  128  129  \n",
              "0     844106.0   18348.0      0.0  0.0  0.0  \n",
              "1     162072.0  312376.0  16112.0  0.0  0.0  \n",
              "2     460748.0  513950.0   6046.0  0.0  0.0  \n",
              "3     159682.0  176548.0   9612.0  0.0  0.0  \n",
              "4       1816.0    1310.0      0.0  0.0  0.0  \n",
              "..         ...       ...      ...  ...  ...  \n",
              "995  3423508.0   29188.0      0.0  0.0  0.0  \n",
              "996    22748.0  155180.0  63338.0  0.0  0.0  \n",
              "997        0.0       0.0      0.0  0.0  0.0  \n",
              "998       58.0       0.0      0.0  0.0  0.0  \n",
              "999       64.0       0.0      0.0  0.0  0.0  \n",
              "\n",
              "[1000 rows x 130 columns]"
            ],
            "text/html": [
              "\n",
              "  <div id=\"df-08b17036-6274-4d17-b463-96cb6a3ccb7b\">\n",
              "    <div class=\"colab-df-container\">\n",
              "      <div>\n",
              "<style scoped>\n",
              "    .dataframe tbody tr th:only-of-type {\n",
              "        vertical-align: middle;\n",
              "    }\n",
              "\n",
              "    .dataframe tbody tr th {\n",
              "        vertical-align: top;\n",
              "    }\n",
              "\n",
              "    .dataframe thead th {\n",
              "        text-align: right;\n",
              "    }\n",
              "</style>\n",
              "<table border=\"1\" class=\"dataframe\">\n",
              "  <thead>\n",
              "    <tr style=\"text-align: right;\">\n",
              "      <th></th>\n",
              "      <th>0</th>\n",
              "      <th>1</th>\n",
              "      <th>2</th>\n",
              "      <th>3</th>\n",
              "      <th>4</th>\n",
              "      <th>5</th>\n",
              "      <th>6</th>\n",
              "      <th>7</th>\n",
              "      <th>8</th>\n",
              "      <th>9</th>\n",
              "      <th>...</th>\n",
              "      <th>120</th>\n",
              "      <th>121</th>\n",
              "      <th>122</th>\n",
              "      <th>123</th>\n",
              "      <th>124</th>\n",
              "      <th>125</th>\n",
              "      <th>126</th>\n",
              "      <th>127</th>\n",
              "      <th>128</th>\n",
              "      <th>129</th>\n",
              "    </tr>\n",
              "  </thead>\n",
              "  <tbody>\n",
              "    <tr>\n",
              "      <th>0</th>\n",
              "      <td>35294.0</td>\n",
              "      <td>0.0</td>\n",
              "      <td>0.0</td>\n",
              "      <td>0.0</td>\n",
              "      <td>0.0</td>\n",
              "      <td>0.0</td>\n",
              "      <td>81792.0</td>\n",
              "      <td>1505336.0</td>\n",
              "      <td>378136.0</td>\n",
              "      <td>10096.0</td>\n",
              "      <td>...</td>\n",
              "      <td>134374.0</td>\n",
              "      <td>54886.0</td>\n",
              "      <td>221294.0</td>\n",
              "      <td>83480.0</td>\n",
              "      <td>153780.0</td>\n",
              "      <td>844106.0</td>\n",
              "      <td>18348.0</td>\n",
              "      <td>0.0</td>\n",
              "      <td>0.0</td>\n",
              "      <td>0.0</td>\n",
              "    </tr>\n",
              "    <tr>\n",
              "      <th>1</th>\n",
              "      <td>38258.0</td>\n",
              "      <td>0.0</td>\n",
              "      <td>0.0</td>\n",
              "      <td>0.0</td>\n",
              "      <td>0.0</td>\n",
              "      <td>0.0</td>\n",
              "      <td>0.0</td>\n",
              "      <td>2178.0</td>\n",
              "      <td>628224.0</td>\n",
              "      <td>1843956.0</td>\n",
              "      <td>...</td>\n",
              "      <td>292096.0</td>\n",
              "      <td>135482.0</td>\n",
              "      <td>273222.0</td>\n",
              "      <td>240502.0</td>\n",
              "      <td>191574.0</td>\n",
              "      <td>162072.0</td>\n",
              "      <td>312376.0</td>\n",
              "      <td>16112.0</td>\n",
              "      <td>0.0</td>\n",
              "      <td>0.0</td>\n",
              "    </tr>\n",
              "    <tr>\n",
              "      <th>2</th>\n",
              "      <td>161528.0</td>\n",
              "      <td>0.0</td>\n",
              "      <td>0.0</td>\n",
              "      <td>0.0</td>\n",
              "      <td>0.0</td>\n",
              "      <td>0.0</td>\n",
              "      <td>0.0</td>\n",
              "      <td>223684.0</td>\n",
              "      <td>3074966.0</td>\n",
              "      <td>6149650.0</td>\n",
              "      <td>...</td>\n",
              "      <td>1304986.0</td>\n",
              "      <td>734720.0</td>\n",
              "      <td>1739456.0</td>\n",
              "      <td>1504928.0</td>\n",
              "      <td>962888.0</td>\n",
              "      <td>460748.0</td>\n",
              "      <td>513950.0</td>\n",
              "      <td>6046.0</td>\n",
              "      <td>0.0</td>\n",
              "      <td>0.0</td>\n",
              "    </tr>\n",
              "    <tr>\n",
              "      <th>3</th>\n",
              "      <td>52336.0</td>\n",
              "      <td>0.0</td>\n",
              "      <td>0.0</td>\n",
              "      <td>0.0</td>\n",
              "      <td>0.0</td>\n",
              "      <td>0.0</td>\n",
              "      <td>0.0</td>\n",
              "      <td>4766.0</td>\n",
              "      <td>1084514.0</td>\n",
              "      <td>2130936.0</td>\n",
              "      <td>...</td>\n",
              "      <td>503788.0</td>\n",
              "      <td>234788.0</td>\n",
              "      <td>501396.0</td>\n",
              "      <td>431452.0</td>\n",
              "      <td>328948.0</td>\n",
              "      <td>159682.0</td>\n",
              "      <td>176548.0</td>\n",
              "      <td>9612.0</td>\n",
              "      <td>0.0</td>\n",
              "      <td>0.0</td>\n",
              "    </tr>\n",
              "    <tr>\n",
              "      <th>4</th>\n",
              "      <td>10588.0</td>\n",
              "      <td>0.0</td>\n",
              "      <td>0.0</td>\n",
              "      <td>0.0</td>\n",
              "      <td>0.0</td>\n",
              "      <td>734.0</td>\n",
              "      <td>21548.0</td>\n",
              "      <td>117908.0</td>\n",
              "      <td>457042.0</td>\n",
              "      <td>134228.0</td>\n",
              "      <td>...</td>\n",
              "      <td>289744.0</td>\n",
              "      <td>238640.0</td>\n",
              "      <td>63870.0</td>\n",
              "      <td>10982.0</td>\n",
              "      <td>3850.0</td>\n",
              "      <td>1816.0</td>\n",
              "      <td>1310.0</td>\n",
              "      <td>0.0</td>\n",
              "      <td>0.0</td>\n",
              "      <td>0.0</td>\n",
              "    </tr>\n",
              "    <tr>\n",
              "      <th>...</th>\n",
              "      <td>...</td>\n",
              "      <td>...</td>\n",
              "      <td>...</td>\n",
              "      <td>...</td>\n",
              "      <td>...</td>\n",
              "      <td>...</td>\n",
              "      <td>...</td>\n",
              "      <td>...</td>\n",
              "      <td>...</td>\n",
              "      <td>...</td>\n",
              "      <td>...</td>\n",
              "      <td>...</td>\n",
              "      <td>...</td>\n",
              "      <td>...</td>\n",
              "      <td>...</td>\n",
              "      <td>...</td>\n",
              "      <td>...</td>\n",
              "      <td>...</td>\n",
              "      <td>...</td>\n",
              "      <td>...</td>\n",
              "      <td>...</td>\n",
              "    </tr>\n",
              "    <tr>\n",
              "      <th>995</th>\n",
              "      <td>212800.0</td>\n",
              "      <td>0.0</td>\n",
              "      <td>0.0</td>\n",
              "      <td>0.0</td>\n",
              "      <td>0.0</td>\n",
              "      <td>0.0</td>\n",
              "      <td>385874.0</td>\n",
              "      <td>5129594.0</td>\n",
              "      <td>4543322.0</td>\n",
              "      <td>2701660.0</td>\n",
              "      <td>...</td>\n",
              "      <td>1293016.0</td>\n",
              "      <td>686610.0</td>\n",
              "      <td>1220906.0</td>\n",
              "      <td>813982.0</td>\n",
              "      <td>1823454.0</td>\n",
              "      <td>3423508.0</td>\n",
              "      <td>29188.0</td>\n",
              "      <td>0.0</td>\n",
              "      <td>0.0</td>\n",
              "      <td>0.0</td>\n",
              "    </tr>\n",
              "    <tr>\n",
              "      <th>996</th>\n",
              "      <td>13154.0</td>\n",
              "      <td>0.0</td>\n",
              "      <td>0.0</td>\n",
              "      <td>0.0</td>\n",
              "      <td>0.0</td>\n",
              "      <td>0.0</td>\n",
              "      <td>0.0</td>\n",
              "      <td>1474.0</td>\n",
              "      <td>344724.0</td>\n",
              "      <td>547796.0</td>\n",
              "      <td>...</td>\n",
              "      <td>76584.0</td>\n",
              "      <td>24800.0</td>\n",
              "      <td>45778.0</td>\n",
              "      <td>85328.0</td>\n",
              "      <td>20440.0</td>\n",
              "      <td>22748.0</td>\n",
              "      <td>155180.0</td>\n",
              "      <td>63338.0</td>\n",
              "      <td>0.0</td>\n",
              "      <td>0.0</td>\n",
              "    </tr>\n",
              "    <tr>\n",
              "      <th>997</th>\n",
              "      <td>8.0</td>\n",
              "      <td>0.0</td>\n",
              "      <td>0.0</td>\n",
              "      <td>0.0</td>\n",
              "      <td>0.0</td>\n",
              "      <td>0.0</td>\n",
              "      <td>0.0</td>\n",
              "      <td>3862.0</td>\n",
              "      <td>1590.0</td>\n",
              "      <td>1964.0</td>\n",
              "      <td>...</td>\n",
              "      <td>46.0</td>\n",
              "      <td>16.0</td>\n",
              "      <td>28.0</td>\n",
              "      <td>56.0</td>\n",
              "      <td>12.0</td>\n",
              "      <td>0.0</td>\n",
              "      <td>0.0</td>\n",
              "      <td>0.0</td>\n",
              "      <td>0.0</td>\n",
              "      <td>0.0</td>\n",
              "    </tr>\n",
              "    <tr>\n",
              "      <th>998</th>\n",
              "      <td>78.0</td>\n",
              "      <td>0.0</td>\n",
              "      <td>0.0</td>\n",
              "      <td>0.0</td>\n",
              "      <td>0.0</td>\n",
              "      <td>0.0</td>\n",
              "      <td>0.0</td>\n",
              "      <td>17662.0</td>\n",
              "      <td>21546.0</td>\n",
              "      <td>4800.0</td>\n",
              "      <td>...</td>\n",
              "      <td>2060.0</td>\n",
              "      <td>546.0</td>\n",
              "      <td>464.0</td>\n",
              "      <td>110.0</td>\n",
              "      <td>120.0</td>\n",
              "      <td>58.0</td>\n",
              "      <td>0.0</td>\n",
              "      <td>0.0</td>\n",
              "      <td>0.0</td>\n",
              "      <td>0.0</td>\n",
              "    </tr>\n",
              "    <tr>\n",
              "      <th>999</th>\n",
              "      <td>10.0</td>\n",
              "      <td>0.0</td>\n",
              "      <td>0.0</td>\n",
              "      <td>0.0</td>\n",
              "      <td>0.0</td>\n",
              "      <td>0.0</td>\n",
              "      <td>0.0</td>\n",
              "      <td>1470.0</td>\n",
              "      <td>1730.0</td>\n",
              "      <td>2910.0</td>\n",
              "      <td>...</td>\n",
              "      <td>50.0</td>\n",
              "      <td>14.0</td>\n",
              "      <td>30.0</td>\n",
              "      <td>24.0</td>\n",
              "      <td>16.0</td>\n",
              "      <td>64.0</td>\n",
              "      <td>0.0</td>\n",
              "      <td>0.0</td>\n",
              "      <td>0.0</td>\n",
              "      <td>0.0</td>\n",
              "    </tr>\n",
              "  </tbody>\n",
              "</table>\n",
              "<p>1000 rows × 130 columns</p>\n",
              "</div>\n",
              "      <button class=\"colab-df-convert\" onclick=\"convertToInteractive('df-08b17036-6274-4d17-b463-96cb6a3ccb7b')\"\n",
              "              title=\"Convert this dataframe to an interactive table.\"\n",
              "              style=\"display:none;\">\n",
              "        \n",
              "  <svg xmlns=\"http://www.w3.org/2000/svg\" height=\"24px\"viewBox=\"0 0 24 24\"\n",
              "       width=\"24px\">\n",
              "    <path d=\"M0 0h24v24H0V0z\" fill=\"none\"/>\n",
              "    <path d=\"M18.56 5.44l.94 2.06.94-2.06 2.06-.94-2.06-.94-.94-2.06-.94 2.06-2.06.94zm-11 1L8.5 8.5l.94-2.06 2.06-.94-2.06-.94L8.5 2.5l-.94 2.06-2.06.94zm10 10l.94 2.06.94-2.06 2.06-.94-2.06-.94-.94-2.06-.94 2.06-2.06.94z\"/><path d=\"M17.41 7.96l-1.37-1.37c-.4-.4-.92-.59-1.43-.59-.52 0-1.04.2-1.43.59L10.3 9.45l-7.72 7.72c-.78.78-.78 2.05 0 2.83L4 21.41c.39.39.9.59 1.41.59.51 0 1.02-.2 1.41-.59l7.78-7.78 2.81-2.81c.8-.78.8-2.07 0-2.86zM5.41 20L4 18.59l7.72-7.72 1.47 1.35L5.41 20z\"/>\n",
              "  </svg>\n",
              "      </button>\n",
              "      \n",
              "  <style>\n",
              "    .colab-df-container {\n",
              "      display:flex;\n",
              "      flex-wrap:wrap;\n",
              "      gap: 12px;\n",
              "    }\n",
              "\n",
              "    .colab-df-convert {\n",
              "      background-color: #E8F0FE;\n",
              "      border: none;\n",
              "      border-radius: 50%;\n",
              "      cursor: pointer;\n",
              "      display: none;\n",
              "      fill: #1967D2;\n",
              "      height: 32px;\n",
              "      padding: 0 0 0 0;\n",
              "      width: 32px;\n",
              "    }\n",
              "\n",
              "    .colab-df-convert:hover {\n",
              "      background-color: #E2EBFA;\n",
              "      box-shadow: 0px 1px 2px rgba(60, 64, 67, 0.3), 0px 1px 3px 1px rgba(60, 64, 67, 0.15);\n",
              "      fill: #174EA6;\n",
              "    }\n",
              "\n",
              "    [theme=dark] .colab-df-convert {\n",
              "      background-color: #3B4455;\n",
              "      fill: #D2E3FC;\n",
              "    }\n",
              "\n",
              "    [theme=dark] .colab-df-convert:hover {\n",
              "      background-color: #434B5C;\n",
              "      box-shadow: 0px 1px 3px 1px rgba(0, 0, 0, 0.15);\n",
              "      filter: drop-shadow(0px 1px 2px rgba(0, 0, 0, 0.3));\n",
              "      fill: #FFFFFF;\n",
              "    }\n",
              "  </style>\n",
              "\n",
              "      <script>\n",
              "        const buttonEl =\n",
              "          document.querySelector('#df-08b17036-6274-4d17-b463-96cb6a3ccb7b button.colab-df-convert');\n",
              "        buttonEl.style.display =\n",
              "          google.colab.kernel.accessAllowed ? 'block' : 'none';\n",
              "\n",
              "        async function convertToInteractive(key) {\n",
              "          const element = document.querySelector('#df-08b17036-6274-4d17-b463-96cb6a3ccb7b');\n",
              "          const dataTable =\n",
              "            await google.colab.kernel.invokeFunction('convertToInteractive',\n",
              "                                                     [key], {});\n",
              "          if (!dataTable) return;\n",
              "\n",
              "          const docLinkHtml = 'Like what you see? Visit the ' +\n",
              "            '<a target=\"_blank\" href=https://colab.research.google.com/notebooks/data_table.ipynb>data table notebook</a>'\n",
              "            + ' to learn more about interactive tables.';\n",
              "          element.innerHTML = '';\n",
              "          dataTable['output_type'] = 'display_data';\n",
              "          await google.colab.output.renderOutput(dataTable, element);\n",
              "          const docLink = document.createElement('div');\n",
              "          docLink.innerHTML = docLinkHtml;\n",
              "          element.appendChild(docLink);\n",
              "        }\n",
              "      </script>\n",
              "    </div>\n",
              "  </div>\n",
              "  "
            ]
          },
          "metadata": {},
          "execution_count": 15
        }
      ]
    }
  ]
}