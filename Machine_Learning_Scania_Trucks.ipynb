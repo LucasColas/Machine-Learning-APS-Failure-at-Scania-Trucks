{
  "nbformat": 4,
  "nbformat_minor": 0,
  "metadata": {
    "colab": {
      "provenance": [],
      "collapsed_sections": [
        "1_RhBDGSu-Fy",
        "FJiMKO70u2e5",
        "3evnwgm1UXou",
        "uhjZ29RNdGmX",
        "5aQuFZ2RgL9D",
        "7_iTVaJrnOoj",
        "DvKlZom-coKx",
        "oi0KWiWFlt_x"
      ],
      "authorship_tag": "ABX9TyOCbIJ2s2McJeXMnRWI+h7Z",
      "include_colab_link": true
    },
    "kernelspec": {
      "name": "python3",
      "display_name": "Python 3"
    },
    "language_info": {
      "name": "python"
    }
  },
  "cells": [
    {
      "cell_type": "markdown",
      "metadata": {
        "id": "view-in-github",
        "colab_type": "text"
      },
      "source": [
        "<a href=\"https://colab.research.google.com/github/LucasColas/Machine-Learning-APS-Failure-at-Scania-Trucks/blob/main/Machine_Learning_Scania_Trucks.ipynb\" target=\"_parent\"><img src=\"https://colab.research.google.com/assets/colab-badge.svg\" alt=\"Open In Colab\"/></a>"
      ]
    },
    {
      "cell_type": "markdown",
      "source": [
        "# Implementation of KMeans"
      ],
      "metadata": {
        "id": "Z4weyoFQLRp1"
      }
    },
    {
      "cell_type": "markdown",
      "source": [
        "## Goal : \n",
        "Our goal is to minimize the cost associated with:\n",
        "\n",
        "1) Unnecessary checks done by mechanic.\n",
        "\n",
        "2) Missing a faulty truck, which may cause breakdown."
      ],
      "metadata": {
        "id": "lTNZVWeqj1a2"
      }
    },
    {
      "cell_type": "markdown",
      "source": [
        "## Libraries"
      ],
      "metadata": {
        "id": "1lFKU7ioLhPO"
      }
    },
    {
      "cell_type": "code",
      "source": [
        "#Data analysis\n",
        "import pandas as pd\n",
        "import numpy as np\n",
        "import matplotlib.pyplot as plt\n",
        "from scipy.io import loadmat\n",
        "from sklearn.decomposition import PCA\n",
        "from sklearn import preprocessing\n",
        "#Algorithms\n",
        "from sklearn.cluster import KMeans\n",
        "from sklearn.linear_model import LogisticRegression\n",
        "from sklearn.discriminant_analysis import LinearDiscriminantAnalysis\n",
        "from sklearn.ensemble import RandomForestClassifier\n",
        "#Metrics\n",
        "from sklearn.metrics import confusion_matrix, ConfusionMatrixDisplay\n",
        "from sklearn.metrics import silhouette_samples, silhouette_score\n",
        "\n",
        "\n",
        "from imblearn.over_sampling import SMOTE\n",
        "from collections import Counter"
      ],
      "metadata": {
        "id": "1U6t1O7GLi_L"
      },
      "execution_count": 66,
      "outputs": []
    },
    {
      "cell_type": "markdown",
      "source": [
        "## Preparation"
      ],
      "metadata": {
        "id": "lpKjbYKYNNbO"
      }
    },
    {
      "cell_type": "markdown",
      "source": [
        "This database contains the component measurements for the APS of Scania trucks. "
      ],
      "metadata": {
        "id": "ImYFwx2-ON2R"
      }
    },
    {
      "cell_type": "code",
      "execution_count": 67,
      "metadata": {
        "colab": {
          "base_uri": "https://localhost:8080/"
        },
        "id": "7rWF9-YvLPSo",
        "outputId": "de17cafa-e660-4785-8910-4d6770b38ddf"
      },
      "outputs": [
        {
          "output_type": "stream",
          "name": "stdout",
          "text": [
            "Drive already mounted at /content/drive; to attempt to forcibly remount, call drive.mount(\"/content/drive\", force_remount=True).\n"
          ]
        }
      ],
      "source": [
        "from google.colab import drive \n",
        "drive.mount('/content/drive') #My dataset is in my Google Drive "
      ]
    },
    {
      "cell_type": "code",
      "source": [
        "Dataset_training = pd.read_csv('/content/drive/My Drive/Machine Learning/aps_failure_training_set.csv', na_values=\"na\") \n"
      ],
      "metadata": {
        "id": "S6BggVeFEg3M"
      },
      "execution_count": 68,
      "outputs": []
    },
    {
      "cell_type": "code",
      "source": [
        "Dataset_test = pd.read_csv('/content/drive/My Drive/Machine Learning/aps_failure_test_set.csv', na_values=\"na\") \n"
      ],
      "metadata": {
        "id": "FqnmmchDMyfD"
      },
      "execution_count": 69,
      "outputs": []
    },
    {
      "cell_type": "code",
      "source": [
        "Dataset_training.head()"
      ],
      "metadata": {
        "colab": {
          "base_uri": "https://localhost:8080/",
          "height": 299
        },
        "id": "BpoflrUXEksS",
        "outputId": "452f7527-f41b-4fb2-a035-fa09da57a143"
      },
      "execution_count": 70,
      "outputs": [
        {
          "output_type": "execute_result",
          "data": {
            "text/plain": [
              "  class  aa_000  ab_000        ac_000  ad_000  ae_000  af_000  ag_000  ag_001  \\\n",
              "0   neg   76698     NaN  2.130706e+09   280.0     0.0     0.0     0.0     0.0   \n",
              "1   neg   33058     NaN  0.000000e+00     NaN     0.0     0.0     0.0     0.0   \n",
              "2   neg   41040     NaN  2.280000e+02   100.0     0.0     0.0     0.0     0.0   \n",
              "3   neg      12     0.0  7.000000e+01    66.0     0.0    10.0     0.0     0.0   \n",
              "4   neg   60874     NaN  1.368000e+03   458.0     0.0     0.0     0.0     0.0   \n",
              "\n",
              "   ag_002  ...     ee_002    ee_003    ee_004    ee_005    ee_006    ee_007  \\\n",
              "0     0.0  ...  1240520.0  493384.0  721044.0  469792.0  339156.0  157956.0   \n",
              "1     0.0  ...   421400.0  178064.0  293306.0  245416.0  133654.0   81140.0   \n",
              "2     0.0  ...   277378.0  159812.0  423992.0  409564.0  320746.0  158022.0   \n",
              "3     0.0  ...      240.0      46.0      58.0      44.0      10.0       0.0   \n",
              "4     0.0  ...   622012.0  229790.0  405298.0  347188.0  286954.0  311560.0   \n",
              "\n",
              "     ee_008  ee_009  ef_000  eg_000  \n",
              "0   73224.0     0.0     0.0     0.0  \n",
              "1   97576.0  1500.0     0.0     0.0  \n",
              "2   95128.0   514.0     0.0     0.0  \n",
              "3       0.0     0.0     4.0    32.0  \n",
              "4  433954.0  1218.0     0.0     0.0  \n",
              "\n",
              "[5 rows x 171 columns]"
            ],
            "text/html": [
              "\n",
              "  <div id=\"df-57e5c952-80ab-41f8-a443-95357550aef6\">\n",
              "    <div class=\"colab-df-container\">\n",
              "      <div>\n",
              "<style scoped>\n",
              "    .dataframe tbody tr th:only-of-type {\n",
              "        vertical-align: middle;\n",
              "    }\n",
              "\n",
              "    .dataframe tbody tr th {\n",
              "        vertical-align: top;\n",
              "    }\n",
              "\n",
              "    .dataframe thead th {\n",
              "        text-align: right;\n",
              "    }\n",
              "</style>\n",
              "<table border=\"1\" class=\"dataframe\">\n",
              "  <thead>\n",
              "    <tr style=\"text-align: right;\">\n",
              "      <th></th>\n",
              "      <th>class</th>\n",
              "      <th>aa_000</th>\n",
              "      <th>ab_000</th>\n",
              "      <th>ac_000</th>\n",
              "      <th>ad_000</th>\n",
              "      <th>ae_000</th>\n",
              "      <th>af_000</th>\n",
              "      <th>ag_000</th>\n",
              "      <th>ag_001</th>\n",
              "      <th>ag_002</th>\n",
              "      <th>...</th>\n",
              "      <th>ee_002</th>\n",
              "      <th>ee_003</th>\n",
              "      <th>ee_004</th>\n",
              "      <th>ee_005</th>\n",
              "      <th>ee_006</th>\n",
              "      <th>ee_007</th>\n",
              "      <th>ee_008</th>\n",
              "      <th>ee_009</th>\n",
              "      <th>ef_000</th>\n",
              "      <th>eg_000</th>\n",
              "    </tr>\n",
              "  </thead>\n",
              "  <tbody>\n",
              "    <tr>\n",
              "      <th>0</th>\n",
              "      <td>neg</td>\n",
              "      <td>76698</td>\n",
              "      <td>NaN</td>\n",
              "      <td>2.130706e+09</td>\n",
              "      <td>280.0</td>\n",
              "      <td>0.0</td>\n",
              "      <td>0.0</td>\n",
              "      <td>0.0</td>\n",
              "      <td>0.0</td>\n",
              "      <td>0.0</td>\n",
              "      <td>...</td>\n",
              "      <td>1240520.0</td>\n",
              "      <td>493384.0</td>\n",
              "      <td>721044.0</td>\n",
              "      <td>469792.0</td>\n",
              "      <td>339156.0</td>\n",
              "      <td>157956.0</td>\n",
              "      <td>73224.0</td>\n",
              "      <td>0.0</td>\n",
              "      <td>0.0</td>\n",
              "      <td>0.0</td>\n",
              "    </tr>\n",
              "    <tr>\n",
              "      <th>1</th>\n",
              "      <td>neg</td>\n",
              "      <td>33058</td>\n",
              "      <td>NaN</td>\n",
              "      <td>0.000000e+00</td>\n",
              "      <td>NaN</td>\n",
              "      <td>0.0</td>\n",
              "      <td>0.0</td>\n",
              "      <td>0.0</td>\n",
              "      <td>0.0</td>\n",
              "      <td>0.0</td>\n",
              "      <td>...</td>\n",
              "      <td>421400.0</td>\n",
              "      <td>178064.0</td>\n",
              "      <td>293306.0</td>\n",
              "      <td>245416.0</td>\n",
              "      <td>133654.0</td>\n",
              "      <td>81140.0</td>\n",
              "      <td>97576.0</td>\n",
              "      <td>1500.0</td>\n",
              "      <td>0.0</td>\n",
              "      <td>0.0</td>\n",
              "    </tr>\n",
              "    <tr>\n",
              "      <th>2</th>\n",
              "      <td>neg</td>\n",
              "      <td>41040</td>\n",
              "      <td>NaN</td>\n",
              "      <td>2.280000e+02</td>\n",
              "      <td>100.0</td>\n",
              "      <td>0.0</td>\n",
              "      <td>0.0</td>\n",
              "      <td>0.0</td>\n",
              "      <td>0.0</td>\n",
              "      <td>0.0</td>\n",
              "      <td>...</td>\n",
              "      <td>277378.0</td>\n",
              "      <td>159812.0</td>\n",
              "      <td>423992.0</td>\n",
              "      <td>409564.0</td>\n",
              "      <td>320746.0</td>\n",
              "      <td>158022.0</td>\n",
              "      <td>95128.0</td>\n",
              "      <td>514.0</td>\n",
              "      <td>0.0</td>\n",
              "      <td>0.0</td>\n",
              "    </tr>\n",
              "    <tr>\n",
              "      <th>3</th>\n",
              "      <td>neg</td>\n",
              "      <td>12</td>\n",
              "      <td>0.0</td>\n",
              "      <td>7.000000e+01</td>\n",
              "      <td>66.0</td>\n",
              "      <td>0.0</td>\n",
              "      <td>10.0</td>\n",
              "      <td>0.0</td>\n",
              "      <td>0.0</td>\n",
              "      <td>0.0</td>\n",
              "      <td>...</td>\n",
              "      <td>240.0</td>\n",
              "      <td>46.0</td>\n",
              "      <td>58.0</td>\n",
              "      <td>44.0</td>\n",
              "      <td>10.0</td>\n",
              "      <td>0.0</td>\n",
              "      <td>0.0</td>\n",
              "      <td>0.0</td>\n",
              "      <td>4.0</td>\n",
              "      <td>32.0</td>\n",
              "    </tr>\n",
              "    <tr>\n",
              "      <th>4</th>\n",
              "      <td>neg</td>\n",
              "      <td>60874</td>\n",
              "      <td>NaN</td>\n",
              "      <td>1.368000e+03</td>\n",
              "      <td>458.0</td>\n",
              "      <td>0.0</td>\n",
              "      <td>0.0</td>\n",
              "      <td>0.0</td>\n",
              "      <td>0.0</td>\n",
              "      <td>0.0</td>\n",
              "      <td>...</td>\n",
              "      <td>622012.0</td>\n",
              "      <td>229790.0</td>\n",
              "      <td>405298.0</td>\n",
              "      <td>347188.0</td>\n",
              "      <td>286954.0</td>\n",
              "      <td>311560.0</td>\n",
              "      <td>433954.0</td>\n",
              "      <td>1218.0</td>\n",
              "      <td>0.0</td>\n",
              "      <td>0.0</td>\n",
              "    </tr>\n",
              "  </tbody>\n",
              "</table>\n",
              "<p>5 rows × 171 columns</p>\n",
              "</div>\n",
              "      <button class=\"colab-df-convert\" onclick=\"convertToInteractive('df-57e5c952-80ab-41f8-a443-95357550aef6')\"\n",
              "              title=\"Convert this dataframe to an interactive table.\"\n",
              "              style=\"display:none;\">\n",
              "        \n",
              "  <svg xmlns=\"http://www.w3.org/2000/svg\" height=\"24px\"viewBox=\"0 0 24 24\"\n",
              "       width=\"24px\">\n",
              "    <path d=\"M0 0h24v24H0V0z\" fill=\"none\"/>\n",
              "    <path d=\"M18.56 5.44l.94 2.06.94-2.06 2.06-.94-2.06-.94-.94-2.06-.94 2.06-2.06.94zm-11 1L8.5 8.5l.94-2.06 2.06-.94-2.06-.94L8.5 2.5l-.94 2.06-2.06.94zm10 10l.94 2.06.94-2.06 2.06-.94-2.06-.94-.94-2.06-.94 2.06-2.06.94z\"/><path d=\"M17.41 7.96l-1.37-1.37c-.4-.4-.92-.59-1.43-.59-.52 0-1.04.2-1.43.59L10.3 9.45l-7.72 7.72c-.78.78-.78 2.05 0 2.83L4 21.41c.39.39.9.59 1.41.59.51 0 1.02-.2 1.41-.59l7.78-7.78 2.81-2.81c.8-.78.8-2.07 0-2.86zM5.41 20L4 18.59l7.72-7.72 1.47 1.35L5.41 20z\"/>\n",
              "  </svg>\n",
              "      </button>\n",
              "      \n",
              "  <style>\n",
              "    .colab-df-container {\n",
              "      display:flex;\n",
              "      flex-wrap:wrap;\n",
              "      gap: 12px;\n",
              "    }\n",
              "\n",
              "    .colab-df-convert {\n",
              "      background-color: #E8F0FE;\n",
              "      border: none;\n",
              "      border-radius: 50%;\n",
              "      cursor: pointer;\n",
              "      display: none;\n",
              "      fill: #1967D2;\n",
              "      height: 32px;\n",
              "      padding: 0 0 0 0;\n",
              "      width: 32px;\n",
              "    }\n",
              "\n",
              "    .colab-df-convert:hover {\n",
              "      background-color: #E2EBFA;\n",
              "      box-shadow: 0px 1px 2px rgba(60, 64, 67, 0.3), 0px 1px 3px 1px rgba(60, 64, 67, 0.15);\n",
              "      fill: #174EA6;\n",
              "    }\n",
              "\n",
              "    [theme=dark] .colab-df-convert {\n",
              "      background-color: #3B4455;\n",
              "      fill: #D2E3FC;\n",
              "    }\n",
              "\n",
              "    [theme=dark] .colab-df-convert:hover {\n",
              "      background-color: #434B5C;\n",
              "      box-shadow: 0px 1px 3px 1px rgba(0, 0, 0, 0.15);\n",
              "      filter: drop-shadow(0px 1px 2px rgba(0, 0, 0, 0.3));\n",
              "      fill: #FFFFFF;\n",
              "    }\n",
              "  </style>\n",
              "\n",
              "      <script>\n",
              "        const buttonEl =\n",
              "          document.querySelector('#df-57e5c952-80ab-41f8-a443-95357550aef6 button.colab-df-convert');\n",
              "        buttonEl.style.display =\n",
              "          google.colab.kernel.accessAllowed ? 'block' : 'none';\n",
              "\n",
              "        async function convertToInteractive(key) {\n",
              "          const element = document.querySelector('#df-57e5c952-80ab-41f8-a443-95357550aef6');\n",
              "          const dataTable =\n",
              "            await google.colab.kernel.invokeFunction('convertToInteractive',\n",
              "                                                     [key], {});\n",
              "          if (!dataTable) return;\n",
              "\n",
              "          const docLinkHtml = 'Like what you see? Visit the ' +\n",
              "            '<a target=\"_blank\" href=https://colab.research.google.com/notebooks/data_table.ipynb>data table notebook</a>'\n",
              "            + ' to learn more about interactive tables.';\n",
              "          element.innerHTML = '';\n",
              "          dataTable['output_type'] = 'display_data';\n",
              "          await google.colab.output.renderOutput(dataTable, element);\n",
              "          const docLink = document.createElement('div');\n",
              "          docLink.innerHTML = docLinkHtml;\n",
              "          element.appendChild(docLink);\n",
              "        }\n",
              "      </script>\n",
              "    </div>\n",
              "  </div>\n",
              "  "
            ]
          },
          "metadata": {},
          "execution_count": 70
        }
      ]
    },
    {
      "cell_type": "code",
      "source": [
        "Dataset_training #Dataset"
      ],
      "metadata": {
        "colab": {
          "base_uri": "https://localhost:8080/",
          "height": 488
        },
        "id": "15wbQ6OHE0Vo",
        "outputId": "5b5e232d-0836-4d59-8015-e1275458f0b6"
      },
      "execution_count": 71,
      "outputs": [
        {
          "output_type": "execute_result",
          "data": {
            "text/plain": [
              "      class  aa_000  ab_000        ac_000  ad_000  ae_000  af_000  ag_000  \\\n",
              "0       neg   76698     NaN  2.130706e+09   280.0     0.0     0.0     0.0   \n",
              "1       neg   33058     NaN  0.000000e+00     NaN     0.0     0.0     0.0   \n",
              "2       neg   41040     NaN  2.280000e+02   100.0     0.0     0.0     0.0   \n",
              "3       neg      12     0.0  7.000000e+01    66.0     0.0    10.0     0.0   \n",
              "4       neg   60874     NaN  1.368000e+03   458.0     0.0     0.0     0.0   \n",
              "...     ...     ...     ...           ...     ...     ...     ...     ...   \n",
              "59995   neg  153002     NaN  6.640000e+02   186.0     0.0     0.0     0.0   \n",
              "59996   neg    2286     NaN  2.130707e+09   224.0     0.0     0.0     0.0   \n",
              "59997   neg     112     0.0  2.130706e+09    18.0     0.0     0.0     0.0   \n",
              "59998   neg   80292     NaN  2.130706e+09   494.0     0.0     0.0     0.0   \n",
              "59999   neg   40222     NaN  6.980000e+02   628.0     0.0     0.0     0.0   \n",
              "\n",
              "       ag_001  ag_002  ...     ee_002    ee_003     ee_004     ee_005  \\\n",
              "0         0.0     0.0  ...  1240520.0  493384.0   721044.0   469792.0   \n",
              "1         0.0     0.0  ...   421400.0  178064.0   293306.0   245416.0   \n",
              "2         0.0     0.0  ...   277378.0  159812.0   423992.0   409564.0   \n",
              "3         0.0     0.0  ...      240.0      46.0       58.0       44.0   \n",
              "4         0.0     0.0  ...   622012.0  229790.0   405298.0   347188.0   \n",
              "...       ...     ...  ...        ...       ...        ...        ...   \n",
              "59995     0.0     0.0  ...   998500.0  566884.0  1290398.0  1218244.0   \n",
              "59996     0.0     0.0  ...    10578.0    6760.0    21126.0    68424.0   \n",
              "59997     0.0     0.0  ...      792.0     386.0      452.0      144.0   \n",
              "59998     0.0     0.0  ...   699352.0  222654.0   347378.0   225724.0   \n",
              "59999     0.0     0.0  ...   440066.0  183200.0   344546.0   254068.0   \n",
              "\n",
              "          ee_006    ee_007    ee_008    ee_009  ef_000  eg_000  \n",
              "0       339156.0  157956.0   73224.0       0.0     0.0     0.0  \n",
              "1       133654.0   81140.0   97576.0    1500.0     0.0     0.0  \n",
              "2       320746.0  158022.0   95128.0     514.0     0.0     0.0  \n",
              "3           10.0       0.0       0.0       0.0     4.0    32.0  \n",
              "4       286954.0  311560.0  433954.0    1218.0     0.0     0.0  \n",
              "...          ...       ...       ...       ...     ...     ...  \n",
              "59995  1019768.0  717762.0  898642.0   28588.0     0.0     0.0  \n",
              "59996      136.0       0.0       0.0       0.0     0.0     0.0  \n",
              "59997      146.0    2622.0       0.0       0.0     0.0     0.0  \n",
              "59998   194440.0  165070.0  802280.0  388422.0     0.0     0.0  \n",
              "59999   225148.0  158304.0  170384.0     158.0     0.0     0.0  \n",
              "\n",
              "[60000 rows x 171 columns]"
            ],
            "text/html": [
              "\n",
              "  <div id=\"df-f199c36c-d1bc-454e-85db-6533661844de\">\n",
              "    <div class=\"colab-df-container\">\n",
              "      <div>\n",
              "<style scoped>\n",
              "    .dataframe tbody tr th:only-of-type {\n",
              "        vertical-align: middle;\n",
              "    }\n",
              "\n",
              "    .dataframe tbody tr th {\n",
              "        vertical-align: top;\n",
              "    }\n",
              "\n",
              "    .dataframe thead th {\n",
              "        text-align: right;\n",
              "    }\n",
              "</style>\n",
              "<table border=\"1\" class=\"dataframe\">\n",
              "  <thead>\n",
              "    <tr style=\"text-align: right;\">\n",
              "      <th></th>\n",
              "      <th>class</th>\n",
              "      <th>aa_000</th>\n",
              "      <th>ab_000</th>\n",
              "      <th>ac_000</th>\n",
              "      <th>ad_000</th>\n",
              "      <th>ae_000</th>\n",
              "      <th>af_000</th>\n",
              "      <th>ag_000</th>\n",
              "      <th>ag_001</th>\n",
              "      <th>ag_002</th>\n",
              "      <th>...</th>\n",
              "      <th>ee_002</th>\n",
              "      <th>ee_003</th>\n",
              "      <th>ee_004</th>\n",
              "      <th>ee_005</th>\n",
              "      <th>ee_006</th>\n",
              "      <th>ee_007</th>\n",
              "      <th>ee_008</th>\n",
              "      <th>ee_009</th>\n",
              "      <th>ef_000</th>\n",
              "      <th>eg_000</th>\n",
              "    </tr>\n",
              "  </thead>\n",
              "  <tbody>\n",
              "    <tr>\n",
              "      <th>0</th>\n",
              "      <td>neg</td>\n",
              "      <td>76698</td>\n",
              "      <td>NaN</td>\n",
              "      <td>2.130706e+09</td>\n",
              "      <td>280.0</td>\n",
              "      <td>0.0</td>\n",
              "      <td>0.0</td>\n",
              "      <td>0.0</td>\n",
              "      <td>0.0</td>\n",
              "      <td>0.0</td>\n",
              "      <td>...</td>\n",
              "      <td>1240520.0</td>\n",
              "      <td>493384.0</td>\n",
              "      <td>721044.0</td>\n",
              "      <td>469792.0</td>\n",
              "      <td>339156.0</td>\n",
              "      <td>157956.0</td>\n",
              "      <td>73224.0</td>\n",
              "      <td>0.0</td>\n",
              "      <td>0.0</td>\n",
              "      <td>0.0</td>\n",
              "    </tr>\n",
              "    <tr>\n",
              "      <th>1</th>\n",
              "      <td>neg</td>\n",
              "      <td>33058</td>\n",
              "      <td>NaN</td>\n",
              "      <td>0.000000e+00</td>\n",
              "      <td>NaN</td>\n",
              "      <td>0.0</td>\n",
              "      <td>0.0</td>\n",
              "      <td>0.0</td>\n",
              "      <td>0.0</td>\n",
              "      <td>0.0</td>\n",
              "      <td>...</td>\n",
              "      <td>421400.0</td>\n",
              "      <td>178064.0</td>\n",
              "      <td>293306.0</td>\n",
              "      <td>245416.0</td>\n",
              "      <td>133654.0</td>\n",
              "      <td>81140.0</td>\n",
              "      <td>97576.0</td>\n",
              "      <td>1500.0</td>\n",
              "      <td>0.0</td>\n",
              "      <td>0.0</td>\n",
              "    </tr>\n",
              "    <tr>\n",
              "      <th>2</th>\n",
              "      <td>neg</td>\n",
              "      <td>41040</td>\n",
              "      <td>NaN</td>\n",
              "      <td>2.280000e+02</td>\n",
              "      <td>100.0</td>\n",
              "      <td>0.0</td>\n",
              "      <td>0.0</td>\n",
              "      <td>0.0</td>\n",
              "      <td>0.0</td>\n",
              "      <td>0.0</td>\n",
              "      <td>...</td>\n",
              "      <td>277378.0</td>\n",
              "      <td>159812.0</td>\n",
              "      <td>423992.0</td>\n",
              "      <td>409564.0</td>\n",
              "      <td>320746.0</td>\n",
              "      <td>158022.0</td>\n",
              "      <td>95128.0</td>\n",
              "      <td>514.0</td>\n",
              "      <td>0.0</td>\n",
              "      <td>0.0</td>\n",
              "    </tr>\n",
              "    <tr>\n",
              "      <th>3</th>\n",
              "      <td>neg</td>\n",
              "      <td>12</td>\n",
              "      <td>0.0</td>\n",
              "      <td>7.000000e+01</td>\n",
              "      <td>66.0</td>\n",
              "      <td>0.0</td>\n",
              "      <td>10.0</td>\n",
              "      <td>0.0</td>\n",
              "      <td>0.0</td>\n",
              "      <td>0.0</td>\n",
              "      <td>...</td>\n",
              "      <td>240.0</td>\n",
              "      <td>46.0</td>\n",
              "      <td>58.0</td>\n",
              "      <td>44.0</td>\n",
              "      <td>10.0</td>\n",
              "      <td>0.0</td>\n",
              "      <td>0.0</td>\n",
              "      <td>0.0</td>\n",
              "      <td>4.0</td>\n",
              "      <td>32.0</td>\n",
              "    </tr>\n",
              "    <tr>\n",
              "      <th>4</th>\n",
              "      <td>neg</td>\n",
              "      <td>60874</td>\n",
              "      <td>NaN</td>\n",
              "      <td>1.368000e+03</td>\n",
              "      <td>458.0</td>\n",
              "      <td>0.0</td>\n",
              "      <td>0.0</td>\n",
              "      <td>0.0</td>\n",
              "      <td>0.0</td>\n",
              "      <td>0.0</td>\n",
              "      <td>...</td>\n",
              "      <td>622012.0</td>\n",
              "      <td>229790.0</td>\n",
              "      <td>405298.0</td>\n",
              "      <td>347188.0</td>\n",
              "      <td>286954.0</td>\n",
              "      <td>311560.0</td>\n",
              "      <td>433954.0</td>\n",
              "      <td>1218.0</td>\n",
              "      <td>0.0</td>\n",
              "      <td>0.0</td>\n",
              "    </tr>\n",
              "    <tr>\n",
              "      <th>...</th>\n",
              "      <td>...</td>\n",
              "      <td>...</td>\n",
              "      <td>...</td>\n",
              "      <td>...</td>\n",
              "      <td>...</td>\n",
              "      <td>...</td>\n",
              "      <td>...</td>\n",
              "      <td>...</td>\n",
              "      <td>...</td>\n",
              "      <td>...</td>\n",
              "      <td>...</td>\n",
              "      <td>...</td>\n",
              "      <td>...</td>\n",
              "      <td>...</td>\n",
              "      <td>...</td>\n",
              "      <td>...</td>\n",
              "      <td>...</td>\n",
              "      <td>...</td>\n",
              "      <td>...</td>\n",
              "      <td>...</td>\n",
              "      <td>...</td>\n",
              "    </tr>\n",
              "    <tr>\n",
              "      <th>59995</th>\n",
              "      <td>neg</td>\n",
              "      <td>153002</td>\n",
              "      <td>NaN</td>\n",
              "      <td>6.640000e+02</td>\n",
              "      <td>186.0</td>\n",
              "      <td>0.0</td>\n",
              "      <td>0.0</td>\n",
              "      <td>0.0</td>\n",
              "      <td>0.0</td>\n",
              "      <td>0.0</td>\n",
              "      <td>...</td>\n",
              "      <td>998500.0</td>\n",
              "      <td>566884.0</td>\n",
              "      <td>1290398.0</td>\n",
              "      <td>1218244.0</td>\n",
              "      <td>1019768.0</td>\n",
              "      <td>717762.0</td>\n",
              "      <td>898642.0</td>\n",
              "      <td>28588.0</td>\n",
              "      <td>0.0</td>\n",
              "      <td>0.0</td>\n",
              "    </tr>\n",
              "    <tr>\n",
              "      <th>59996</th>\n",
              "      <td>neg</td>\n",
              "      <td>2286</td>\n",
              "      <td>NaN</td>\n",
              "      <td>2.130707e+09</td>\n",
              "      <td>224.0</td>\n",
              "      <td>0.0</td>\n",
              "      <td>0.0</td>\n",
              "      <td>0.0</td>\n",
              "      <td>0.0</td>\n",
              "      <td>0.0</td>\n",
              "      <td>...</td>\n",
              "      <td>10578.0</td>\n",
              "      <td>6760.0</td>\n",
              "      <td>21126.0</td>\n",
              "      <td>68424.0</td>\n",
              "      <td>136.0</td>\n",
              "      <td>0.0</td>\n",
              "      <td>0.0</td>\n",
              "      <td>0.0</td>\n",
              "      <td>0.0</td>\n",
              "      <td>0.0</td>\n",
              "    </tr>\n",
              "    <tr>\n",
              "      <th>59997</th>\n",
              "      <td>neg</td>\n",
              "      <td>112</td>\n",
              "      <td>0.0</td>\n",
              "      <td>2.130706e+09</td>\n",
              "      <td>18.0</td>\n",
              "      <td>0.0</td>\n",
              "      <td>0.0</td>\n",
              "      <td>0.0</td>\n",
              "      <td>0.0</td>\n",
              "      <td>0.0</td>\n",
              "      <td>...</td>\n",
              "      <td>792.0</td>\n",
              "      <td>386.0</td>\n",
              "      <td>452.0</td>\n",
              "      <td>144.0</td>\n",
              "      <td>146.0</td>\n",
              "      <td>2622.0</td>\n",
              "      <td>0.0</td>\n",
              "      <td>0.0</td>\n",
              "      <td>0.0</td>\n",
              "      <td>0.0</td>\n",
              "    </tr>\n",
              "    <tr>\n",
              "      <th>59998</th>\n",
              "      <td>neg</td>\n",
              "      <td>80292</td>\n",
              "      <td>NaN</td>\n",
              "      <td>2.130706e+09</td>\n",
              "      <td>494.0</td>\n",
              "      <td>0.0</td>\n",
              "      <td>0.0</td>\n",
              "      <td>0.0</td>\n",
              "      <td>0.0</td>\n",
              "      <td>0.0</td>\n",
              "      <td>...</td>\n",
              "      <td>699352.0</td>\n",
              "      <td>222654.0</td>\n",
              "      <td>347378.0</td>\n",
              "      <td>225724.0</td>\n",
              "      <td>194440.0</td>\n",
              "      <td>165070.0</td>\n",
              "      <td>802280.0</td>\n",
              "      <td>388422.0</td>\n",
              "      <td>0.0</td>\n",
              "      <td>0.0</td>\n",
              "    </tr>\n",
              "    <tr>\n",
              "      <th>59999</th>\n",
              "      <td>neg</td>\n",
              "      <td>40222</td>\n",
              "      <td>NaN</td>\n",
              "      <td>6.980000e+02</td>\n",
              "      <td>628.0</td>\n",
              "      <td>0.0</td>\n",
              "      <td>0.0</td>\n",
              "      <td>0.0</td>\n",
              "      <td>0.0</td>\n",
              "      <td>0.0</td>\n",
              "      <td>...</td>\n",
              "      <td>440066.0</td>\n",
              "      <td>183200.0</td>\n",
              "      <td>344546.0</td>\n",
              "      <td>254068.0</td>\n",
              "      <td>225148.0</td>\n",
              "      <td>158304.0</td>\n",
              "      <td>170384.0</td>\n",
              "      <td>158.0</td>\n",
              "      <td>0.0</td>\n",
              "      <td>0.0</td>\n",
              "    </tr>\n",
              "  </tbody>\n",
              "</table>\n",
              "<p>60000 rows × 171 columns</p>\n",
              "</div>\n",
              "      <button class=\"colab-df-convert\" onclick=\"convertToInteractive('df-f199c36c-d1bc-454e-85db-6533661844de')\"\n",
              "              title=\"Convert this dataframe to an interactive table.\"\n",
              "              style=\"display:none;\">\n",
              "        \n",
              "  <svg xmlns=\"http://www.w3.org/2000/svg\" height=\"24px\"viewBox=\"0 0 24 24\"\n",
              "       width=\"24px\">\n",
              "    <path d=\"M0 0h24v24H0V0z\" fill=\"none\"/>\n",
              "    <path d=\"M18.56 5.44l.94 2.06.94-2.06 2.06-.94-2.06-.94-.94-2.06-.94 2.06-2.06.94zm-11 1L8.5 8.5l.94-2.06 2.06-.94-2.06-.94L8.5 2.5l-.94 2.06-2.06.94zm10 10l.94 2.06.94-2.06 2.06-.94-2.06-.94-.94-2.06-.94 2.06-2.06.94z\"/><path d=\"M17.41 7.96l-1.37-1.37c-.4-.4-.92-.59-1.43-.59-.52 0-1.04.2-1.43.59L10.3 9.45l-7.72 7.72c-.78.78-.78 2.05 0 2.83L4 21.41c.39.39.9.59 1.41.59.51 0 1.02-.2 1.41-.59l7.78-7.78 2.81-2.81c.8-.78.8-2.07 0-2.86zM5.41 20L4 18.59l7.72-7.72 1.47 1.35L5.41 20z\"/>\n",
              "  </svg>\n",
              "      </button>\n",
              "      \n",
              "  <style>\n",
              "    .colab-df-container {\n",
              "      display:flex;\n",
              "      flex-wrap:wrap;\n",
              "      gap: 12px;\n",
              "    }\n",
              "\n",
              "    .colab-df-convert {\n",
              "      background-color: #E8F0FE;\n",
              "      border: none;\n",
              "      border-radius: 50%;\n",
              "      cursor: pointer;\n",
              "      display: none;\n",
              "      fill: #1967D2;\n",
              "      height: 32px;\n",
              "      padding: 0 0 0 0;\n",
              "      width: 32px;\n",
              "    }\n",
              "\n",
              "    .colab-df-convert:hover {\n",
              "      background-color: #E2EBFA;\n",
              "      box-shadow: 0px 1px 2px rgba(60, 64, 67, 0.3), 0px 1px 3px 1px rgba(60, 64, 67, 0.15);\n",
              "      fill: #174EA6;\n",
              "    }\n",
              "\n",
              "    [theme=dark] .colab-df-convert {\n",
              "      background-color: #3B4455;\n",
              "      fill: #D2E3FC;\n",
              "    }\n",
              "\n",
              "    [theme=dark] .colab-df-convert:hover {\n",
              "      background-color: #434B5C;\n",
              "      box-shadow: 0px 1px 3px 1px rgba(0, 0, 0, 0.15);\n",
              "      filter: drop-shadow(0px 1px 2px rgba(0, 0, 0, 0.3));\n",
              "      fill: #FFFFFF;\n",
              "    }\n",
              "  </style>\n",
              "\n",
              "      <script>\n",
              "        const buttonEl =\n",
              "          document.querySelector('#df-f199c36c-d1bc-454e-85db-6533661844de button.colab-df-convert');\n",
              "        buttonEl.style.display =\n",
              "          google.colab.kernel.accessAllowed ? 'block' : 'none';\n",
              "\n",
              "        async function convertToInteractive(key) {\n",
              "          const element = document.querySelector('#df-f199c36c-d1bc-454e-85db-6533661844de');\n",
              "          const dataTable =\n",
              "            await google.colab.kernel.invokeFunction('convertToInteractive',\n",
              "                                                     [key], {});\n",
              "          if (!dataTable) return;\n",
              "\n",
              "          const docLinkHtml = 'Like what you see? Visit the ' +\n",
              "            '<a target=\"_blank\" href=https://colab.research.google.com/notebooks/data_table.ipynb>data table notebook</a>'\n",
              "            + ' to learn more about interactive tables.';\n",
              "          element.innerHTML = '';\n",
              "          dataTable['output_type'] = 'display_data';\n",
              "          await google.colab.output.renderOutput(dataTable, element);\n",
              "          const docLink = document.createElement('div');\n",
              "          docLink.innerHTML = docLinkHtml;\n",
              "          element.appendChild(docLink);\n",
              "        }\n",
              "      </script>\n",
              "    </div>\n",
              "  </div>\n",
              "  "
            ]
          },
          "metadata": {},
          "execution_count": 71
        }
      ]
    },
    {
      "cell_type": "markdown",
      "source": [
        "### Training Dataset"
      ],
      "metadata": {
        "id": "1_RhBDGSu-Fy"
      }
    },
    {
      "cell_type": "markdown",
      "source": [
        "#### Handling Missing Values"
      ],
      "metadata": {
        "id": "fAbJXl_De6NK"
      }
    },
    {
      "cell_type": "code",
      "source": [
        "Dataset_training.isnull().sum()"
      ],
      "metadata": {
        "colab": {
          "base_uri": "https://localhost:8080/"
        },
        "id": "vmxnnzwTE9n_",
        "outputId": "9a350353-1ed1-4837-b0e5-b78890b4d83b"
      },
      "execution_count": 72,
      "outputs": [
        {
          "output_type": "execute_result",
          "data": {
            "text/plain": [
              "class         0\n",
              "aa_000        0\n",
              "ab_000    46329\n",
              "ac_000     3335\n",
              "ad_000    14861\n",
              "          ...  \n",
              "ee_007      671\n",
              "ee_008      671\n",
              "ee_009      671\n",
              "ef_000     2724\n",
              "eg_000     2723\n",
              "Length: 171, dtype: int64"
            ]
          },
          "metadata": {},
          "execution_count": 72
        }
      ]
    },
    {
      "cell_type": "code",
      "source": [
        "Dataset_training.isnull().sum().max()"
      ],
      "metadata": {
        "colab": {
          "base_uri": "https://localhost:8080/"
        },
        "id": "TleybSU_Ev4S",
        "outputId": "85c492bc-9d12-4c6c-a265-ac4ba61d9d41"
      },
      "execution_count": 73,
      "outputs": [
        {
          "output_type": "execute_result",
          "data": {
            "text/plain": [
              "49264"
            ]
          },
          "metadata": {},
          "execution_count": 73
        }
      ]
    },
    {
      "cell_type": "code",
      "source": [
        "X = Dataset_training.copy()"
      ],
      "metadata": {
        "id": "kpaxseGMFu2a"
      },
      "execution_count": 74,
      "outputs": []
    },
    {
      "cell_type": "markdown",
      "source": [
        "First, let's try to drop every row with a nan value."
      ],
      "metadata": {
        "id": "J0ENi3SVe_4j"
      }
    },
    {
      "cell_type": "code",
      "source": [
        "X.dropna() #We lose to much data"
      ],
      "metadata": {
        "colab": {
          "base_uri": "https://localhost:8080/",
          "height": 488
        },
        "id": "yy09Cdu8Fxkx",
        "outputId": "fd6c8e65-43c8-4500-9a50-987a11898393"
      },
      "execution_count": 75,
      "outputs": [
        {
          "output_type": "execute_result",
          "data": {
            "text/plain": [
              "      class  aa_000  ab_000  ac_000  ad_000  ae_000  af_000  ag_000    ag_001  \\\n",
              "16      neg   31300     0.0   784.0   740.0     0.0     0.0     0.0       0.0   \n",
              "179     neg   97000     0.0   378.0   160.0     0.0     0.0     0.0       0.0   \n",
              "225     neg  124656     2.0   278.0   170.0     0.0     0.0     0.0       0.0   \n",
              "394     pos  281324     2.0  3762.0  2346.0     0.0     0.0  4808.0  215720.0   \n",
              "413     pos   43482     0.0  1534.0  1388.0     0.0     0.0     0.0       0.0   \n",
              "...     ...     ...     ...     ...     ...     ...     ...     ...       ...   \n",
              "59432   neg  118028     0.0   740.0   714.0   618.0   690.0     0.0       0.0   \n",
              "59562   neg  229916     0.0   616.0     0.0     0.0     0.0     0.0       0.0   \n",
              "59843   neg  224084     0.0   912.0   766.0     0.0     0.0     0.0       0.0   \n",
              "59870   neg  197332     0.0   658.0   616.0   216.0   346.0     0.0       0.0   \n",
              "59950   neg   76812     0.0   376.0   340.0     0.0     0.0     0.0       0.0   \n",
              "\n",
              "         ag_002  ...     ee_002    ee_003    ee_004     ee_005     ee_006  \\\n",
              "16          0.0  ...   798872.0  112724.0   51736.0     7054.0     6628.0   \n",
              "179         0.0  ...  1078982.0  313334.0  511330.0   552328.0   871528.0   \n",
              "225         0.0  ...  1205696.0  866148.0  697610.0   700400.0  1900386.0   \n",
              "394    967572.0  ...   624606.0  269976.0  638838.0  1358354.0   819918.0   \n",
              "413     40024.0  ...   497196.0  121166.0  202272.0   232636.0   645690.0   \n",
              "...         ...  ...        ...       ...       ...        ...        ...   \n",
              "59432       0.0  ...   838952.0  631338.0  541036.0  1285274.0  1832658.0   \n",
              "59562       0.0  ...        0.0       0.0       0.0        0.0        0.0   \n",
              "59843       0.0  ...   413576.0  209524.0  469894.0  2233992.0  5933084.0   \n",
              "59870       0.0  ...    73940.0   49896.0   90454.0   575264.0   104600.0   \n",
              "59950    5744.0  ...  1487016.0   60100.0   29754.0     4200.0     4070.0   \n",
              "\n",
              "         ee_007   ee_008  ee_009  ef_000  eg_000  \n",
              "16      27600.0      2.0     2.0     0.0     0.0  \n",
              "179    871104.0   1980.0    42.0     0.0     0.0  \n",
              "225    437532.0   3680.0     0.0     0.0     0.0  \n",
              "394    262804.0   2824.0     0.0     0.0     0.0  \n",
              "413        50.0      0.0     0.0     0.0     0.0  \n",
              "...         ...      ...     ...     ...     ...  \n",
              "59432  165838.0   3022.0     0.0     0.0     0.0  \n",
              "59562       0.0      0.0     0.0     0.0     0.0  \n",
              "59843  364450.0  12422.0     0.0     0.0     0.0  \n",
              "59870   10352.0     36.0     0.0     0.0     0.0  \n",
              "59950    9236.0      0.0     0.0     0.0     0.0  \n",
              "\n",
              "[591 rows x 171 columns]"
            ],
            "text/html": [
              "\n",
              "  <div id=\"df-1ea5a496-aafa-46bb-aff7-3ee920b195b5\">\n",
              "    <div class=\"colab-df-container\">\n",
              "      <div>\n",
              "<style scoped>\n",
              "    .dataframe tbody tr th:only-of-type {\n",
              "        vertical-align: middle;\n",
              "    }\n",
              "\n",
              "    .dataframe tbody tr th {\n",
              "        vertical-align: top;\n",
              "    }\n",
              "\n",
              "    .dataframe thead th {\n",
              "        text-align: right;\n",
              "    }\n",
              "</style>\n",
              "<table border=\"1\" class=\"dataframe\">\n",
              "  <thead>\n",
              "    <tr style=\"text-align: right;\">\n",
              "      <th></th>\n",
              "      <th>class</th>\n",
              "      <th>aa_000</th>\n",
              "      <th>ab_000</th>\n",
              "      <th>ac_000</th>\n",
              "      <th>ad_000</th>\n",
              "      <th>ae_000</th>\n",
              "      <th>af_000</th>\n",
              "      <th>ag_000</th>\n",
              "      <th>ag_001</th>\n",
              "      <th>ag_002</th>\n",
              "      <th>...</th>\n",
              "      <th>ee_002</th>\n",
              "      <th>ee_003</th>\n",
              "      <th>ee_004</th>\n",
              "      <th>ee_005</th>\n",
              "      <th>ee_006</th>\n",
              "      <th>ee_007</th>\n",
              "      <th>ee_008</th>\n",
              "      <th>ee_009</th>\n",
              "      <th>ef_000</th>\n",
              "      <th>eg_000</th>\n",
              "    </tr>\n",
              "  </thead>\n",
              "  <tbody>\n",
              "    <tr>\n",
              "      <th>16</th>\n",
              "      <td>neg</td>\n",
              "      <td>31300</td>\n",
              "      <td>0.0</td>\n",
              "      <td>784.0</td>\n",
              "      <td>740.0</td>\n",
              "      <td>0.0</td>\n",
              "      <td>0.0</td>\n",
              "      <td>0.0</td>\n",
              "      <td>0.0</td>\n",
              "      <td>0.0</td>\n",
              "      <td>...</td>\n",
              "      <td>798872.0</td>\n",
              "      <td>112724.0</td>\n",
              "      <td>51736.0</td>\n",
              "      <td>7054.0</td>\n",
              "      <td>6628.0</td>\n",
              "      <td>27600.0</td>\n",
              "      <td>2.0</td>\n",
              "      <td>2.0</td>\n",
              "      <td>0.0</td>\n",
              "      <td>0.0</td>\n",
              "    </tr>\n",
              "    <tr>\n",
              "      <th>179</th>\n",
              "      <td>neg</td>\n",
              "      <td>97000</td>\n",
              "      <td>0.0</td>\n",
              "      <td>378.0</td>\n",
              "      <td>160.0</td>\n",
              "      <td>0.0</td>\n",
              "      <td>0.0</td>\n",
              "      <td>0.0</td>\n",
              "      <td>0.0</td>\n",
              "      <td>0.0</td>\n",
              "      <td>...</td>\n",
              "      <td>1078982.0</td>\n",
              "      <td>313334.0</td>\n",
              "      <td>511330.0</td>\n",
              "      <td>552328.0</td>\n",
              "      <td>871528.0</td>\n",
              "      <td>871104.0</td>\n",
              "      <td>1980.0</td>\n",
              "      <td>42.0</td>\n",
              "      <td>0.0</td>\n",
              "      <td>0.0</td>\n",
              "    </tr>\n",
              "    <tr>\n",
              "      <th>225</th>\n",
              "      <td>neg</td>\n",
              "      <td>124656</td>\n",
              "      <td>2.0</td>\n",
              "      <td>278.0</td>\n",
              "      <td>170.0</td>\n",
              "      <td>0.0</td>\n",
              "      <td>0.0</td>\n",
              "      <td>0.0</td>\n",
              "      <td>0.0</td>\n",
              "      <td>0.0</td>\n",
              "      <td>...</td>\n",
              "      <td>1205696.0</td>\n",
              "      <td>866148.0</td>\n",
              "      <td>697610.0</td>\n",
              "      <td>700400.0</td>\n",
              "      <td>1900386.0</td>\n",
              "      <td>437532.0</td>\n",
              "      <td>3680.0</td>\n",
              "      <td>0.0</td>\n",
              "      <td>0.0</td>\n",
              "      <td>0.0</td>\n",
              "    </tr>\n",
              "    <tr>\n",
              "      <th>394</th>\n",
              "      <td>pos</td>\n",
              "      <td>281324</td>\n",
              "      <td>2.0</td>\n",
              "      <td>3762.0</td>\n",
              "      <td>2346.0</td>\n",
              "      <td>0.0</td>\n",
              "      <td>0.0</td>\n",
              "      <td>4808.0</td>\n",
              "      <td>215720.0</td>\n",
              "      <td>967572.0</td>\n",
              "      <td>...</td>\n",
              "      <td>624606.0</td>\n",
              "      <td>269976.0</td>\n",
              "      <td>638838.0</td>\n",
              "      <td>1358354.0</td>\n",
              "      <td>819918.0</td>\n",
              "      <td>262804.0</td>\n",
              "      <td>2824.0</td>\n",
              "      <td>0.0</td>\n",
              "      <td>0.0</td>\n",
              "      <td>0.0</td>\n",
              "    </tr>\n",
              "    <tr>\n",
              "      <th>413</th>\n",
              "      <td>pos</td>\n",
              "      <td>43482</td>\n",
              "      <td>0.0</td>\n",
              "      <td>1534.0</td>\n",
              "      <td>1388.0</td>\n",
              "      <td>0.0</td>\n",
              "      <td>0.0</td>\n",
              "      <td>0.0</td>\n",
              "      <td>0.0</td>\n",
              "      <td>40024.0</td>\n",
              "      <td>...</td>\n",
              "      <td>497196.0</td>\n",
              "      <td>121166.0</td>\n",
              "      <td>202272.0</td>\n",
              "      <td>232636.0</td>\n",
              "      <td>645690.0</td>\n",
              "      <td>50.0</td>\n",
              "      <td>0.0</td>\n",
              "      <td>0.0</td>\n",
              "      <td>0.0</td>\n",
              "      <td>0.0</td>\n",
              "    </tr>\n",
              "    <tr>\n",
              "      <th>...</th>\n",
              "      <td>...</td>\n",
              "      <td>...</td>\n",
              "      <td>...</td>\n",
              "      <td>...</td>\n",
              "      <td>...</td>\n",
              "      <td>...</td>\n",
              "      <td>...</td>\n",
              "      <td>...</td>\n",
              "      <td>...</td>\n",
              "      <td>...</td>\n",
              "      <td>...</td>\n",
              "      <td>...</td>\n",
              "      <td>...</td>\n",
              "      <td>...</td>\n",
              "      <td>...</td>\n",
              "      <td>...</td>\n",
              "      <td>...</td>\n",
              "      <td>...</td>\n",
              "      <td>...</td>\n",
              "      <td>...</td>\n",
              "      <td>...</td>\n",
              "    </tr>\n",
              "    <tr>\n",
              "      <th>59432</th>\n",
              "      <td>neg</td>\n",
              "      <td>118028</td>\n",
              "      <td>0.0</td>\n",
              "      <td>740.0</td>\n",
              "      <td>714.0</td>\n",
              "      <td>618.0</td>\n",
              "      <td>690.0</td>\n",
              "      <td>0.0</td>\n",
              "      <td>0.0</td>\n",
              "      <td>0.0</td>\n",
              "      <td>...</td>\n",
              "      <td>838952.0</td>\n",
              "      <td>631338.0</td>\n",
              "      <td>541036.0</td>\n",
              "      <td>1285274.0</td>\n",
              "      <td>1832658.0</td>\n",
              "      <td>165838.0</td>\n",
              "      <td>3022.0</td>\n",
              "      <td>0.0</td>\n",
              "      <td>0.0</td>\n",
              "      <td>0.0</td>\n",
              "    </tr>\n",
              "    <tr>\n",
              "      <th>59562</th>\n",
              "      <td>neg</td>\n",
              "      <td>229916</td>\n",
              "      <td>0.0</td>\n",
              "      <td>616.0</td>\n",
              "      <td>0.0</td>\n",
              "      <td>0.0</td>\n",
              "      <td>0.0</td>\n",
              "      <td>0.0</td>\n",
              "      <td>0.0</td>\n",
              "      <td>0.0</td>\n",
              "      <td>...</td>\n",
              "      <td>0.0</td>\n",
              "      <td>0.0</td>\n",
              "      <td>0.0</td>\n",
              "      <td>0.0</td>\n",
              "      <td>0.0</td>\n",
              "      <td>0.0</td>\n",
              "      <td>0.0</td>\n",
              "      <td>0.0</td>\n",
              "      <td>0.0</td>\n",
              "      <td>0.0</td>\n",
              "    </tr>\n",
              "    <tr>\n",
              "      <th>59843</th>\n",
              "      <td>neg</td>\n",
              "      <td>224084</td>\n",
              "      <td>0.0</td>\n",
              "      <td>912.0</td>\n",
              "      <td>766.0</td>\n",
              "      <td>0.0</td>\n",
              "      <td>0.0</td>\n",
              "      <td>0.0</td>\n",
              "      <td>0.0</td>\n",
              "      <td>0.0</td>\n",
              "      <td>...</td>\n",
              "      <td>413576.0</td>\n",
              "      <td>209524.0</td>\n",
              "      <td>469894.0</td>\n",
              "      <td>2233992.0</td>\n",
              "      <td>5933084.0</td>\n",
              "      <td>364450.0</td>\n",
              "      <td>12422.0</td>\n",
              "      <td>0.0</td>\n",
              "      <td>0.0</td>\n",
              "      <td>0.0</td>\n",
              "    </tr>\n",
              "    <tr>\n",
              "      <th>59870</th>\n",
              "      <td>neg</td>\n",
              "      <td>197332</td>\n",
              "      <td>0.0</td>\n",
              "      <td>658.0</td>\n",
              "      <td>616.0</td>\n",
              "      <td>216.0</td>\n",
              "      <td>346.0</td>\n",
              "      <td>0.0</td>\n",
              "      <td>0.0</td>\n",
              "      <td>0.0</td>\n",
              "      <td>...</td>\n",
              "      <td>73940.0</td>\n",
              "      <td>49896.0</td>\n",
              "      <td>90454.0</td>\n",
              "      <td>575264.0</td>\n",
              "      <td>104600.0</td>\n",
              "      <td>10352.0</td>\n",
              "      <td>36.0</td>\n",
              "      <td>0.0</td>\n",
              "      <td>0.0</td>\n",
              "      <td>0.0</td>\n",
              "    </tr>\n",
              "    <tr>\n",
              "      <th>59950</th>\n",
              "      <td>neg</td>\n",
              "      <td>76812</td>\n",
              "      <td>0.0</td>\n",
              "      <td>376.0</td>\n",
              "      <td>340.0</td>\n",
              "      <td>0.0</td>\n",
              "      <td>0.0</td>\n",
              "      <td>0.0</td>\n",
              "      <td>0.0</td>\n",
              "      <td>5744.0</td>\n",
              "      <td>...</td>\n",
              "      <td>1487016.0</td>\n",
              "      <td>60100.0</td>\n",
              "      <td>29754.0</td>\n",
              "      <td>4200.0</td>\n",
              "      <td>4070.0</td>\n",
              "      <td>9236.0</td>\n",
              "      <td>0.0</td>\n",
              "      <td>0.0</td>\n",
              "      <td>0.0</td>\n",
              "      <td>0.0</td>\n",
              "    </tr>\n",
              "  </tbody>\n",
              "</table>\n",
              "<p>591 rows × 171 columns</p>\n",
              "</div>\n",
              "      <button class=\"colab-df-convert\" onclick=\"convertToInteractive('df-1ea5a496-aafa-46bb-aff7-3ee920b195b5')\"\n",
              "              title=\"Convert this dataframe to an interactive table.\"\n",
              "              style=\"display:none;\">\n",
              "        \n",
              "  <svg xmlns=\"http://www.w3.org/2000/svg\" height=\"24px\"viewBox=\"0 0 24 24\"\n",
              "       width=\"24px\">\n",
              "    <path d=\"M0 0h24v24H0V0z\" fill=\"none\"/>\n",
              "    <path d=\"M18.56 5.44l.94 2.06.94-2.06 2.06-.94-2.06-.94-.94-2.06-.94 2.06-2.06.94zm-11 1L8.5 8.5l.94-2.06 2.06-.94-2.06-.94L8.5 2.5l-.94 2.06-2.06.94zm10 10l.94 2.06.94-2.06 2.06-.94-2.06-.94-.94-2.06-.94 2.06-2.06.94z\"/><path d=\"M17.41 7.96l-1.37-1.37c-.4-.4-.92-.59-1.43-.59-.52 0-1.04.2-1.43.59L10.3 9.45l-7.72 7.72c-.78.78-.78 2.05 0 2.83L4 21.41c.39.39.9.59 1.41.59.51 0 1.02-.2 1.41-.59l7.78-7.78 2.81-2.81c.8-.78.8-2.07 0-2.86zM5.41 20L4 18.59l7.72-7.72 1.47 1.35L5.41 20z\"/>\n",
              "  </svg>\n",
              "      </button>\n",
              "      \n",
              "  <style>\n",
              "    .colab-df-container {\n",
              "      display:flex;\n",
              "      flex-wrap:wrap;\n",
              "      gap: 12px;\n",
              "    }\n",
              "\n",
              "    .colab-df-convert {\n",
              "      background-color: #E8F0FE;\n",
              "      border: none;\n",
              "      border-radius: 50%;\n",
              "      cursor: pointer;\n",
              "      display: none;\n",
              "      fill: #1967D2;\n",
              "      height: 32px;\n",
              "      padding: 0 0 0 0;\n",
              "      width: 32px;\n",
              "    }\n",
              "\n",
              "    .colab-df-convert:hover {\n",
              "      background-color: #E2EBFA;\n",
              "      box-shadow: 0px 1px 2px rgba(60, 64, 67, 0.3), 0px 1px 3px 1px rgba(60, 64, 67, 0.15);\n",
              "      fill: #174EA6;\n",
              "    }\n",
              "\n",
              "    [theme=dark] .colab-df-convert {\n",
              "      background-color: #3B4455;\n",
              "      fill: #D2E3FC;\n",
              "    }\n",
              "\n",
              "    [theme=dark] .colab-df-convert:hover {\n",
              "      background-color: #434B5C;\n",
              "      box-shadow: 0px 1px 3px 1px rgba(0, 0, 0, 0.15);\n",
              "      filter: drop-shadow(0px 1px 2px rgba(0, 0, 0, 0.3));\n",
              "      fill: #FFFFFF;\n",
              "    }\n",
              "  </style>\n",
              "\n",
              "      <script>\n",
              "        const buttonEl =\n",
              "          document.querySelector('#df-1ea5a496-aafa-46bb-aff7-3ee920b195b5 button.colab-df-convert');\n",
              "        buttonEl.style.display =\n",
              "          google.colab.kernel.accessAllowed ? 'block' : 'none';\n",
              "\n",
              "        async function convertToInteractive(key) {\n",
              "          const element = document.querySelector('#df-1ea5a496-aafa-46bb-aff7-3ee920b195b5');\n",
              "          const dataTable =\n",
              "            await google.colab.kernel.invokeFunction('convertToInteractive',\n",
              "                                                     [key], {});\n",
              "          if (!dataTable) return;\n",
              "\n",
              "          const docLinkHtml = 'Like what you see? Visit the ' +\n",
              "            '<a target=\"_blank\" href=https://colab.research.google.com/notebooks/data_table.ipynb>data table notebook</a>'\n",
              "            + ' to learn more about interactive tables.';\n",
              "          element.innerHTML = '';\n",
              "          dataTable['output_type'] = 'display_data';\n",
              "          await google.colab.output.renderOutput(dataTable, element);\n",
              "          const docLink = document.createElement('div');\n",
              "          docLink.innerHTML = docLinkHtml;\n",
              "          element.appendChild(docLink);\n",
              "        }\n",
              "      </script>\n",
              "    </div>\n",
              "  </div>\n",
              "  "
            ]
          },
          "metadata": {},
          "execution_count": 75
        }
      ]
    },
    {
      "cell_type": "code",
      "source": [
        "X = Dataset_training.copy() #Let's do another copy"
      ],
      "metadata": {
        "id": "GOgAmPaWGKTx"
      },
      "execution_count": 76,
      "outputs": []
    },
    {
      "cell_type": "code",
      "source": [
        "X['ab_000'] = X['ab_000'].replace(np.NaN, X['ab_000'].mean()) "
      ],
      "metadata": {
        "id": "m1rnpxgLGeCP"
      },
      "execution_count": 77,
      "outputs": []
    },
    {
      "cell_type": "code",
      "source": [
        "X['ab_000'] #Too much values replaced by the mean"
      ],
      "metadata": {
        "colab": {
          "base_uri": "https://localhost:8080/"
        },
        "id": "hT6oEk4eHQsZ",
        "outputId": "5a913e54-7a65-43c6-cce7-cce7261cfe2a"
      },
      "execution_count": 78,
      "outputs": [
        {
          "output_type": "execute_result",
          "data": {
            "text/plain": [
              "0        0.713189\n",
              "1        0.713189\n",
              "2        0.713189\n",
              "3        0.000000\n",
              "4        0.713189\n",
              "           ...   \n",
              "59995    0.713189\n",
              "59996    0.713189\n",
              "59997    0.000000\n",
              "59998    0.713189\n",
              "59999    0.713189\n",
              "Name: ab_000, Length: 60000, dtype: float64"
            ]
          },
          "metadata": {},
          "execution_count": 78
        }
      ]
    },
    {
      "cell_type": "code",
      "source": [
        "X = X.drop(['ab_000'], axis=1) #it's better to drop it"
      ],
      "metadata": {
        "id": "0f9O0P6CGo9q"
      },
      "execution_count": 79,
      "outputs": []
    },
    {
      "cell_type": "code",
      "source": [
        "X"
      ],
      "metadata": {
        "colab": {
          "base_uri": "https://localhost:8080/",
          "height": 488
        },
        "id": "eR1Wpr4dbiqc",
        "outputId": "7a38705b-e2ba-4105-c715-e8bd7d7ad758"
      },
      "execution_count": 80,
      "outputs": [
        {
          "output_type": "execute_result",
          "data": {
            "text/plain": [
              "      class  aa_000        ac_000  ad_000  ae_000  af_000  ag_000  ag_001  \\\n",
              "0       neg   76698  2.130706e+09   280.0     0.0     0.0     0.0     0.0   \n",
              "1       neg   33058  0.000000e+00     NaN     0.0     0.0     0.0     0.0   \n",
              "2       neg   41040  2.280000e+02   100.0     0.0     0.0     0.0     0.0   \n",
              "3       neg      12  7.000000e+01    66.0     0.0    10.0     0.0     0.0   \n",
              "4       neg   60874  1.368000e+03   458.0     0.0     0.0     0.0     0.0   \n",
              "...     ...     ...           ...     ...     ...     ...     ...     ...   \n",
              "59995   neg  153002  6.640000e+02   186.0     0.0     0.0     0.0     0.0   \n",
              "59996   neg    2286  2.130707e+09   224.0     0.0     0.0     0.0     0.0   \n",
              "59997   neg     112  2.130706e+09    18.0     0.0     0.0     0.0     0.0   \n",
              "59998   neg   80292  2.130706e+09   494.0     0.0     0.0     0.0     0.0   \n",
              "59999   neg   40222  6.980000e+02   628.0     0.0     0.0     0.0     0.0   \n",
              "\n",
              "       ag_002  ag_003  ...     ee_002    ee_003     ee_004     ee_005  \\\n",
              "0         0.0     0.0  ...  1240520.0  493384.0   721044.0   469792.0   \n",
              "1         0.0     0.0  ...   421400.0  178064.0   293306.0   245416.0   \n",
              "2         0.0     0.0  ...   277378.0  159812.0   423992.0   409564.0   \n",
              "3         0.0   318.0  ...      240.0      46.0       58.0       44.0   \n",
              "4         0.0     0.0  ...   622012.0  229790.0   405298.0   347188.0   \n",
              "...       ...     ...  ...        ...       ...        ...        ...   \n",
              "59995     0.0  2564.0  ...   998500.0  566884.0  1290398.0  1218244.0   \n",
              "59996     0.0     0.0  ...    10578.0    6760.0    21126.0    68424.0   \n",
              "59997     0.0     0.0  ...      792.0     386.0      452.0      144.0   \n",
              "59998     0.0     0.0  ...   699352.0  222654.0   347378.0   225724.0   \n",
              "59999     0.0     0.0  ...   440066.0  183200.0   344546.0   254068.0   \n",
              "\n",
              "          ee_006    ee_007    ee_008    ee_009  ef_000  eg_000  \n",
              "0       339156.0  157956.0   73224.0       0.0     0.0     0.0  \n",
              "1       133654.0   81140.0   97576.0    1500.0     0.0     0.0  \n",
              "2       320746.0  158022.0   95128.0     514.0     0.0     0.0  \n",
              "3           10.0       0.0       0.0       0.0     4.0    32.0  \n",
              "4       286954.0  311560.0  433954.0    1218.0     0.0     0.0  \n",
              "...          ...       ...       ...       ...     ...     ...  \n",
              "59995  1019768.0  717762.0  898642.0   28588.0     0.0     0.0  \n",
              "59996      136.0       0.0       0.0       0.0     0.0     0.0  \n",
              "59997      146.0    2622.0       0.0       0.0     0.0     0.0  \n",
              "59998   194440.0  165070.0  802280.0  388422.0     0.0     0.0  \n",
              "59999   225148.0  158304.0  170384.0     158.0     0.0     0.0  \n",
              "\n",
              "[60000 rows x 170 columns]"
            ],
            "text/html": [
              "\n",
              "  <div id=\"df-82a5c178-883d-457c-8fda-b445b5c7a034\">\n",
              "    <div class=\"colab-df-container\">\n",
              "      <div>\n",
              "<style scoped>\n",
              "    .dataframe tbody tr th:only-of-type {\n",
              "        vertical-align: middle;\n",
              "    }\n",
              "\n",
              "    .dataframe tbody tr th {\n",
              "        vertical-align: top;\n",
              "    }\n",
              "\n",
              "    .dataframe thead th {\n",
              "        text-align: right;\n",
              "    }\n",
              "</style>\n",
              "<table border=\"1\" class=\"dataframe\">\n",
              "  <thead>\n",
              "    <tr style=\"text-align: right;\">\n",
              "      <th></th>\n",
              "      <th>class</th>\n",
              "      <th>aa_000</th>\n",
              "      <th>ac_000</th>\n",
              "      <th>ad_000</th>\n",
              "      <th>ae_000</th>\n",
              "      <th>af_000</th>\n",
              "      <th>ag_000</th>\n",
              "      <th>ag_001</th>\n",
              "      <th>ag_002</th>\n",
              "      <th>ag_003</th>\n",
              "      <th>...</th>\n",
              "      <th>ee_002</th>\n",
              "      <th>ee_003</th>\n",
              "      <th>ee_004</th>\n",
              "      <th>ee_005</th>\n",
              "      <th>ee_006</th>\n",
              "      <th>ee_007</th>\n",
              "      <th>ee_008</th>\n",
              "      <th>ee_009</th>\n",
              "      <th>ef_000</th>\n",
              "      <th>eg_000</th>\n",
              "    </tr>\n",
              "  </thead>\n",
              "  <tbody>\n",
              "    <tr>\n",
              "      <th>0</th>\n",
              "      <td>neg</td>\n",
              "      <td>76698</td>\n",
              "      <td>2.130706e+09</td>\n",
              "      <td>280.0</td>\n",
              "      <td>0.0</td>\n",
              "      <td>0.0</td>\n",
              "      <td>0.0</td>\n",
              "      <td>0.0</td>\n",
              "      <td>0.0</td>\n",
              "      <td>0.0</td>\n",
              "      <td>...</td>\n",
              "      <td>1240520.0</td>\n",
              "      <td>493384.0</td>\n",
              "      <td>721044.0</td>\n",
              "      <td>469792.0</td>\n",
              "      <td>339156.0</td>\n",
              "      <td>157956.0</td>\n",
              "      <td>73224.0</td>\n",
              "      <td>0.0</td>\n",
              "      <td>0.0</td>\n",
              "      <td>0.0</td>\n",
              "    </tr>\n",
              "    <tr>\n",
              "      <th>1</th>\n",
              "      <td>neg</td>\n",
              "      <td>33058</td>\n",
              "      <td>0.000000e+00</td>\n",
              "      <td>NaN</td>\n",
              "      <td>0.0</td>\n",
              "      <td>0.0</td>\n",
              "      <td>0.0</td>\n",
              "      <td>0.0</td>\n",
              "      <td>0.0</td>\n",
              "      <td>0.0</td>\n",
              "      <td>...</td>\n",
              "      <td>421400.0</td>\n",
              "      <td>178064.0</td>\n",
              "      <td>293306.0</td>\n",
              "      <td>245416.0</td>\n",
              "      <td>133654.0</td>\n",
              "      <td>81140.0</td>\n",
              "      <td>97576.0</td>\n",
              "      <td>1500.0</td>\n",
              "      <td>0.0</td>\n",
              "      <td>0.0</td>\n",
              "    </tr>\n",
              "    <tr>\n",
              "      <th>2</th>\n",
              "      <td>neg</td>\n",
              "      <td>41040</td>\n",
              "      <td>2.280000e+02</td>\n",
              "      <td>100.0</td>\n",
              "      <td>0.0</td>\n",
              "      <td>0.0</td>\n",
              "      <td>0.0</td>\n",
              "      <td>0.0</td>\n",
              "      <td>0.0</td>\n",
              "      <td>0.0</td>\n",
              "      <td>...</td>\n",
              "      <td>277378.0</td>\n",
              "      <td>159812.0</td>\n",
              "      <td>423992.0</td>\n",
              "      <td>409564.0</td>\n",
              "      <td>320746.0</td>\n",
              "      <td>158022.0</td>\n",
              "      <td>95128.0</td>\n",
              "      <td>514.0</td>\n",
              "      <td>0.0</td>\n",
              "      <td>0.0</td>\n",
              "    </tr>\n",
              "    <tr>\n",
              "      <th>3</th>\n",
              "      <td>neg</td>\n",
              "      <td>12</td>\n",
              "      <td>7.000000e+01</td>\n",
              "      <td>66.0</td>\n",
              "      <td>0.0</td>\n",
              "      <td>10.0</td>\n",
              "      <td>0.0</td>\n",
              "      <td>0.0</td>\n",
              "      <td>0.0</td>\n",
              "      <td>318.0</td>\n",
              "      <td>...</td>\n",
              "      <td>240.0</td>\n",
              "      <td>46.0</td>\n",
              "      <td>58.0</td>\n",
              "      <td>44.0</td>\n",
              "      <td>10.0</td>\n",
              "      <td>0.0</td>\n",
              "      <td>0.0</td>\n",
              "      <td>0.0</td>\n",
              "      <td>4.0</td>\n",
              "      <td>32.0</td>\n",
              "    </tr>\n",
              "    <tr>\n",
              "      <th>4</th>\n",
              "      <td>neg</td>\n",
              "      <td>60874</td>\n",
              "      <td>1.368000e+03</td>\n",
              "      <td>458.0</td>\n",
              "      <td>0.0</td>\n",
              "      <td>0.0</td>\n",
              "      <td>0.0</td>\n",
              "      <td>0.0</td>\n",
              "      <td>0.0</td>\n",
              "      <td>0.0</td>\n",
              "      <td>...</td>\n",
              "      <td>622012.0</td>\n",
              "      <td>229790.0</td>\n",
              "      <td>405298.0</td>\n",
              "      <td>347188.0</td>\n",
              "      <td>286954.0</td>\n",
              "      <td>311560.0</td>\n",
              "      <td>433954.0</td>\n",
              "      <td>1218.0</td>\n",
              "      <td>0.0</td>\n",
              "      <td>0.0</td>\n",
              "    </tr>\n",
              "    <tr>\n",
              "      <th>...</th>\n",
              "      <td>...</td>\n",
              "      <td>...</td>\n",
              "      <td>...</td>\n",
              "      <td>...</td>\n",
              "      <td>...</td>\n",
              "      <td>...</td>\n",
              "      <td>...</td>\n",
              "      <td>...</td>\n",
              "      <td>...</td>\n",
              "      <td>...</td>\n",
              "      <td>...</td>\n",
              "      <td>...</td>\n",
              "      <td>...</td>\n",
              "      <td>...</td>\n",
              "      <td>...</td>\n",
              "      <td>...</td>\n",
              "      <td>...</td>\n",
              "      <td>...</td>\n",
              "      <td>...</td>\n",
              "      <td>...</td>\n",
              "      <td>...</td>\n",
              "    </tr>\n",
              "    <tr>\n",
              "      <th>59995</th>\n",
              "      <td>neg</td>\n",
              "      <td>153002</td>\n",
              "      <td>6.640000e+02</td>\n",
              "      <td>186.0</td>\n",
              "      <td>0.0</td>\n",
              "      <td>0.0</td>\n",
              "      <td>0.0</td>\n",
              "      <td>0.0</td>\n",
              "      <td>0.0</td>\n",
              "      <td>2564.0</td>\n",
              "      <td>...</td>\n",
              "      <td>998500.0</td>\n",
              "      <td>566884.0</td>\n",
              "      <td>1290398.0</td>\n",
              "      <td>1218244.0</td>\n",
              "      <td>1019768.0</td>\n",
              "      <td>717762.0</td>\n",
              "      <td>898642.0</td>\n",
              "      <td>28588.0</td>\n",
              "      <td>0.0</td>\n",
              "      <td>0.0</td>\n",
              "    </tr>\n",
              "    <tr>\n",
              "      <th>59996</th>\n",
              "      <td>neg</td>\n",
              "      <td>2286</td>\n",
              "      <td>2.130707e+09</td>\n",
              "      <td>224.0</td>\n",
              "      <td>0.0</td>\n",
              "      <td>0.0</td>\n",
              "      <td>0.0</td>\n",
              "      <td>0.0</td>\n",
              "      <td>0.0</td>\n",
              "      <td>0.0</td>\n",
              "      <td>...</td>\n",
              "      <td>10578.0</td>\n",
              "      <td>6760.0</td>\n",
              "      <td>21126.0</td>\n",
              "      <td>68424.0</td>\n",
              "      <td>136.0</td>\n",
              "      <td>0.0</td>\n",
              "      <td>0.0</td>\n",
              "      <td>0.0</td>\n",
              "      <td>0.0</td>\n",
              "      <td>0.0</td>\n",
              "    </tr>\n",
              "    <tr>\n",
              "      <th>59997</th>\n",
              "      <td>neg</td>\n",
              "      <td>112</td>\n",
              "      <td>2.130706e+09</td>\n",
              "      <td>18.0</td>\n",
              "      <td>0.0</td>\n",
              "      <td>0.0</td>\n",
              "      <td>0.0</td>\n",
              "      <td>0.0</td>\n",
              "      <td>0.0</td>\n",
              "      <td>0.0</td>\n",
              "      <td>...</td>\n",
              "      <td>792.0</td>\n",
              "      <td>386.0</td>\n",
              "      <td>452.0</td>\n",
              "      <td>144.0</td>\n",
              "      <td>146.0</td>\n",
              "      <td>2622.0</td>\n",
              "      <td>0.0</td>\n",
              "      <td>0.0</td>\n",
              "      <td>0.0</td>\n",
              "      <td>0.0</td>\n",
              "    </tr>\n",
              "    <tr>\n",
              "      <th>59998</th>\n",
              "      <td>neg</td>\n",
              "      <td>80292</td>\n",
              "      <td>2.130706e+09</td>\n",
              "      <td>494.0</td>\n",
              "      <td>0.0</td>\n",
              "      <td>0.0</td>\n",
              "      <td>0.0</td>\n",
              "      <td>0.0</td>\n",
              "      <td>0.0</td>\n",
              "      <td>0.0</td>\n",
              "      <td>...</td>\n",
              "      <td>699352.0</td>\n",
              "      <td>222654.0</td>\n",
              "      <td>347378.0</td>\n",
              "      <td>225724.0</td>\n",
              "      <td>194440.0</td>\n",
              "      <td>165070.0</td>\n",
              "      <td>802280.0</td>\n",
              "      <td>388422.0</td>\n",
              "      <td>0.0</td>\n",
              "      <td>0.0</td>\n",
              "    </tr>\n",
              "    <tr>\n",
              "      <th>59999</th>\n",
              "      <td>neg</td>\n",
              "      <td>40222</td>\n",
              "      <td>6.980000e+02</td>\n",
              "      <td>628.0</td>\n",
              "      <td>0.0</td>\n",
              "      <td>0.0</td>\n",
              "      <td>0.0</td>\n",
              "      <td>0.0</td>\n",
              "      <td>0.0</td>\n",
              "      <td>0.0</td>\n",
              "      <td>...</td>\n",
              "      <td>440066.0</td>\n",
              "      <td>183200.0</td>\n",
              "      <td>344546.0</td>\n",
              "      <td>254068.0</td>\n",
              "      <td>225148.0</td>\n",
              "      <td>158304.0</td>\n",
              "      <td>170384.0</td>\n",
              "      <td>158.0</td>\n",
              "      <td>0.0</td>\n",
              "      <td>0.0</td>\n",
              "    </tr>\n",
              "  </tbody>\n",
              "</table>\n",
              "<p>60000 rows × 170 columns</p>\n",
              "</div>\n",
              "      <button class=\"colab-df-convert\" onclick=\"convertToInteractive('df-82a5c178-883d-457c-8fda-b445b5c7a034')\"\n",
              "              title=\"Convert this dataframe to an interactive table.\"\n",
              "              style=\"display:none;\">\n",
              "        \n",
              "  <svg xmlns=\"http://www.w3.org/2000/svg\" height=\"24px\"viewBox=\"0 0 24 24\"\n",
              "       width=\"24px\">\n",
              "    <path d=\"M0 0h24v24H0V0z\" fill=\"none\"/>\n",
              "    <path d=\"M18.56 5.44l.94 2.06.94-2.06 2.06-.94-2.06-.94-.94-2.06-.94 2.06-2.06.94zm-11 1L8.5 8.5l.94-2.06 2.06-.94-2.06-.94L8.5 2.5l-.94 2.06-2.06.94zm10 10l.94 2.06.94-2.06 2.06-.94-2.06-.94-.94-2.06-.94 2.06-2.06.94z\"/><path d=\"M17.41 7.96l-1.37-1.37c-.4-.4-.92-.59-1.43-.59-.52 0-1.04.2-1.43.59L10.3 9.45l-7.72 7.72c-.78.78-.78 2.05 0 2.83L4 21.41c.39.39.9.59 1.41.59.51 0 1.02-.2 1.41-.59l7.78-7.78 2.81-2.81c.8-.78.8-2.07 0-2.86zM5.41 20L4 18.59l7.72-7.72 1.47 1.35L5.41 20z\"/>\n",
              "  </svg>\n",
              "      </button>\n",
              "      \n",
              "  <style>\n",
              "    .colab-df-container {\n",
              "      display:flex;\n",
              "      flex-wrap:wrap;\n",
              "      gap: 12px;\n",
              "    }\n",
              "\n",
              "    .colab-df-convert {\n",
              "      background-color: #E8F0FE;\n",
              "      border: none;\n",
              "      border-radius: 50%;\n",
              "      cursor: pointer;\n",
              "      display: none;\n",
              "      fill: #1967D2;\n",
              "      height: 32px;\n",
              "      padding: 0 0 0 0;\n",
              "      width: 32px;\n",
              "    }\n",
              "\n",
              "    .colab-df-convert:hover {\n",
              "      background-color: #E2EBFA;\n",
              "      box-shadow: 0px 1px 2px rgba(60, 64, 67, 0.3), 0px 1px 3px 1px rgba(60, 64, 67, 0.15);\n",
              "      fill: #174EA6;\n",
              "    }\n",
              "\n",
              "    [theme=dark] .colab-df-convert {\n",
              "      background-color: #3B4455;\n",
              "      fill: #D2E3FC;\n",
              "    }\n",
              "\n",
              "    [theme=dark] .colab-df-convert:hover {\n",
              "      background-color: #434B5C;\n",
              "      box-shadow: 0px 1px 3px 1px rgba(0, 0, 0, 0.15);\n",
              "      filter: drop-shadow(0px 1px 2px rgba(0, 0, 0, 0.3));\n",
              "      fill: #FFFFFF;\n",
              "    }\n",
              "  </style>\n",
              "\n",
              "      <script>\n",
              "        const buttonEl =\n",
              "          document.querySelector('#df-82a5c178-883d-457c-8fda-b445b5c7a034 button.colab-df-convert');\n",
              "        buttonEl.style.display =\n",
              "          google.colab.kernel.accessAllowed ? 'block' : 'none';\n",
              "\n",
              "        async function convertToInteractive(key) {\n",
              "          const element = document.querySelector('#df-82a5c178-883d-457c-8fda-b445b5c7a034');\n",
              "          const dataTable =\n",
              "            await google.colab.kernel.invokeFunction('convertToInteractive',\n",
              "                                                     [key], {});\n",
              "          if (!dataTable) return;\n",
              "\n",
              "          const docLinkHtml = 'Like what you see? Visit the ' +\n",
              "            '<a target=\"_blank\" href=https://colab.research.google.com/notebooks/data_table.ipynb>data table notebook</a>'\n",
              "            + ' to learn more about interactive tables.';\n",
              "          element.innerHTML = '';\n",
              "          dataTable['output_type'] = 'display_data';\n",
              "          await google.colab.output.renderOutput(dataTable, element);\n",
              "          const docLink = document.createElement('div');\n",
              "          docLink.innerHTML = docLinkHtml;\n",
              "          element.appendChild(docLink);\n",
              "        }\n",
              "      </script>\n",
              "    </div>\n",
              "  </div>\n",
              "  "
            ]
          },
          "metadata": {},
          "execution_count": 80
        }
      ]
    },
    {
      "cell_type": "markdown",
      "source": [
        "Other drops"
      ],
      "metadata": {
        "id": "UjLOu-AsfRMQ"
      }
    },
    {
      "cell_type": "code",
      "source": [
        "X.isnull().sum()"
      ],
      "metadata": {
        "colab": {
          "base_uri": "https://localhost:8080/"
        },
        "id": "4Wg3euaQHeHL",
        "outputId": "59f68679-24b1-44a3-b8ab-6d76198e7756"
      },
      "execution_count": 81,
      "outputs": [
        {
          "output_type": "execute_result",
          "data": {
            "text/plain": [
              "class         0\n",
              "aa_000        0\n",
              "ac_000     3335\n",
              "ad_000    14861\n",
              "ae_000     2500\n",
              "          ...  \n",
              "ee_007      671\n",
              "ee_008      671\n",
              "ee_009      671\n",
              "ef_000     2724\n",
              "eg_000     2723\n",
              "Length: 170, dtype: int64"
            ]
          },
          "metadata": {},
          "execution_count": 81
        }
      ]
    },
    {
      "cell_type": "code",
      "source": [
        "X = X.drop(['ad_000'], axis=1)"
      ],
      "metadata": {
        "id": "ZG7c93iNHk5Y"
      },
      "execution_count": 82,
      "outputs": []
    },
    {
      "cell_type": "code",
      "source": [
        "X = X.drop(['br_000'], axis=1)"
      ],
      "metadata": {
        "id": "4Dk62EObb1fY"
      },
      "execution_count": 83,
      "outputs": []
    },
    {
      "cell_type": "code",
      "source": [
        "X"
      ],
      "metadata": {
        "colab": {
          "base_uri": "https://localhost:8080/",
          "height": 488
        },
        "id": "mgDrz6z2b5Kl",
        "outputId": "87ed7749-f704-4dd9-a640-f3a5c6b3b7d7"
      },
      "execution_count": 84,
      "outputs": [
        {
          "output_type": "execute_result",
          "data": {
            "text/plain": [
              "      class  aa_000        ac_000  ae_000  af_000  ag_000  ag_001  ag_002  \\\n",
              "0       neg   76698  2.130706e+09     0.0     0.0     0.0     0.0     0.0   \n",
              "1       neg   33058  0.000000e+00     0.0     0.0     0.0     0.0     0.0   \n",
              "2       neg   41040  2.280000e+02     0.0     0.0     0.0     0.0     0.0   \n",
              "3       neg      12  7.000000e+01     0.0    10.0     0.0     0.0     0.0   \n",
              "4       neg   60874  1.368000e+03     0.0     0.0     0.0     0.0     0.0   \n",
              "...     ...     ...           ...     ...     ...     ...     ...     ...   \n",
              "59995   neg  153002  6.640000e+02     0.0     0.0     0.0     0.0     0.0   \n",
              "59996   neg    2286  2.130707e+09     0.0     0.0     0.0     0.0     0.0   \n",
              "59997   neg     112  2.130706e+09     0.0     0.0     0.0     0.0     0.0   \n",
              "59998   neg   80292  2.130706e+09     0.0     0.0     0.0     0.0     0.0   \n",
              "59999   neg   40222  6.980000e+02     0.0     0.0     0.0     0.0     0.0   \n",
              "\n",
              "       ag_003   ag_004  ...     ee_002    ee_003     ee_004     ee_005  \\\n",
              "0         0.0  37250.0  ...  1240520.0  493384.0   721044.0   469792.0   \n",
              "1         0.0  18254.0  ...   421400.0  178064.0   293306.0   245416.0   \n",
              "2         0.0   1648.0  ...   277378.0  159812.0   423992.0   409564.0   \n",
              "3       318.0   2212.0  ...      240.0      46.0       58.0       44.0   \n",
              "4         0.0  43752.0  ...   622012.0  229790.0   405298.0   347188.0   \n",
              "...       ...      ...  ...        ...       ...        ...        ...   \n",
              "59995  2564.0  59100.0  ...   998500.0  566884.0  1290398.0  1218244.0   \n",
              "59996     0.0    104.0  ...    10578.0    6760.0    21126.0    68424.0   \n",
              "59997     0.0     28.0  ...      792.0     386.0      452.0      144.0   \n",
              "59998     0.0    330.0  ...   699352.0  222654.0   347378.0   225724.0   \n",
              "59999     0.0   1226.0  ...   440066.0  183200.0   344546.0   254068.0   \n",
              "\n",
              "          ee_006    ee_007    ee_008    ee_009  ef_000  eg_000  \n",
              "0       339156.0  157956.0   73224.0       0.0     0.0     0.0  \n",
              "1       133654.0   81140.0   97576.0    1500.0     0.0     0.0  \n",
              "2       320746.0  158022.0   95128.0     514.0     0.0     0.0  \n",
              "3           10.0       0.0       0.0       0.0     4.0    32.0  \n",
              "4       286954.0  311560.0  433954.0    1218.0     0.0     0.0  \n",
              "...          ...       ...       ...       ...     ...     ...  \n",
              "59995  1019768.0  717762.0  898642.0   28588.0     0.0     0.0  \n",
              "59996      136.0       0.0       0.0       0.0     0.0     0.0  \n",
              "59997      146.0    2622.0       0.0       0.0     0.0     0.0  \n",
              "59998   194440.0  165070.0  802280.0  388422.0     0.0     0.0  \n",
              "59999   225148.0  158304.0  170384.0     158.0     0.0     0.0  \n",
              "\n",
              "[60000 rows x 168 columns]"
            ],
            "text/html": [
              "\n",
              "  <div id=\"df-fc2dbf7a-cfa9-4d6b-801b-75591ac64469\">\n",
              "    <div class=\"colab-df-container\">\n",
              "      <div>\n",
              "<style scoped>\n",
              "    .dataframe tbody tr th:only-of-type {\n",
              "        vertical-align: middle;\n",
              "    }\n",
              "\n",
              "    .dataframe tbody tr th {\n",
              "        vertical-align: top;\n",
              "    }\n",
              "\n",
              "    .dataframe thead th {\n",
              "        text-align: right;\n",
              "    }\n",
              "</style>\n",
              "<table border=\"1\" class=\"dataframe\">\n",
              "  <thead>\n",
              "    <tr style=\"text-align: right;\">\n",
              "      <th></th>\n",
              "      <th>class</th>\n",
              "      <th>aa_000</th>\n",
              "      <th>ac_000</th>\n",
              "      <th>ae_000</th>\n",
              "      <th>af_000</th>\n",
              "      <th>ag_000</th>\n",
              "      <th>ag_001</th>\n",
              "      <th>ag_002</th>\n",
              "      <th>ag_003</th>\n",
              "      <th>ag_004</th>\n",
              "      <th>...</th>\n",
              "      <th>ee_002</th>\n",
              "      <th>ee_003</th>\n",
              "      <th>ee_004</th>\n",
              "      <th>ee_005</th>\n",
              "      <th>ee_006</th>\n",
              "      <th>ee_007</th>\n",
              "      <th>ee_008</th>\n",
              "      <th>ee_009</th>\n",
              "      <th>ef_000</th>\n",
              "      <th>eg_000</th>\n",
              "    </tr>\n",
              "  </thead>\n",
              "  <tbody>\n",
              "    <tr>\n",
              "      <th>0</th>\n",
              "      <td>neg</td>\n",
              "      <td>76698</td>\n",
              "      <td>2.130706e+09</td>\n",
              "      <td>0.0</td>\n",
              "      <td>0.0</td>\n",
              "      <td>0.0</td>\n",
              "      <td>0.0</td>\n",
              "      <td>0.0</td>\n",
              "      <td>0.0</td>\n",
              "      <td>37250.0</td>\n",
              "      <td>...</td>\n",
              "      <td>1240520.0</td>\n",
              "      <td>493384.0</td>\n",
              "      <td>721044.0</td>\n",
              "      <td>469792.0</td>\n",
              "      <td>339156.0</td>\n",
              "      <td>157956.0</td>\n",
              "      <td>73224.0</td>\n",
              "      <td>0.0</td>\n",
              "      <td>0.0</td>\n",
              "      <td>0.0</td>\n",
              "    </tr>\n",
              "    <tr>\n",
              "      <th>1</th>\n",
              "      <td>neg</td>\n",
              "      <td>33058</td>\n",
              "      <td>0.000000e+00</td>\n",
              "      <td>0.0</td>\n",
              "      <td>0.0</td>\n",
              "      <td>0.0</td>\n",
              "      <td>0.0</td>\n",
              "      <td>0.0</td>\n",
              "      <td>0.0</td>\n",
              "      <td>18254.0</td>\n",
              "      <td>...</td>\n",
              "      <td>421400.0</td>\n",
              "      <td>178064.0</td>\n",
              "      <td>293306.0</td>\n",
              "      <td>245416.0</td>\n",
              "      <td>133654.0</td>\n",
              "      <td>81140.0</td>\n",
              "      <td>97576.0</td>\n",
              "      <td>1500.0</td>\n",
              "      <td>0.0</td>\n",
              "      <td>0.0</td>\n",
              "    </tr>\n",
              "    <tr>\n",
              "      <th>2</th>\n",
              "      <td>neg</td>\n",
              "      <td>41040</td>\n",
              "      <td>2.280000e+02</td>\n",
              "      <td>0.0</td>\n",
              "      <td>0.0</td>\n",
              "      <td>0.0</td>\n",
              "      <td>0.0</td>\n",
              "      <td>0.0</td>\n",
              "      <td>0.0</td>\n",
              "      <td>1648.0</td>\n",
              "      <td>...</td>\n",
              "      <td>277378.0</td>\n",
              "      <td>159812.0</td>\n",
              "      <td>423992.0</td>\n",
              "      <td>409564.0</td>\n",
              "      <td>320746.0</td>\n",
              "      <td>158022.0</td>\n",
              "      <td>95128.0</td>\n",
              "      <td>514.0</td>\n",
              "      <td>0.0</td>\n",
              "      <td>0.0</td>\n",
              "    </tr>\n",
              "    <tr>\n",
              "      <th>3</th>\n",
              "      <td>neg</td>\n",
              "      <td>12</td>\n",
              "      <td>7.000000e+01</td>\n",
              "      <td>0.0</td>\n",
              "      <td>10.0</td>\n",
              "      <td>0.0</td>\n",
              "      <td>0.0</td>\n",
              "      <td>0.0</td>\n",
              "      <td>318.0</td>\n",
              "      <td>2212.0</td>\n",
              "      <td>...</td>\n",
              "      <td>240.0</td>\n",
              "      <td>46.0</td>\n",
              "      <td>58.0</td>\n",
              "      <td>44.0</td>\n",
              "      <td>10.0</td>\n",
              "      <td>0.0</td>\n",
              "      <td>0.0</td>\n",
              "      <td>0.0</td>\n",
              "      <td>4.0</td>\n",
              "      <td>32.0</td>\n",
              "    </tr>\n",
              "    <tr>\n",
              "      <th>4</th>\n",
              "      <td>neg</td>\n",
              "      <td>60874</td>\n",
              "      <td>1.368000e+03</td>\n",
              "      <td>0.0</td>\n",
              "      <td>0.0</td>\n",
              "      <td>0.0</td>\n",
              "      <td>0.0</td>\n",
              "      <td>0.0</td>\n",
              "      <td>0.0</td>\n",
              "      <td>43752.0</td>\n",
              "      <td>...</td>\n",
              "      <td>622012.0</td>\n",
              "      <td>229790.0</td>\n",
              "      <td>405298.0</td>\n",
              "      <td>347188.0</td>\n",
              "      <td>286954.0</td>\n",
              "      <td>311560.0</td>\n",
              "      <td>433954.0</td>\n",
              "      <td>1218.0</td>\n",
              "      <td>0.0</td>\n",
              "      <td>0.0</td>\n",
              "    </tr>\n",
              "    <tr>\n",
              "      <th>...</th>\n",
              "      <td>...</td>\n",
              "      <td>...</td>\n",
              "      <td>...</td>\n",
              "      <td>...</td>\n",
              "      <td>...</td>\n",
              "      <td>...</td>\n",
              "      <td>...</td>\n",
              "      <td>...</td>\n",
              "      <td>...</td>\n",
              "      <td>...</td>\n",
              "      <td>...</td>\n",
              "      <td>...</td>\n",
              "      <td>...</td>\n",
              "      <td>...</td>\n",
              "      <td>...</td>\n",
              "      <td>...</td>\n",
              "      <td>...</td>\n",
              "      <td>...</td>\n",
              "      <td>...</td>\n",
              "      <td>...</td>\n",
              "      <td>...</td>\n",
              "    </tr>\n",
              "    <tr>\n",
              "      <th>59995</th>\n",
              "      <td>neg</td>\n",
              "      <td>153002</td>\n",
              "      <td>6.640000e+02</td>\n",
              "      <td>0.0</td>\n",
              "      <td>0.0</td>\n",
              "      <td>0.0</td>\n",
              "      <td>0.0</td>\n",
              "      <td>0.0</td>\n",
              "      <td>2564.0</td>\n",
              "      <td>59100.0</td>\n",
              "      <td>...</td>\n",
              "      <td>998500.0</td>\n",
              "      <td>566884.0</td>\n",
              "      <td>1290398.0</td>\n",
              "      <td>1218244.0</td>\n",
              "      <td>1019768.0</td>\n",
              "      <td>717762.0</td>\n",
              "      <td>898642.0</td>\n",
              "      <td>28588.0</td>\n",
              "      <td>0.0</td>\n",
              "      <td>0.0</td>\n",
              "    </tr>\n",
              "    <tr>\n",
              "      <th>59996</th>\n",
              "      <td>neg</td>\n",
              "      <td>2286</td>\n",
              "      <td>2.130707e+09</td>\n",
              "      <td>0.0</td>\n",
              "      <td>0.0</td>\n",
              "      <td>0.0</td>\n",
              "      <td>0.0</td>\n",
              "      <td>0.0</td>\n",
              "      <td>0.0</td>\n",
              "      <td>104.0</td>\n",
              "      <td>...</td>\n",
              "      <td>10578.0</td>\n",
              "      <td>6760.0</td>\n",
              "      <td>21126.0</td>\n",
              "      <td>68424.0</td>\n",
              "      <td>136.0</td>\n",
              "      <td>0.0</td>\n",
              "      <td>0.0</td>\n",
              "      <td>0.0</td>\n",
              "      <td>0.0</td>\n",
              "      <td>0.0</td>\n",
              "    </tr>\n",
              "    <tr>\n",
              "      <th>59997</th>\n",
              "      <td>neg</td>\n",
              "      <td>112</td>\n",
              "      <td>2.130706e+09</td>\n",
              "      <td>0.0</td>\n",
              "      <td>0.0</td>\n",
              "      <td>0.0</td>\n",
              "      <td>0.0</td>\n",
              "      <td>0.0</td>\n",
              "      <td>0.0</td>\n",
              "      <td>28.0</td>\n",
              "      <td>...</td>\n",
              "      <td>792.0</td>\n",
              "      <td>386.0</td>\n",
              "      <td>452.0</td>\n",
              "      <td>144.0</td>\n",
              "      <td>146.0</td>\n",
              "      <td>2622.0</td>\n",
              "      <td>0.0</td>\n",
              "      <td>0.0</td>\n",
              "      <td>0.0</td>\n",
              "      <td>0.0</td>\n",
              "    </tr>\n",
              "    <tr>\n",
              "      <th>59998</th>\n",
              "      <td>neg</td>\n",
              "      <td>80292</td>\n",
              "      <td>2.130706e+09</td>\n",
              "      <td>0.0</td>\n",
              "      <td>0.0</td>\n",
              "      <td>0.0</td>\n",
              "      <td>0.0</td>\n",
              "      <td>0.0</td>\n",
              "      <td>0.0</td>\n",
              "      <td>330.0</td>\n",
              "      <td>...</td>\n",
              "      <td>699352.0</td>\n",
              "      <td>222654.0</td>\n",
              "      <td>347378.0</td>\n",
              "      <td>225724.0</td>\n",
              "      <td>194440.0</td>\n",
              "      <td>165070.0</td>\n",
              "      <td>802280.0</td>\n",
              "      <td>388422.0</td>\n",
              "      <td>0.0</td>\n",
              "      <td>0.0</td>\n",
              "    </tr>\n",
              "    <tr>\n",
              "      <th>59999</th>\n",
              "      <td>neg</td>\n",
              "      <td>40222</td>\n",
              "      <td>6.980000e+02</td>\n",
              "      <td>0.0</td>\n",
              "      <td>0.0</td>\n",
              "      <td>0.0</td>\n",
              "      <td>0.0</td>\n",
              "      <td>0.0</td>\n",
              "      <td>0.0</td>\n",
              "      <td>1226.0</td>\n",
              "      <td>...</td>\n",
              "      <td>440066.0</td>\n",
              "      <td>183200.0</td>\n",
              "      <td>344546.0</td>\n",
              "      <td>254068.0</td>\n",
              "      <td>225148.0</td>\n",
              "      <td>158304.0</td>\n",
              "      <td>170384.0</td>\n",
              "      <td>158.0</td>\n",
              "      <td>0.0</td>\n",
              "      <td>0.0</td>\n",
              "    </tr>\n",
              "  </tbody>\n",
              "</table>\n",
              "<p>60000 rows × 168 columns</p>\n",
              "</div>\n",
              "      <button class=\"colab-df-convert\" onclick=\"convertToInteractive('df-fc2dbf7a-cfa9-4d6b-801b-75591ac64469')\"\n",
              "              title=\"Convert this dataframe to an interactive table.\"\n",
              "              style=\"display:none;\">\n",
              "        \n",
              "  <svg xmlns=\"http://www.w3.org/2000/svg\" height=\"24px\"viewBox=\"0 0 24 24\"\n",
              "       width=\"24px\">\n",
              "    <path d=\"M0 0h24v24H0V0z\" fill=\"none\"/>\n",
              "    <path d=\"M18.56 5.44l.94 2.06.94-2.06 2.06-.94-2.06-.94-.94-2.06-.94 2.06-2.06.94zm-11 1L8.5 8.5l.94-2.06 2.06-.94-2.06-.94L8.5 2.5l-.94 2.06-2.06.94zm10 10l.94 2.06.94-2.06 2.06-.94-2.06-.94-.94-2.06-.94 2.06-2.06.94z\"/><path d=\"M17.41 7.96l-1.37-1.37c-.4-.4-.92-.59-1.43-.59-.52 0-1.04.2-1.43.59L10.3 9.45l-7.72 7.72c-.78.78-.78 2.05 0 2.83L4 21.41c.39.39.9.59 1.41.59.51 0 1.02-.2 1.41-.59l7.78-7.78 2.81-2.81c.8-.78.8-2.07 0-2.86zM5.41 20L4 18.59l7.72-7.72 1.47 1.35L5.41 20z\"/>\n",
              "  </svg>\n",
              "      </button>\n",
              "      \n",
              "  <style>\n",
              "    .colab-df-container {\n",
              "      display:flex;\n",
              "      flex-wrap:wrap;\n",
              "      gap: 12px;\n",
              "    }\n",
              "\n",
              "    .colab-df-convert {\n",
              "      background-color: #E8F0FE;\n",
              "      border: none;\n",
              "      border-radius: 50%;\n",
              "      cursor: pointer;\n",
              "      display: none;\n",
              "      fill: #1967D2;\n",
              "      height: 32px;\n",
              "      padding: 0 0 0 0;\n",
              "      width: 32px;\n",
              "    }\n",
              "\n",
              "    .colab-df-convert:hover {\n",
              "      background-color: #E2EBFA;\n",
              "      box-shadow: 0px 1px 2px rgba(60, 64, 67, 0.3), 0px 1px 3px 1px rgba(60, 64, 67, 0.15);\n",
              "      fill: #174EA6;\n",
              "    }\n",
              "\n",
              "    [theme=dark] .colab-df-convert {\n",
              "      background-color: #3B4455;\n",
              "      fill: #D2E3FC;\n",
              "    }\n",
              "\n",
              "    [theme=dark] .colab-df-convert:hover {\n",
              "      background-color: #434B5C;\n",
              "      box-shadow: 0px 1px 3px 1px rgba(0, 0, 0, 0.15);\n",
              "      filter: drop-shadow(0px 1px 2px rgba(0, 0, 0, 0.3));\n",
              "      fill: #FFFFFF;\n",
              "    }\n",
              "  </style>\n",
              "\n",
              "      <script>\n",
              "        const buttonEl =\n",
              "          document.querySelector('#df-fc2dbf7a-cfa9-4d6b-801b-75591ac64469 button.colab-df-convert');\n",
              "        buttonEl.style.display =\n",
              "          google.colab.kernel.accessAllowed ? 'block' : 'none';\n",
              "\n",
              "        async function convertToInteractive(key) {\n",
              "          const element = document.querySelector('#df-fc2dbf7a-cfa9-4d6b-801b-75591ac64469');\n",
              "          const dataTable =\n",
              "            await google.colab.kernel.invokeFunction('convertToInteractive',\n",
              "                                                     [key], {});\n",
              "          if (!dataTable) return;\n",
              "\n",
              "          const docLinkHtml = 'Like what you see? Visit the ' +\n",
              "            '<a target=\"_blank\" href=https://colab.research.google.com/notebooks/data_table.ipynb>data table notebook</a>'\n",
              "            + ' to learn more about interactive tables.';\n",
              "          element.innerHTML = '';\n",
              "          dataTable['output_type'] = 'display_data';\n",
              "          await google.colab.output.renderOutput(dataTable, element);\n",
              "          const docLink = document.createElement('div');\n",
              "          docLink.innerHTML = docLinkHtml;\n",
              "          element.appendChild(docLink);\n",
              "        }\n",
              "      </script>\n",
              "    </div>\n",
              "  </div>\n",
              "  "
            ]
          },
          "metadata": {},
          "execution_count": 84
        }
      ]
    },
    {
      "cell_type": "code",
      "source": [
        "X = X.drop(['bq_000'], axis=1)"
      ],
      "metadata": {
        "id": "7P9XpXkdcGwP"
      },
      "execution_count": 85,
      "outputs": []
    },
    {
      "cell_type": "code",
      "source": [
        "X.count().idxmin()"
      ],
      "metadata": {
        "colab": {
          "base_uri": "https://localhost:8080/",
          "height": 194
        },
        "id": "4Z7vgM02HnYn",
        "outputId": "8e9fd535-f056-4603-f73d-70c8941efccf"
      },
      "execution_count": 86,
      "outputs": [
        {
          "output_type": "execute_result",
          "data": {
            "text/plain": [
              "'bp_000'"
            ],
            "application/vnd.google.colaboratory.intrinsic+json": {
              "type": "string"
            }
          },
          "metadata": {},
          "execution_count": 86
        }
      ]
    },
    {
      "cell_type": "code",
      "source": [
        "X['bp_000'].isnull().sum()"
      ],
      "metadata": {
        "colab": {
          "base_uri": "https://localhost:8080/"
        },
        "id": "ZOiWNWyhb_Ef",
        "outputId": "2748c1a3-5b00-4411-8581-5530c3da9de8"
      },
      "execution_count": 87,
      "outputs": [
        {
          "output_type": "execute_result",
          "data": {
            "text/plain": [
              "47740"
            ]
          },
          "metadata": {},
          "execution_count": 87
        }
      ]
    },
    {
      "cell_type": "code",
      "source": [
        "X.isnull().sum()"
      ],
      "metadata": {
        "colab": {
          "base_uri": "https://localhost:8080/"
        },
        "id": "c0Tg7h79csKI",
        "outputId": "e85c970e-4bba-45e9-83c3-8f6bf26cd4f3"
      },
      "execution_count": 88,
      "outputs": [
        {
          "output_type": "execute_result",
          "data": {
            "text/plain": [
              "class        0\n",
              "aa_000       0\n",
              "ac_000    3335\n",
              "ae_000    2500\n",
              "af_000    2500\n",
              "          ... \n",
              "ee_007     671\n",
              "ee_008     671\n",
              "ee_009     671\n",
              "ef_000    2724\n",
              "eg_000    2723\n",
              "Length: 167, dtype: int64"
            ]
          },
          "metadata": {},
          "execution_count": 88
        }
      ]
    },
    {
      "cell_type": "markdown",
      "source": [
        "Drop every column that has more than 10% percent of NaN values."
      ],
      "metadata": {
        "id": "TxJToiSffVVS"
      }
    },
    {
      "cell_type": "code",
      "source": [
        "nulls = X.isnull().sum().to_frame()\n",
        "Nan_Values = {index:row[0] for index, row in nulls.iterrows()}"
      ],
      "metadata": {
        "id": "0T6ixISfdHLW"
      },
      "execution_count": 89,
      "outputs": []
    },
    {
      "cell_type": "code",
      "source": [
        "X.shape[0]"
      ],
      "metadata": {
        "colab": {
          "base_uri": "https://localhost:8080/"
        },
        "id": "SiBCfK_gd6FI",
        "outputId": "f48d40c5-e4c5-4dd6-869b-07d4b09cbdac"
      },
      "execution_count": 90,
      "outputs": [
        {
          "output_type": "execute_result",
          "data": {
            "text/plain": [
              "60000"
            ]
          },
          "metadata": {},
          "execution_count": 90
        }
      ]
    },
    {
      "cell_type": "code",
      "source": [
        "for col, value in Nan_Values.items():\n",
        "  if value >= 0.1*X.shape[0]:\n",
        "    X = X.drop([col], axis=1)"
      ],
      "metadata": {
        "id": "LoQkEIyMciTY"
      },
      "execution_count": 91,
      "outputs": []
    },
    {
      "cell_type": "markdown",
      "source": [
        "Replace Nan Values with the mean of a column."
      ],
      "metadata": {
        "id": "_mJzmISzfevt"
      }
    },
    {
      "cell_type": "code",
      "source": [
        "nulls = X.isnull().sum().to_frame()\n",
        "Nan_Values2 = {index:row[0] for index, row in nulls.iterrows()}"
      ],
      "metadata": {
        "id": "4sh9BecHeKZh"
      },
      "execution_count": 92,
      "outputs": []
    },
    {
      "cell_type": "code",
      "source": [
        "Nan_Values2"
      ],
      "metadata": {
        "id": "aJ0pdXw5eO82",
        "colab": {
          "base_uri": "https://localhost:8080/"
        },
        "outputId": "580cb09a-4f89-477a-eab3-030bfcf98f7f"
      },
      "execution_count": 93,
      "outputs": [
        {
          "output_type": "execute_result",
          "data": {
            "text/plain": [
              "{'class': 0,\n",
              " 'aa_000': 0,\n",
              " 'ac_000': 3335,\n",
              " 'ae_000': 2500,\n",
              " 'af_000': 2500,\n",
              " 'ag_000': 671,\n",
              " 'ag_001': 671,\n",
              " 'ag_002': 671,\n",
              " 'ag_003': 671,\n",
              " 'ag_004': 671,\n",
              " 'ag_005': 671,\n",
              " 'ag_006': 671,\n",
              " 'ag_007': 671,\n",
              " 'ag_008': 671,\n",
              " 'ag_009': 671,\n",
              " 'ah_000': 645,\n",
              " 'ai_000': 629,\n",
              " 'aj_000': 629,\n",
              " 'ak_000': 4400,\n",
              " 'al_000': 642,\n",
              " 'am_0': 629,\n",
              " 'an_000': 642,\n",
              " 'ao_000': 589,\n",
              " 'ap_000': 642,\n",
              " 'aq_000': 589,\n",
              " 'ar_000': 2723,\n",
              " 'as_000': 629,\n",
              " 'at_000': 629,\n",
              " 'au_000': 629,\n",
              " 'av_000': 2500,\n",
              " 'ax_000': 2501,\n",
              " 'ay_000': 671,\n",
              " 'ay_001': 671,\n",
              " 'ay_002': 671,\n",
              " 'ay_003': 671,\n",
              " 'ay_004': 671,\n",
              " 'ay_005': 671,\n",
              " 'ay_006': 671,\n",
              " 'ay_007': 671,\n",
              " 'ay_008': 671,\n",
              " 'ay_009': 671,\n",
              " 'az_000': 671,\n",
              " 'az_001': 671,\n",
              " 'az_002': 671,\n",
              " 'az_003': 671,\n",
              " 'az_004': 671,\n",
              " 'az_005': 671,\n",
              " 'az_006': 671,\n",
              " 'az_007': 671,\n",
              " 'az_008': 671,\n",
              " 'az_009': 671,\n",
              " 'ba_000': 688,\n",
              " 'ba_001': 688,\n",
              " 'ba_002': 688,\n",
              " 'ba_003': 688,\n",
              " 'ba_004': 688,\n",
              " 'ba_005': 688,\n",
              " 'ba_006': 688,\n",
              " 'ba_007': 688,\n",
              " 'ba_008': 688,\n",
              " 'ba_009': 688,\n",
              " 'bb_000': 645,\n",
              " 'bc_000': 2725,\n",
              " 'bd_000': 2727,\n",
              " 'be_000': 2503,\n",
              " 'bf_000': 2500,\n",
              " 'bg_000': 642,\n",
              " 'bh_000': 642,\n",
              " 'bi_000': 589,\n",
              " 'bj_000': 589,\n",
              " 'bs_000': 726,\n",
              " 'bt_000': 167,\n",
              " 'bu_000': 691,\n",
              " 'bv_000': 691,\n",
              " 'bx_000': 3257,\n",
              " 'by_000': 473,\n",
              " 'bz_000': 2723,\n",
              " 'ca_000': 4356,\n",
              " 'cb_000': 726,\n",
              " 'cc_000': 3255,\n",
              " 'cd_000': 676,\n",
              " 'ce_000': 2502,\n",
              " 'ci_000': 338,\n",
              " 'cj_000': 338,\n",
              " 'ck_000': 338,\n",
              " 'cn_000': 687,\n",
              " 'cn_001': 687,\n",
              " 'cn_002': 687,\n",
              " 'cn_003': 687,\n",
              " 'cn_004': 687,\n",
              " 'cn_005': 687,\n",
              " 'cn_006': 687,\n",
              " 'cn_007': 687,\n",
              " 'cn_008': 687,\n",
              " 'cn_009': 687,\n",
              " 'cp_000': 2724,\n",
              " 'cq_000': 691,\n",
              " 'cs_000': 669,\n",
              " 'cs_001': 669,\n",
              " 'cs_002': 669,\n",
              " 'cs_003': 669,\n",
              " 'cs_004': 669,\n",
              " 'cs_005': 669,\n",
              " 'cs_006': 669,\n",
              " 'cs_007': 669,\n",
              " 'cs_008': 669,\n",
              " 'cs_009': 669,\n",
              " 'dd_000': 2503,\n",
              " 'de_000': 2724,\n",
              " 'df_000': 4008,\n",
              " 'dg_000': 4008,\n",
              " 'dh_000': 4008,\n",
              " 'di_000': 4006,\n",
              " 'dj_000': 4007,\n",
              " 'dk_000': 4007,\n",
              " 'dl_000': 4008,\n",
              " 'dm_000': 4009,\n",
              " 'dn_000': 691,\n",
              " 'do_000': 2724,\n",
              " 'dp_000': 2726,\n",
              " 'dq_000': 2726,\n",
              " 'dr_000': 2726,\n",
              " 'ds_000': 2727,\n",
              " 'dt_000': 2727,\n",
              " 'du_000': 2726,\n",
              " 'dv_000': 2726,\n",
              " 'dx_000': 2723,\n",
              " 'dy_000': 2724,\n",
              " 'dz_000': 2723,\n",
              " 'ea_000': 2723,\n",
              " 'eb_000': 4007,\n",
              " 'ee_000': 671,\n",
              " 'ee_001': 671,\n",
              " 'ee_002': 671,\n",
              " 'ee_003': 671,\n",
              " 'ee_004': 671,\n",
              " 'ee_005': 671,\n",
              " 'ee_006': 671,\n",
              " 'ee_007': 671,\n",
              " 'ee_008': 671,\n",
              " 'ee_009': 671,\n",
              " 'ef_000': 2724,\n",
              " 'eg_000': 2723}"
            ]
          },
          "metadata": {},
          "execution_count": 93
        }
      ]
    },
    {
      "cell_type": "code",
      "source": [
        "#X['ab_000'] = X['ab_000'].replace(np.NaN, X['ab_000'].mean())\n",
        "for col, value in Nan_Values2.items():\n",
        "  if value > 0:\n",
        "    X[col] = X[col].replace(np.NaN, X[col].mean())"
      ],
      "metadata": {
        "id": "xkgduyhMedgJ"
      },
      "execution_count": 94,
      "outputs": []
    },
    {
      "cell_type": "code",
      "source": [
        "X.isnull().sum().max()"
      ],
      "metadata": {
        "colab": {
          "base_uri": "https://localhost:8080/"
        },
        "id": "DrBP28OPewWL",
        "outputId": "18392920-803a-4e18-b3e3-80fc065ecc93"
      },
      "execution_count": 95,
      "outputs": [
        {
          "output_type": "execute_result",
          "data": {
            "text/plain": [
              "0"
            ]
          },
          "metadata": {},
          "execution_count": 95
        }
      ]
    },
    {
      "cell_type": "code",
      "source": [
        "X"
      ],
      "metadata": {
        "colab": {
          "base_uri": "https://localhost:8080/",
          "height": 488
        },
        "id": "xkVphQTEfkma",
        "outputId": "78bc9a14-964b-455e-fb9d-62e36b0d34b5"
      },
      "execution_count": 96,
      "outputs": [
        {
          "output_type": "execute_result",
          "data": {
            "text/plain": [
              "      class  aa_000        ac_000  ae_000  af_000  ag_000  ag_001  ag_002  \\\n",
              "0       neg   76698  2.130706e+09     0.0     0.0     0.0     0.0     0.0   \n",
              "1       neg   33058  0.000000e+00     0.0     0.0     0.0     0.0     0.0   \n",
              "2       neg   41040  2.280000e+02     0.0     0.0     0.0     0.0     0.0   \n",
              "3       neg      12  7.000000e+01     0.0    10.0     0.0     0.0     0.0   \n",
              "4       neg   60874  1.368000e+03     0.0     0.0     0.0     0.0     0.0   \n",
              "...     ...     ...           ...     ...     ...     ...     ...     ...   \n",
              "59995   neg  153002  6.640000e+02     0.0     0.0     0.0     0.0     0.0   \n",
              "59996   neg    2286  2.130707e+09     0.0     0.0     0.0     0.0     0.0   \n",
              "59997   neg     112  2.130706e+09     0.0     0.0     0.0     0.0     0.0   \n",
              "59998   neg   80292  2.130706e+09     0.0     0.0     0.0     0.0     0.0   \n",
              "59999   neg   40222  6.980000e+02     0.0     0.0     0.0     0.0     0.0   \n",
              "\n",
              "       ag_003   ag_004  ...     ee_002    ee_003     ee_004     ee_005  \\\n",
              "0         0.0  37250.0  ...  1240520.0  493384.0   721044.0   469792.0   \n",
              "1         0.0  18254.0  ...   421400.0  178064.0   293306.0   245416.0   \n",
              "2         0.0   1648.0  ...   277378.0  159812.0   423992.0   409564.0   \n",
              "3       318.0   2212.0  ...      240.0      46.0       58.0       44.0   \n",
              "4         0.0  43752.0  ...   622012.0  229790.0   405298.0   347188.0   \n",
              "...       ...      ...  ...        ...       ...        ...        ...   \n",
              "59995  2564.0  59100.0  ...   998500.0  566884.0  1290398.0  1218244.0   \n",
              "59996     0.0    104.0  ...    10578.0    6760.0    21126.0    68424.0   \n",
              "59997     0.0     28.0  ...      792.0     386.0      452.0      144.0   \n",
              "59998     0.0    330.0  ...   699352.0  222654.0   347378.0   225724.0   \n",
              "59999     0.0   1226.0  ...   440066.0  183200.0   344546.0   254068.0   \n",
              "\n",
              "          ee_006    ee_007    ee_008    ee_009  ef_000  eg_000  \n",
              "0       339156.0  157956.0   73224.0       0.0     0.0     0.0  \n",
              "1       133654.0   81140.0   97576.0    1500.0     0.0     0.0  \n",
              "2       320746.0  158022.0   95128.0     514.0     0.0     0.0  \n",
              "3           10.0       0.0       0.0       0.0     4.0    32.0  \n",
              "4       286954.0  311560.0  433954.0    1218.0     0.0     0.0  \n",
              "...          ...       ...       ...       ...     ...     ...  \n",
              "59995  1019768.0  717762.0  898642.0   28588.0     0.0     0.0  \n",
              "59996      136.0       0.0       0.0       0.0     0.0     0.0  \n",
              "59997      146.0    2622.0       0.0       0.0     0.0     0.0  \n",
              "59998   194440.0  165070.0  802280.0  388422.0     0.0     0.0  \n",
              "59999   225148.0  158304.0  170384.0     158.0     0.0     0.0  \n",
              "\n",
              "[60000 rows x 143 columns]"
            ],
            "text/html": [
              "\n",
              "  <div id=\"df-92111f36-d065-402f-8af9-7693e1fbd2a1\">\n",
              "    <div class=\"colab-df-container\">\n",
              "      <div>\n",
              "<style scoped>\n",
              "    .dataframe tbody tr th:only-of-type {\n",
              "        vertical-align: middle;\n",
              "    }\n",
              "\n",
              "    .dataframe tbody tr th {\n",
              "        vertical-align: top;\n",
              "    }\n",
              "\n",
              "    .dataframe thead th {\n",
              "        text-align: right;\n",
              "    }\n",
              "</style>\n",
              "<table border=\"1\" class=\"dataframe\">\n",
              "  <thead>\n",
              "    <tr style=\"text-align: right;\">\n",
              "      <th></th>\n",
              "      <th>class</th>\n",
              "      <th>aa_000</th>\n",
              "      <th>ac_000</th>\n",
              "      <th>ae_000</th>\n",
              "      <th>af_000</th>\n",
              "      <th>ag_000</th>\n",
              "      <th>ag_001</th>\n",
              "      <th>ag_002</th>\n",
              "      <th>ag_003</th>\n",
              "      <th>ag_004</th>\n",
              "      <th>...</th>\n",
              "      <th>ee_002</th>\n",
              "      <th>ee_003</th>\n",
              "      <th>ee_004</th>\n",
              "      <th>ee_005</th>\n",
              "      <th>ee_006</th>\n",
              "      <th>ee_007</th>\n",
              "      <th>ee_008</th>\n",
              "      <th>ee_009</th>\n",
              "      <th>ef_000</th>\n",
              "      <th>eg_000</th>\n",
              "    </tr>\n",
              "  </thead>\n",
              "  <tbody>\n",
              "    <tr>\n",
              "      <th>0</th>\n",
              "      <td>neg</td>\n",
              "      <td>76698</td>\n",
              "      <td>2.130706e+09</td>\n",
              "      <td>0.0</td>\n",
              "      <td>0.0</td>\n",
              "      <td>0.0</td>\n",
              "      <td>0.0</td>\n",
              "      <td>0.0</td>\n",
              "      <td>0.0</td>\n",
              "      <td>37250.0</td>\n",
              "      <td>...</td>\n",
              "      <td>1240520.0</td>\n",
              "      <td>493384.0</td>\n",
              "      <td>721044.0</td>\n",
              "      <td>469792.0</td>\n",
              "      <td>339156.0</td>\n",
              "      <td>157956.0</td>\n",
              "      <td>73224.0</td>\n",
              "      <td>0.0</td>\n",
              "      <td>0.0</td>\n",
              "      <td>0.0</td>\n",
              "    </tr>\n",
              "    <tr>\n",
              "      <th>1</th>\n",
              "      <td>neg</td>\n",
              "      <td>33058</td>\n",
              "      <td>0.000000e+00</td>\n",
              "      <td>0.0</td>\n",
              "      <td>0.0</td>\n",
              "      <td>0.0</td>\n",
              "      <td>0.0</td>\n",
              "      <td>0.0</td>\n",
              "      <td>0.0</td>\n",
              "      <td>18254.0</td>\n",
              "      <td>...</td>\n",
              "      <td>421400.0</td>\n",
              "      <td>178064.0</td>\n",
              "      <td>293306.0</td>\n",
              "      <td>245416.0</td>\n",
              "      <td>133654.0</td>\n",
              "      <td>81140.0</td>\n",
              "      <td>97576.0</td>\n",
              "      <td>1500.0</td>\n",
              "      <td>0.0</td>\n",
              "      <td>0.0</td>\n",
              "    </tr>\n",
              "    <tr>\n",
              "      <th>2</th>\n",
              "      <td>neg</td>\n",
              "      <td>41040</td>\n",
              "      <td>2.280000e+02</td>\n",
              "      <td>0.0</td>\n",
              "      <td>0.0</td>\n",
              "      <td>0.0</td>\n",
              "      <td>0.0</td>\n",
              "      <td>0.0</td>\n",
              "      <td>0.0</td>\n",
              "      <td>1648.0</td>\n",
              "      <td>...</td>\n",
              "      <td>277378.0</td>\n",
              "      <td>159812.0</td>\n",
              "      <td>423992.0</td>\n",
              "      <td>409564.0</td>\n",
              "      <td>320746.0</td>\n",
              "      <td>158022.0</td>\n",
              "      <td>95128.0</td>\n",
              "      <td>514.0</td>\n",
              "      <td>0.0</td>\n",
              "      <td>0.0</td>\n",
              "    </tr>\n",
              "    <tr>\n",
              "      <th>3</th>\n",
              "      <td>neg</td>\n",
              "      <td>12</td>\n",
              "      <td>7.000000e+01</td>\n",
              "      <td>0.0</td>\n",
              "      <td>10.0</td>\n",
              "      <td>0.0</td>\n",
              "      <td>0.0</td>\n",
              "      <td>0.0</td>\n",
              "      <td>318.0</td>\n",
              "      <td>2212.0</td>\n",
              "      <td>...</td>\n",
              "      <td>240.0</td>\n",
              "      <td>46.0</td>\n",
              "      <td>58.0</td>\n",
              "      <td>44.0</td>\n",
              "      <td>10.0</td>\n",
              "      <td>0.0</td>\n",
              "      <td>0.0</td>\n",
              "      <td>0.0</td>\n",
              "      <td>4.0</td>\n",
              "      <td>32.0</td>\n",
              "    </tr>\n",
              "    <tr>\n",
              "      <th>4</th>\n",
              "      <td>neg</td>\n",
              "      <td>60874</td>\n",
              "      <td>1.368000e+03</td>\n",
              "      <td>0.0</td>\n",
              "      <td>0.0</td>\n",
              "      <td>0.0</td>\n",
              "      <td>0.0</td>\n",
              "      <td>0.0</td>\n",
              "      <td>0.0</td>\n",
              "      <td>43752.0</td>\n",
              "      <td>...</td>\n",
              "      <td>622012.0</td>\n",
              "      <td>229790.0</td>\n",
              "      <td>405298.0</td>\n",
              "      <td>347188.0</td>\n",
              "      <td>286954.0</td>\n",
              "      <td>311560.0</td>\n",
              "      <td>433954.0</td>\n",
              "      <td>1218.0</td>\n",
              "      <td>0.0</td>\n",
              "      <td>0.0</td>\n",
              "    </tr>\n",
              "    <tr>\n",
              "      <th>...</th>\n",
              "      <td>...</td>\n",
              "      <td>...</td>\n",
              "      <td>...</td>\n",
              "      <td>...</td>\n",
              "      <td>...</td>\n",
              "      <td>...</td>\n",
              "      <td>...</td>\n",
              "      <td>...</td>\n",
              "      <td>...</td>\n",
              "      <td>...</td>\n",
              "      <td>...</td>\n",
              "      <td>...</td>\n",
              "      <td>...</td>\n",
              "      <td>...</td>\n",
              "      <td>...</td>\n",
              "      <td>...</td>\n",
              "      <td>...</td>\n",
              "      <td>...</td>\n",
              "      <td>...</td>\n",
              "      <td>...</td>\n",
              "      <td>...</td>\n",
              "    </tr>\n",
              "    <tr>\n",
              "      <th>59995</th>\n",
              "      <td>neg</td>\n",
              "      <td>153002</td>\n",
              "      <td>6.640000e+02</td>\n",
              "      <td>0.0</td>\n",
              "      <td>0.0</td>\n",
              "      <td>0.0</td>\n",
              "      <td>0.0</td>\n",
              "      <td>0.0</td>\n",
              "      <td>2564.0</td>\n",
              "      <td>59100.0</td>\n",
              "      <td>...</td>\n",
              "      <td>998500.0</td>\n",
              "      <td>566884.0</td>\n",
              "      <td>1290398.0</td>\n",
              "      <td>1218244.0</td>\n",
              "      <td>1019768.0</td>\n",
              "      <td>717762.0</td>\n",
              "      <td>898642.0</td>\n",
              "      <td>28588.0</td>\n",
              "      <td>0.0</td>\n",
              "      <td>0.0</td>\n",
              "    </tr>\n",
              "    <tr>\n",
              "      <th>59996</th>\n",
              "      <td>neg</td>\n",
              "      <td>2286</td>\n",
              "      <td>2.130707e+09</td>\n",
              "      <td>0.0</td>\n",
              "      <td>0.0</td>\n",
              "      <td>0.0</td>\n",
              "      <td>0.0</td>\n",
              "      <td>0.0</td>\n",
              "      <td>0.0</td>\n",
              "      <td>104.0</td>\n",
              "      <td>...</td>\n",
              "      <td>10578.0</td>\n",
              "      <td>6760.0</td>\n",
              "      <td>21126.0</td>\n",
              "      <td>68424.0</td>\n",
              "      <td>136.0</td>\n",
              "      <td>0.0</td>\n",
              "      <td>0.0</td>\n",
              "      <td>0.0</td>\n",
              "      <td>0.0</td>\n",
              "      <td>0.0</td>\n",
              "    </tr>\n",
              "    <tr>\n",
              "      <th>59997</th>\n",
              "      <td>neg</td>\n",
              "      <td>112</td>\n",
              "      <td>2.130706e+09</td>\n",
              "      <td>0.0</td>\n",
              "      <td>0.0</td>\n",
              "      <td>0.0</td>\n",
              "      <td>0.0</td>\n",
              "      <td>0.0</td>\n",
              "      <td>0.0</td>\n",
              "      <td>28.0</td>\n",
              "      <td>...</td>\n",
              "      <td>792.0</td>\n",
              "      <td>386.0</td>\n",
              "      <td>452.0</td>\n",
              "      <td>144.0</td>\n",
              "      <td>146.0</td>\n",
              "      <td>2622.0</td>\n",
              "      <td>0.0</td>\n",
              "      <td>0.0</td>\n",
              "      <td>0.0</td>\n",
              "      <td>0.0</td>\n",
              "    </tr>\n",
              "    <tr>\n",
              "      <th>59998</th>\n",
              "      <td>neg</td>\n",
              "      <td>80292</td>\n",
              "      <td>2.130706e+09</td>\n",
              "      <td>0.0</td>\n",
              "      <td>0.0</td>\n",
              "      <td>0.0</td>\n",
              "      <td>0.0</td>\n",
              "      <td>0.0</td>\n",
              "      <td>0.0</td>\n",
              "      <td>330.0</td>\n",
              "      <td>...</td>\n",
              "      <td>699352.0</td>\n",
              "      <td>222654.0</td>\n",
              "      <td>347378.0</td>\n",
              "      <td>225724.0</td>\n",
              "      <td>194440.0</td>\n",
              "      <td>165070.0</td>\n",
              "      <td>802280.0</td>\n",
              "      <td>388422.0</td>\n",
              "      <td>0.0</td>\n",
              "      <td>0.0</td>\n",
              "    </tr>\n",
              "    <tr>\n",
              "      <th>59999</th>\n",
              "      <td>neg</td>\n",
              "      <td>40222</td>\n",
              "      <td>6.980000e+02</td>\n",
              "      <td>0.0</td>\n",
              "      <td>0.0</td>\n",
              "      <td>0.0</td>\n",
              "      <td>0.0</td>\n",
              "      <td>0.0</td>\n",
              "      <td>0.0</td>\n",
              "      <td>1226.0</td>\n",
              "      <td>...</td>\n",
              "      <td>440066.0</td>\n",
              "      <td>183200.0</td>\n",
              "      <td>344546.0</td>\n",
              "      <td>254068.0</td>\n",
              "      <td>225148.0</td>\n",
              "      <td>158304.0</td>\n",
              "      <td>170384.0</td>\n",
              "      <td>158.0</td>\n",
              "      <td>0.0</td>\n",
              "      <td>0.0</td>\n",
              "    </tr>\n",
              "  </tbody>\n",
              "</table>\n",
              "<p>60000 rows × 143 columns</p>\n",
              "</div>\n",
              "      <button class=\"colab-df-convert\" onclick=\"convertToInteractive('df-92111f36-d065-402f-8af9-7693e1fbd2a1')\"\n",
              "              title=\"Convert this dataframe to an interactive table.\"\n",
              "              style=\"display:none;\">\n",
              "        \n",
              "  <svg xmlns=\"http://www.w3.org/2000/svg\" height=\"24px\"viewBox=\"0 0 24 24\"\n",
              "       width=\"24px\">\n",
              "    <path d=\"M0 0h24v24H0V0z\" fill=\"none\"/>\n",
              "    <path d=\"M18.56 5.44l.94 2.06.94-2.06 2.06-.94-2.06-.94-.94-2.06-.94 2.06-2.06.94zm-11 1L8.5 8.5l.94-2.06 2.06-.94-2.06-.94L8.5 2.5l-.94 2.06-2.06.94zm10 10l.94 2.06.94-2.06 2.06-.94-2.06-.94-.94-2.06-.94 2.06-2.06.94z\"/><path d=\"M17.41 7.96l-1.37-1.37c-.4-.4-.92-.59-1.43-.59-.52 0-1.04.2-1.43.59L10.3 9.45l-7.72 7.72c-.78.78-.78 2.05 0 2.83L4 21.41c.39.39.9.59 1.41.59.51 0 1.02-.2 1.41-.59l7.78-7.78 2.81-2.81c.8-.78.8-2.07 0-2.86zM5.41 20L4 18.59l7.72-7.72 1.47 1.35L5.41 20z\"/>\n",
              "  </svg>\n",
              "      </button>\n",
              "      \n",
              "  <style>\n",
              "    .colab-df-container {\n",
              "      display:flex;\n",
              "      flex-wrap:wrap;\n",
              "      gap: 12px;\n",
              "    }\n",
              "\n",
              "    .colab-df-convert {\n",
              "      background-color: #E8F0FE;\n",
              "      border: none;\n",
              "      border-radius: 50%;\n",
              "      cursor: pointer;\n",
              "      display: none;\n",
              "      fill: #1967D2;\n",
              "      height: 32px;\n",
              "      padding: 0 0 0 0;\n",
              "      width: 32px;\n",
              "    }\n",
              "\n",
              "    .colab-df-convert:hover {\n",
              "      background-color: #E2EBFA;\n",
              "      box-shadow: 0px 1px 2px rgba(60, 64, 67, 0.3), 0px 1px 3px 1px rgba(60, 64, 67, 0.15);\n",
              "      fill: #174EA6;\n",
              "    }\n",
              "\n",
              "    [theme=dark] .colab-df-convert {\n",
              "      background-color: #3B4455;\n",
              "      fill: #D2E3FC;\n",
              "    }\n",
              "\n",
              "    [theme=dark] .colab-df-convert:hover {\n",
              "      background-color: #434B5C;\n",
              "      box-shadow: 0px 1px 3px 1px rgba(0, 0, 0, 0.15);\n",
              "      filter: drop-shadow(0px 1px 2px rgba(0, 0, 0, 0.3));\n",
              "      fill: #FFFFFF;\n",
              "    }\n",
              "  </style>\n",
              "\n",
              "      <script>\n",
              "        const buttonEl =\n",
              "          document.querySelector('#df-92111f36-d065-402f-8af9-7693e1fbd2a1 button.colab-df-convert');\n",
              "        buttonEl.style.display =\n",
              "          google.colab.kernel.accessAllowed ? 'block' : 'none';\n",
              "\n",
              "        async function convertToInteractive(key) {\n",
              "          const element = document.querySelector('#df-92111f36-d065-402f-8af9-7693e1fbd2a1');\n",
              "          const dataTable =\n",
              "            await google.colab.kernel.invokeFunction('convertToInteractive',\n",
              "                                                     [key], {});\n",
              "          if (!dataTable) return;\n",
              "\n",
              "          const docLinkHtml = 'Like what you see? Visit the ' +\n",
              "            '<a target=\"_blank\" href=https://colab.research.google.com/notebooks/data_table.ipynb>data table notebook</a>'\n",
              "            + ' to learn more about interactive tables.';\n",
              "          element.innerHTML = '';\n",
              "          dataTable['output_type'] = 'display_data';\n",
              "          await google.colab.output.renderOutput(dataTable, element);\n",
              "          const docLink = document.createElement('div');\n",
              "          docLink.innerHTML = docLinkHtml;\n",
              "          element.appendChild(docLink);\n",
              "        }\n",
              "      </script>\n",
              "    </div>\n",
              "  </div>\n",
              "  "
            ]
          },
          "metadata": {},
          "execution_count": 96
        }
      ]
    },
    {
      "cell_type": "code",
      "source": [
        "Y = X[['class']]"
      ],
      "metadata": {
        "id": "zF3HVl7bfm6U"
      },
      "execution_count": 97,
      "outputs": []
    },
    {
      "cell_type": "code",
      "source": [
        "Y"
      ],
      "metadata": {
        "colab": {
          "base_uri": "https://localhost:8080/",
          "height": 505
        },
        "id": "Nv7cu0gtfrNr",
        "outputId": "a850d5e4-65f8-40ce-df95-88de0825d789"
      },
      "execution_count": 98,
      "outputs": [
        {
          "output_type": "execute_result",
          "data": {
            "text/plain": [
              "      class\n",
              "0       neg\n",
              "1       neg\n",
              "2       neg\n",
              "3       neg\n",
              "4       neg\n",
              "...     ...\n",
              "59995   neg\n",
              "59996   neg\n",
              "59997   neg\n",
              "59998   neg\n",
              "59999   neg\n",
              "\n",
              "[60000 rows x 1 columns]"
            ],
            "text/html": [
              "\n",
              "  <div id=\"df-456e199b-2868-4e06-a566-03784c9e5ee1\">\n",
              "    <div class=\"colab-df-container\">\n",
              "      <div>\n",
              "<style scoped>\n",
              "    .dataframe tbody tr th:only-of-type {\n",
              "        vertical-align: middle;\n",
              "    }\n",
              "\n",
              "    .dataframe tbody tr th {\n",
              "        vertical-align: top;\n",
              "    }\n",
              "\n",
              "    .dataframe thead th {\n",
              "        text-align: right;\n",
              "    }\n",
              "</style>\n",
              "<table border=\"1\" class=\"dataframe\">\n",
              "  <thead>\n",
              "    <tr style=\"text-align: right;\">\n",
              "      <th></th>\n",
              "      <th>class</th>\n",
              "    </tr>\n",
              "  </thead>\n",
              "  <tbody>\n",
              "    <tr>\n",
              "      <th>0</th>\n",
              "      <td>neg</td>\n",
              "    </tr>\n",
              "    <tr>\n",
              "      <th>1</th>\n",
              "      <td>neg</td>\n",
              "    </tr>\n",
              "    <tr>\n",
              "      <th>2</th>\n",
              "      <td>neg</td>\n",
              "    </tr>\n",
              "    <tr>\n",
              "      <th>3</th>\n",
              "      <td>neg</td>\n",
              "    </tr>\n",
              "    <tr>\n",
              "      <th>4</th>\n",
              "      <td>neg</td>\n",
              "    </tr>\n",
              "    <tr>\n",
              "      <th>...</th>\n",
              "      <td>...</td>\n",
              "    </tr>\n",
              "    <tr>\n",
              "      <th>59995</th>\n",
              "      <td>neg</td>\n",
              "    </tr>\n",
              "    <tr>\n",
              "      <th>59996</th>\n",
              "      <td>neg</td>\n",
              "    </tr>\n",
              "    <tr>\n",
              "      <th>59997</th>\n",
              "      <td>neg</td>\n",
              "    </tr>\n",
              "    <tr>\n",
              "      <th>59998</th>\n",
              "      <td>neg</td>\n",
              "    </tr>\n",
              "    <tr>\n",
              "      <th>59999</th>\n",
              "      <td>neg</td>\n",
              "    </tr>\n",
              "  </tbody>\n",
              "</table>\n",
              "<p>60000 rows × 1 columns</p>\n",
              "</div>\n",
              "      <button class=\"colab-df-convert\" onclick=\"convertToInteractive('df-456e199b-2868-4e06-a566-03784c9e5ee1')\"\n",
              "              title=\"Convert this dataframe to an interactive table.\"\n",
              "              style=\"display:none;\">\n",
              "        \n",
              "  <svg xmlns=\"http://www.w3.org/2000/svg\" height=\"24px\"viewBox=\"0 0 24 24\"\n",
              "       width=\"24px\">\n",
              "    <path d=\"M0 0h24v24H0V0z\" fill=\"none\"/>\n",
              "    <path d=\"M18.56 5.44l.94 2.06.94-2.06 2.06-.94-2.06-.94-.94-2.06-.94 2.06-2.06.94zm-11 1L8.5 8.5l.94-2.06 2.06-.94-2.06-.94L8.5 2.5l-.94 2.06-2.06.94zm10 10l.94 2.06.94-2.06 2.06-.94-2.06-.94-.94-2.06-.94 2.06-2.06.94z\"/><path d=\"M17.41 7.96l-1.37-1.37c-.4-.4-.92-.59-1.43-.59-.52 0-1.04.2-1.43.59L10.3 9.45l-7.72 7.72c-.78.78-.78 2.05 0 2.83L4 21.41c.39.39.9.59 1.41.59.51 0 1.02-.2 1.41-.59l7.78-7.78 2.81-2.81c.8-.78.8-2.07 0-2.86zM5.41 20L4 18.59l7.72-7.72 1.47 1.35L5.41 20z\"/>\n",
              "  </svg>\n",
              "      </button>\n",
              "      \n",
              "  <style>\n",
              "    .colab-df-container {\n",
              "      display:flex;\n",
              "      flex-wrap:wrap;\n",
              "      gap: 12px;\n",
              "    }\n",
              "\n",
              "    .colab-df-convert {\n",
              "      background-color: #E8F0FE;\n",
              "      border: none;\n",
              "      border-radius: 50%;\n",
              "      cursor: pointer;\n",
              "      display: none;\n",
              "      fill: #1967D2;\n",
              "      height: 32px;\n",
              "      padding: 0 0 0 0;\n",
              "      width: 32px;\n",
              "    }\n",
              "\n",
              "    .colab-df-convert:hover {\n",
              "      background-color: #E2EBFA;\n",
              "      box-shadow: 0px 1px 2px rgba(60, 64, 67, 0.3), 0px 1px 3px 1px rgba(60, 64, 67, 0.15);\n",
              "      fill: #174EA6;\n",
              "    }\n",
              "\n",
              "    [theme=dark] .colab-df-convert {\n",
              "      background-color: #3B4455;\n",
              "      fill: #D2E3FC;\n",
              "    }\n",
              "\n",
              "    [theme=dark] .colab-df-convert:hover {\n",
              "      background-color: #434B5C;\n",
              "      box-shadow: 0px 1px 3px 1px rgba(0, 0, 0, 0.15);\n",
              "      filter: drop-shadow(0px 1px 2px rgba(0, 0, 0, 0.3));\n",
              "      fill: #FFFFFF;\n",
              "    }\n",
              "  </style>\n",
              "\n",
              "      <script>\n",
              "        const buttonEl =\n",
              "          document.querySelector('#df-456e199b-2868-4e06-a566-03784c9e5ee1 button.colab-df-convert');\n",
              "        buttonEl.style.display =\n",
              "          google.colab.kernel.accessAllowed ? 'block' : 'none';\n",
              "\n",
              "        async function convertToInteractive(key) {\n",
              "          const element = document.querySelector('#df-456e199b-2868-4e06-a566-03784c9e5ee1');\n",
              "          const dataTable =\n",
              "            await google.colab.kernel.invokeFunction('convertToInteractive',\n",
              "                                                     [key], {});\n",
              "          if (!dataTable) return;\n",
              "\n",
              "          const docLinkHtml = 'Like what you see? Visit the ' +\n",
              "            '<a target=\"_blank\" href=https://colab.research.google.com/notebooks/data_table.ipynb>data table notebook</a>'\n",
              "            + ' to learn more about interactive tables.';\n",
              "          element.innerHTML = '';\n",
              "          dataTable['output_type'] = 'display_data';\n",
              "          await google.colab.output.renderOutput(dataTable, element);\n",
              "          const docLink = document.createElement('div');\n",
              "          docLink.innerHTML = docLinkHtml;\n",
              "          element.appendChild(docLink);\n",
              "        }\n",
              "      </script>\n",
              "    </div>\n",
              "  </div>\n",
              "  "
            ]
          },
          "metadata": {},
          "execution_count": 98
        }
      ]
    },
    {
      "cell_type": "code",
      "source": [
        "Y['class'].replace(['neg', 'pos'], [0,1], inplace=True)"
      ],
      "metadata": {
        "colab": {
          "base_uri": "https://localhost:8080/"
        },
        "id": "a08axt2Gggys",
        "outputId": "1726b51c-483d-4814-edd4-073cbb545fc9"
      },
      "execution_count": 99,
      "outputs": [
        {
          "output_type": "stream",
          "name": "stderr",
          "text": [
            "/usr/local/lib/python3.8/dist-packages/pandas/core/generic.py:6619: SettingWithCopyWarning: \n",
            "A value is trying to be set on a copy of a slice from a DataFrame\n",
            "\n",
            "See the caveats in the documentation: https://pandas.pydata.org/pandas-docs/stable/user_guide/indexing.html#returning-a-view-versus-a-copy\n",
            "  return self._update_inplace(result)\n"
          ]
        }
      ]
    },
    {
      "cell_type": "code",
      "source": [
        "Y"
      ],
      "metadata": {
        "colab": {
          "base_uri": "https://localhost:8080/",
          "height": 505
        },
        "id": "n6yTxe9MiJHO",
        "outputId": "383642a9-b11e-4020-8308-90c8ae239648"
      },
      "execution_count": 100,
      "outputs": [
        {
          "output_type": "execute_result",
          "data": {
            "text/plain": [
              "       class\n",
              "0          0\n",
              "1          0\n",
              "2          0\n",
              "3          0\n",
              "4          0\n",
              "...      ...\n",
              "59995      0\n",
              "59996      0\n",
              "59997      0\n",
              "59998      0\n",
              "59999      0\n",
              "\n",
              "[60000 rows x 1 columns]"
            ],
            "text/html": [
              "\n",
              "  <div id=\"df-de188826-2680-40d6-8851-19acf5c84fc8\">\n",
              "    <div class=\"colab-df-container\">\n",
              "      <div>\n",
              "<style scoped>\n",
              "    .dataframe tbody tr th:only-of-type {\n",
              "        vertical-align: middle;\n",
              "    }\n",
              "\n",
              "    .dataframe tbody tr th {\n",
              "        vertical-align: top;\n",
              "    }\n",
              "\n",
              "    .dataframe thead th {\n",
              "        text-align: right;\n",
              "    }\n",
              "</style>\n",
              "<table border=\"1\" class=\"dataframe\">\n",
              "  <thead>\n",
              "    <tr style=\"text-align: right;\">\n",
              "      <th></th>\n",
              "      <th>class</th>\n",
              "    </tr>\n",
              "  </thead>\n",
              "  <tbody>\n",
              "    <tr>\n",
              "      <th>0</th>\n",
              "      <td>0</td>\n",
              "    </tr>\n",
              "    <tr>\n",
              "      <th>1</th>\n",
              "      <td>0</td>\n",
              "    </tr>\n",
              "    <tr>\n",
              "      <th>2</th>\n",
              "      <td>0</td>\n",
              "    </tr>\n",
              "    <tr>\n",
              "      <th>3</th>\n",
              "      <td>0</td>\n",
              "    </tr>\n",
              "    <tr>\n",
              "      <th>4</th>\n",
              "      <td>0</td>\n",
              "    </tr>\n",
              "    <tr>\n",
              "      <th>...</th>\n",
              "      <td>...</td>\n",
              "    </tr>\n",
              "    <tr>\n",
              "      <th>59995</th>\n",
              "      <td>0</td>\n",
              "    </tr>\n",
              "    <tr>\n",
              "      <th>59996</th>\n",
              "      <td>0</td>\n",
              "    </tr>\n",
              "    <tr>\n",
              "      <th>59997</th>\n",
              "      <td>0</td>\n",
              "    </tr>\n",
              "    <tr>\n",
              "      <th>59998</th>\n",
              "      <td>0</td>\n",
              "    </tr>\n",
              "    <tr>\n",
              "      <th>59999</th>\n",
              "      <td>0</td>\n",
              "    </tr>\n",
              "  </tbody>\n",
              "</table>\n",
              "<p>60000 rows × 1 columns</p>\n",
              "</div>\n",
              "      <button class=\"colab-df-convert\" onclick=\"convertToInteractive('df-de188826-2680-40d6-8851-19acf5c84fc8')\"\n",
              "              title=\"Convert this dataframe to an interactive table.\"\n",
              "              style=\"display:none;\">\n",
              "        \n",
              "  <svg xmlns=\"http://www.w3.org/2000/svg\" height=\"24px\"viewBox=\"0 0 24 24\"\n",
              "       width=\"24px\">\n",
              "    <path d=\"M0 0h24v24H0V0z\" fill=\"none\"/>\n",
              "    <path d=\"M18.56 5.44l.94 2.06.94-2.06 2.06-.94-2.06-.94-.94-2.06-.94 2.06-2.06.94zm-11 1L8.5 8.5l.94-2.06 2.06-.94-2.06-.94L8.5 2.5l-.94 2.06-2.06.94zm10 10l.94 2.06.94-2.06 2.06-.94-2.06-.94-.94-2.06-.94 2.06-2.06.94z\"/><path d=\"M17.41 7.96l-1.37-1.37c-.4-.4-.92-.59-1.43-.59-.52 0-1.04.2-1.43.59L10.3 9.45l-7.72 7.72c-.78.78-.78 2.05 0 2.83L4 21.41c.39.39.9.59 1.41.59.51 0 1.02-.2 1.41-.59l7.78-7.78 2.81-2.81c.8-.78.8-2.07 0-2.86zM5.41 20L4 18.59l7.72-7.72 1.47 1.35L5.41 20z\"/>\n",
              "  </svg>\n",
              "      </button>\n",
              "      \n",
              "  <style>\n",
              "    .colab-df-container {\n",
              "      display:flex;\n",
              "      flex-wrap:wrap;\n",
              "      gap: 12px;\n",
              "    }\n",
              "\n",
              "    .colab-df-convert {\n",
              "      background-color: #E8F0FE;\n",
              "      border: none;\n",
              "      border-radius: 50%;\n",
              "      cursor: pointer;\n",
              "      display: none;\n",
              "      fill: #1967D2;\n",
              "      height: 32px;\n",
              "      padding: 0 0 0 0;\n",
              "      width: 32px;\n",
              "    }\n",
              "\n",
              "    .colab-df-convert:hover {\n",
              "      background-color: #E2EBFA;\n",
              "      box-shadow: 0px 1px 2px rgba(60, 64, 67, 0.3), 0px 1px 3px 1px rgba(60, 64, 67, 0.15);\n",
              "      fill: #174EA6;\n",
              "    }\n",
              "\n",
              "    [theme=dark] .colab-df-convert {\n",
              "      background-color: #3B4455;\n",
              "      fill: #D2E3FC;\n",
              "    }\n",
              "\n",
              "    [theme=dark] .colab-df-convert:hover {\n",
              "      background-color: #434B5C;\n",
              "      box-shadow: 0px 1px 3px 1px rgba(0, 0, 0, 0.15);\n",
              "      filter: drop-shadow(0px 1px 2px rgba(0, 0, 0, 0.3));\n",
              "      fill: #FFFFFF;\n",
              "    }\n",
              "  </style>\n",
              "\n",
              "      <script>\n",
              "        const buttonEl =\n",
              "          document.querySelector('#df-de188826-2680-40d6-8851-19acf5c84fc8 button.colab-df-convert');\n",
              "        buttonEl.style.display =\n",
              "          google.colab.kernel.accessAllowed ? 'block' : 'none';\n",
              "\n",
              "        async function convertToInteractive(key) {\n",
              "          const element = document.querySelector('#df-de188826-2680-40d6-8851-19acf5c84fc8');\n",
              "          const dataTable =\n",
              "            await google.colab.kernel.invokeFunction('convertToInteractive',\n",
              "                                                     [key], {});\n",
              "          if (!dataTable) return;\n",
              "\n",
              "          const docLinkHtml = 'Like what you see? Visit the ' +\n",
              "            '<a target=\"_blank\" href=https://colab.research.google.com/notebooks/data_table.ipynb>data table notebook</a>'\n",
              "            + ' to learn more about interactive tables.';\n",
              "          element.innerHTML = '';\n",
              "          dataTable['output_type'] = 'display_data';\n",
              "          await google.colab.output.renderOutput(dataTable, element);\n",
              "          const docLink = document.createElement('div');\n",
              "          docLink.innerHTML = docLinkHtml;\n",
              "          element.appendChild(docLink);\n",
              "        }\n",
              "      </script>\n",
              "    </div>\n",
              "  </div>\n",
              "  "
            ]
          },
          "metadata": {},
          "execution_count": 100
        }
      ]
    },
    {
      "cell_type": "code",
      "source": [
        "Y['class'].value_counts() "
      ],
      "metadata": {
        "colab": {
          "base_uri": "https://localhost:8080/"
        },
        "id": "7NO8S0edhi6v",
        "outputId": "bade2264-e066-4ee5-a1dc-c2bc038f931e"
      },
      "execution_count": 101,
      "outputs": [
        {
          "output_type": "execute_result",
          "data": {
            "text/plain": [
              "0    59000\n",
              "1     1000\n",
              "Name: class, dtype: int64"
            ]
          },
          "metadata": {},
          "execution_count": 101
        }
      ]
    },
    {
      "cell_type": "code",
      "source": [
        "X = X.drop(['class'], axis=1)"
      ],
      "metadata": {
        "id": "uZv--IEafsYW"
      },
      "execution_count": 102,
      "outputs": []
    },
    {
      "cell_type": "code",
      "source": [
        "Y"
      ],
      "metadata": {
        "colab": {
          "base_uri": "https://localhost:8080/",
          "height": 505
        },
        "id": "ZwBfeshOkRZu",
        "outputId": "3e1f74c7-f33f-441b-f4c2-522caf0e5963"
      },
      "execution_count": 103,
      "outputs": [
        {
          "output_type": "execute_result",
          "data": {
            "text/plain": [
              "       class\n",
              "0          0\n",
              "1          0\n",
              "2          0\n",
              "3          0\n",
              "4          0\n",
              "...      ...\n",
              "59995      0\n",
              "59996      0\n",
              "59997      0\n",
              "59998      0\n",
              "59999      0\n",
              "\n",
              "[60000 rows x 1 columns]"
            ],
            "text/html": [
              "\n",
              "  <div id=\"df-b4b53ac5-7595-4af5-9803-61bef1e81faf\">\n",
              "    <div class=\"colab-df-container\">\n",
              "      <div>\n",
              "<style scoped>\n",
              "    .dataframe tbody tr th:only-of-type {\n",
              "        vertical-align: middle;\n",
              "    }\n",
              "\n",
              "    .dataframe tbody tr th {\n",
              "        vertical-align: top;\n",
              "    }\n",
              "\n",
              "    .dataframe thead th {\n",
              "        text-align: right;\n",
              "    }\n",
              "</style>\n",
              "<table border=\"1\" class=\"dataframe\">\n",
              "  <thead>\n",
              "    <tr style=\"text-align: right;\">\n",
              "      <th></th>\n",
              "      <th>class</th>\n",
              "    </tr>\n",
              "  </thead>\n",
              "  <tbody>\n",
              "    <tr>\n",
              "      <th>0</th>\n",
              "      <td>0</td>\n",
              "    </tr>\n",
              "    <tr>\n",
              "      <th>1</th>\n",
              "      <td>0</td>\n",
              "    </tr>\n",
              "    <tr>\n",
              "      <th>2</th>\n",
              "      <td>0</td>\n",
              "    </tr>\n",
              "    <tr>\n",
              "      <th>3</th>\n",
              "      <td>0</td>\n",
              "    </tr>\n",
              "    <tr>\n",
              "      <th>4</th>\n",
              "      <td>0</td>\n",
              "    </tr>\n",
              "    <tr>\n",
              "      <th>...</th>\n",
              "      <td>...</td>\n",
              "    </tr>\n",
              "    <tr>\n",
              "      <th>59995</th>\n",
              "      <td>0</td>\n",
              "    </tr>\n",
              "    <tr>\n",
              "      <th>59996</th>\n",
              "      <td>0</td>\n",
              "    </tr>\n",
              "    <tr>\n",
              "      <th>59997</th>\n",
              "      <td>0</td>\n",
              "    </tr>\n",
              "    <tr>\n",
              "      <th>59998</th>\n",
              "      <td>0</td>\n",
              "    </tr>\n",
              "    <tr>\n",
              "      <th>59999</th>\n",
              "      <td>0</td>\n",
              "    </tr>\n",
              "  </tbody>\n",
              "</table>\n",
              "<p>60000 rows × 1 columns</p>\n",
              "</div>\n",
              "      <button class=\"colab-df-convert\" onclick=\"convertToInteractive('df-b4b53ac5-7595-4af5-9803-61bef1e81faf')\"\n",
              "              title=\"Convert this dataframe to an interactive table.\"\n",
              "              style=\"display:none;\">\n",
              "        \n",
              "  <svg xmlns=\"http://www.w3.org/2000/svg\" height=\"24px\"viewBox=\"0 0 24 24\"\n",
              "       width=\"24px\">\n",
              "    <path d=\"M0 0h24v24H0V0z\" fill=\"none\"/>\n",
              "    <path d=\"M18.56 5.44l.94 2.06.94-2.06 2.06-.94-2.06-.94-.94-2.06-.94 2.06-2.06.94zm-11 1L8.5 8.5l.94-2.06 2.06-.94-2.06-.94L8.5 2.5l-.94 2.06-2.06.94zm10 10l.94 2.06.94-2.06 2.06-.94-2.06-.94-.94-2.06-.94 2.06-2.06.94z\"/><path d=\"M17.41 7.96l-1.37-1.37c-.4-.4-.92-.59-1.43-.59-.52 0-1.04.2-1.43.59L10.3 9.45l-7.72 7.72c-.78.78-.78 2.05 0 2.83L4 21.41c.39.39.9.59 1.41.59.51 0 1.02-.2 1.41-.59l7.78-7.78 2.81-2.81c.8-.78.8-2.07 0-2.86zM5.41 20L4 18.59l7.72-7.72 1.47 1.35L5.41 20z\"/>\n",
              "  </svg>\n",
              "      </button>\n",
              "      \n",
              "  <style>\n",
              "    .colab-df-container {\n",
              "      display:flex;\n",
              "      flex-wrap:wrap;\n",
              "      gap: 12px;\n",
              "    }\n",
              "\n",
              "    .colab-df-convert {\n",
              "      background-color: #E8F0FE;\n",
              "      border: none;\n",
              "      border-radius: 50%;\n",
              "      cursor: pointer;\n",
              "      display: none;\n",
              "      fill: #1967D2;\n",
              "      height: 32px;\n",
              "      padding: 0 0 0 0;\n",
              "      width: 32px;\n",
              "    }\n",
              "\n",
              "    .colab-df-convert:hover {\n",
              "      background-color: #E2EBFA;\n",
              "      box-shadow: 0px 1px 2px rgba(60, 64, 67, 0.3), 0px 1px 3px 1px rgba(60, 64, 67, 0.15);\n",
              "      fill: #174EA6;\n",
              "    }\n",
              "\n",
              "    [theme=dark] .colab-df-convert {\n",
              "      background-color: #3B4455;\n",
              "      fill: #D2E3FC;\n",
              "    }\n",
              "\n",
              "    [theme=dark] .colab-df-convert:hover {\n",
              "      background-color: #434B5C;\n",
              "      box-shadow: 0px 1px 3px 1px rgba(0, 0, 0, 0.15);\n",
              "      filter: drop-shadow(0px 1px 2px rgba(0, 0, 0, 0.3));\n",
              "      fill: #FFFFFF;\n",
              "    }\n",
              "  </style>\n",
              "\n",
              "      <script>\n",
              "        const buttonEl =\n",
              "          document.querySelector('#df-b4b53ac5-7595-4af5-9803-61bef1e81faf button.colab-df-convert');\n",
              "        buttonEl.style.display =\n",
              "          google.colab.kernel.accessAllowed ? 'block' : 'none';\n",
              "\n",
              "        async function convertToInteractive(key) {\n",
              "          const element = document.querySelector('#df-b4b53ac5-7595-4af5-9803-61bef1e81faf');\n",
              "          const dataTable =\n",
              "            await google.colab.kernel.invokeFunction('convertToInteractive',\n",
              "                                                     [key], {});\n",
              "          if (!dataTable) return;\n",
              "\n",
              "          const docLinkHtml = 'Like what you see? Visit the ' +\n",
              "            '<a target=\"_blank\" href=https://colab.research.google.com/notebooks/data_table.ipynb>data table notebook</a>'\n",
              "            + ' to learn more about interactive tables.';\n",
              "          element.innerHTML = '';\n",
              "          dataTable['output_type'] = 'display_data';\n",
              "          await google.colab.output.renderOutput(dataTable, element);\n",
              "          const docLink = document.createElement('div');\n",
              "          docLink.innerHTML = docLinkHtml;\n",
              "          element.appendChild(docLink);\n",
              "        }\n",
              "      </script>\n",
              "    </div>\n",
              "  </div>\n",
              "  "
            ]
          },
          "metadata": {},
          "execution_count": 103
        }
      ]
    },
    {
      "cell_type": "markdown",
      "source": [
        "### Inference"
      ],
      "metadata": {
        "id": "FJiMKO70u2e5"
      }
    },
    {
      "cell_type": "code",
      "source": [
        "Dataset_test['class'].value_counts()\n"
      ],
      "metadata": {
        "colab": {
          "base_uri": "https://localhost:8080/"
        },
        "id": "Eb8cMoMeubgP",
        "outputId": "fdd03894-5d10-450c-ce6b-8561e9924cb2"
      },
      "execution_count": 104,
      "outputs": [
        {
          "output_type": "execute_result",
          "data": {
            "text/plain": [
              "neg    15625\n",
              "pos      375\n",
              "Name: class, dtype: int64"
            ]
          },
          "metadata": {},
          "execution_count": 104
        }
      ]
    },
    {
      "cell_type": "code",
      "source": [
        "Dataset_test"
      ],
      "metadata": {
        "colab": {
          "base_uri": "https://localhost:8080/",
          "height": 488
        },
        "id": "q6uLFcRXvNCJ",
        "outputId": "8d06fbbd-a07a-4d4d-aff6-4e4ac03426a5"
      },
      "execution_count": 105,
      "outputs": [
        {
          "output_type": "execute_result",
          "data": {
            "text/plain": [
              "      class  aa_000  ab_000        ac_000  ad_000  ae_000  af_000  ag_000  \\\n",
              "0       neg      60     0.0  2.000000e+01    12.0     0.0     0.0     0.0   \n",
              "1       neg      82     0.0  6.800000e+01    40.0     0.0     0.0     0.0   \n",
              "2       neg   66002     2.0  2.120000e+02   112.0     0.0     0.0     0.0   \n",
              "3       neg   59816     NaN  1.010000e+03   936.0     0.0     0.0     0.0   \n",
              "4       neg    1814     NaN  1.560000e+02   140.0     0.0     0.0     0.0   \n",
              "...     ...     ...     ...           ...     ...     ...     ...     ...   \n",
              "15995   neg   81852     NaN  2.130706e+09   892.0     0.0     0.0     0.0   \n",
              "15996   neg      18     0.0  5.200000e+01    46.0     8.0    26.0     0.0   \n",
              "15997   neg   79636     NaN  1.670000e+03  1518.0     0.0     0.0     0.0   \n",
              "15998   neg     110     NaN  3.600000e+01    32.0     0.0     0.0     0.0   \n",
              "15999   neg       8     0.0  6.000000e+00     4.0     2.0     2.0     0.0   \n",
              "\n",
              "       ag_001  ag_002  ...    ee_002    ee_003    ee_004    ee_005     ee_006  \\\n",
              "0         0.0     0.0  ...    1098.0     138.0     412.0     654.0       78.0   \n",
              "1         0.0     0.0  ...    1068.0     276.0    1620.0     116.0       86.0   \n",
              "2         0.0     0.0  ...  495076.0  380368.0  440134.0  269556.0  1315022.0   \n",
              "3         0.0     0.0  ...  540820.0  243270.0  483302.0  485332.0   431376.0   \n",
              "4         0.0     0.0  ...    7646.0    4144.0   18466.0   49782.0     3176.0   \n",
              "...       ...     ...  ...       ...       ...       ...       ...        ...   \n",
              "15995     0.0     0.0  ...  632658.0  273242.0  510354.0  373918.0   349840.0   \n",
              "15996     0.0     0.0  ...     266.0      44.0      46.0      14.0        2.0   \n",
              "15997     0.0     0.0  ...  806832.0  449962.0  778826.0  581558.0   375498.0   \n",
              "15998     0.0     0.0  ...     588.0     210.0     180.0     544.0     1004.0   \n",
              "15999     0.0     0.0  ...      46.0      10.0      48.0      14.0       42.0   \n",
              "\n",
              "         ee_007    ee_008   ee_009  ef_000  eg_000  \n",
              "0          88.0       0.0      0.0     0.0     0.0  \n",
              "1         462.0       0.0      0.0     0.0     0.0  \n",
              "2      153680.0     516.0      0.0     0.0     0.0  \n",
              "3      210074.0  281662.0   3232.0     0.0     0.0  \n",
              "4         482.0      76.0      0.0     0.0     0.0  \n",
              "...         ...       ...      ...     ...     ...  \n",
              "15995  317840.0  960024.0  25566.0     0.0     0.0  \n",
              "15996       0.0       0.0      0.0     0.0     0.0  \n",
              "15997  222866.0  358934.0  19548.0     0.0     0.0  \n",
              "15998    1338.0      74.0      0.0     0.0     0.0  \n",
              "15999      46.0       0.0      0.0     0.0     0.0  \n",
              "\n",
              "[16000 rows x 171 columns]"
            ],
            "text/html": [
              "\n",
              "  <div id=\"df-cd6a87ac-5d42-495c-845b-901441a56fa6\">\n",
              "    <div class=\"colab-df-container\">\n",
              "      <div>\n",
              "<style scoped>\n",
              "    .dataframe tbody tr th:only-of-type {\n",
              "        vertical-align: middle;\n",
              "    }\n",
              "\n",
              "    .dataframe tbody tr th {\n",
              "        vertical-align: top;\n",
              "    }\n",
              "\n",
              "    .dataframe thead th {\n",
              "        text-align: right;\n",
              "    }\n",
              "</style>\n",
              "<table border=\"1\" class=\"dataframe\">\n",
              "  <thead>\n",
              "    <tr style=\"text-align: right;\">\n",
              "      <th></th>\n",
              "      <th>class</th>\n",
              "      <th>aa_000</th>\n",
              "      <th>ab_000</th>\n",
              "      <th>ac_000</th>\n",
              "      <th>ad_000</th>\n",
              "      <th>ae_000</th>\n",
              "      <th>af_000</th>\n",
              "      <th>ag_000</th>\n",
              "      <th>ag_001</th>\n",
              "      <th>ag_002</th>\n",
              "      <th>...</th>\n",
              "      <th>ee_002</th>\n",
              "      <th>ee_003</th>\n",
              "      <th>ee_004</th>\n",
              "      <th>ee_005</th>\n",
              "      <th>ee_006</th>\n",
              "      <th>ee_007</th>\n",
              "      <th>ee_008</th>\n",
              "      <th>ee_009</th>\n",
              "      <th>ef_000</th>\n",
              "      <th>eg_000</th>\n",
              "    </tr>\n",
              "  </thead>\n",
              "  <tbody>\n",
              "    <tr>\n",
              "      <th>0</th>\n",
              "      <td>neg</td>\n",
              "      <td>60</td>\n",
              "      <td>0.0</td>\n",
              "      <td>2.000000e+01</td>\n",
              "      <td>12.0</td>\n",
              "      <td>0.0</td>\n",
              "      <td>0.0</td>\n",
              "      <td>0.0</td>\n",
              "      <td>0.0</td>\n",
              "      <td>0.0</td>\n",
              "      <td>...</td>\n",
              "      <td>1098.0</td>\n",
              "      <td>138.0</td>\n",
              "      <td>412.0</td>\n",
              "      <td>654.0</td>\n",
              "      <td>78.0</td>\n",
              "      <td>88.0</td>\n",
              "      <td>0.0</td>\n",
              "      <td>0.0</td>\n",
              "      <td>0.0</td>\n",
              "      <td>0.0</td>\n",
              "    </tr>\n",
              "    <tr>\n",
              "      <th>1</th>\n",
              "      <td>neg</td>\n",
              "      <td>82</td>\n",
              "      <td>0.0</td>\n",
              "      <td>6.800000e+01</td>\n",
              "      <td>40.0</td>\n",
              "      <td>0.0</td>\n",
              "      <td>0.0</td>\n",
              "      <td>0.0</td>\n",
              "      <td>0.0</td>\n",
              "      <td>0.0</td>\n",
              "      <td>...</td>\n",
              "      <td>1068.0</td>\n",
              "      <td>276.0</td>\n",
              "      <td>1620.0</td>\n",
              "      <td>116.0</td>\n",
              "      <td>86.0</td>\n",
              "      <td>462.0</td>\n",
              "      <td>0.0</td>\n",
              "      <td>0.0</td>\n",
              "      <td>0.0</td>\n",
              "      <td>0.0</td>\n",
              "    </tr>\n",
              "    <tr>\n",
              "      <th>2</th>\n",
              "      <td>neg</td>\n",
              "      <td>66002</td>\n",
              "      <td>2.0</td>\n",
              "      <td>2.120000e+02</td>\n",
              "      <td>112.0</td>\n",
              "      <td>0.0</td>\n",
              "      <td>0.0</td>\n",
              "      <td>0.0</td>\n",
              "      <td>0.0</td>\n",
              "      <td>0.0</td>\n",
              "      <td>...</td>\n",
              "      <td>495076.0</td>\n",
              "      <td>380368.0</td>\n",
              "      <td>440134.0</td>\n",
              "      <td>269556.0</td>\n",
              "      <td>1315022.0</td>\n",
              "      <td>153680.0</td>\n",
              "      <td>516.0</td>\n",
              "      <td>0.0</td>\n",
              "      <td>0.0</td>\n",
              "      <td>0.0</td>\n",
              "    </tr>\n",
              "    <tr>\n",
              "      <th>3</th>\n",
              "      <td>neg</td>\n",
              "      <td>59816</td>\n",
              "      <td>NaN</td>\n",
              "      <td>1.010000e+03</td>\n",
              "      <td>936.0</td>\n",
              "      <td>0.0</td>\n",
              "      <td>0.0</td>\n",
              "      <td>0.0</td>\n",
              "      <td>0.0</td>\n",
              "      <td>0.0</td>\n",
              "      <td>...</td>\n",
              "      <td>540820.0</td>\n",
              "      <td>243270.0</td>\n",
              "      <td>483302.0</td>\n",
              "      <td>485332.0</td>\n",
              "      <td>431376.0</td>\n",
              "      <td>210074.0</td>\n",
              "      <td>281662.0</td>\n",
              "      <td>3232.0</td>\n",
              "      <td>0.0</td>\n",
              "      <td>0.0</td>\n",
              "    </tr>\n",
              "    <tr>\n",
              "      <th>4</th>\n",
              "      <td>neg</td>\n",
              "      <td>1814</td>\n",
              "      <td>NaN</td>\n",
              "      <td>1.560000e+02</td>\n",
              "      <td>140.0</td>\n",
              "      <td>0.0</td>\n",
              "      <td>0.0</td>\n",
              "      <td>0.0</td>\n",
              "      <td>0.0</td>\n",
              "      <td>0.0</td>\n",
              "      <td>...</td>\n",
              "      <td>7646.0</td>\n",
              "      <td>4144.0</td>\n",
              "      <td>18466.0</td>\n",
              "      <td>49782.0</td>\n",
              "      <td>3176.0</td>\n",
              "      <td>482.0</td>\n",
              "      <td>76.0</td>\n",
              "      <td>0.0</td>\n",
              "      <td>0.0</td>\n",
              "      <td>0.0</td>\n",
              "    </tr>\n",
              "    <tr>\n",
              "      <th>...</th>\n",
              "      <td>...</td>\n",
              "      <td>...</td>\n",
              "      <td>...</td>\n",
              "      <td>...</td>\n",
              "      <td>...</td>\n",
              "      <td>...</td>\n",
              "      <td>...</td>\n",
              "      <td>...</td>\n",
              "      <td>...</td>\n",
              "      <td>...</td>\n",
              "      <td>...</td>\n",
              "      <td>...</td>\n",
              "      <td>...</td>\n",
              "      <td>...</td>\n",
              "      <td>...</td>\n",
              "      <td>...</td>\n",
              "      <td>...</td>\n",
              "      <td>...</td>\n",
              "      <td>...</td>\n",
              "      <td>...</td>\n",
              "      <td>...</td>\n",
              "    </tr>\n",
              "    <tr>\n",
              "      <th>15995</th>\n",
              "      <td>neg</td>\n",
              "      <td>81852</td>\n",
              "      <td>NaN</td>\n",
              "      <td>2.130706e+09</td>\n",
              "      <td>892.0</td>\n",
              "      <td>0.0</td>\n",
              "      <td>0.0</td>\n",
              "      <td>0.0</td>\n",
              "      <td>0.0</td>\n",
              "      <td>0.0</td>\n",
              "      <td>...</td>\n",
              "      <td>632658.0</td>\n",
              "      <td>273242.0</td>\n",
              "      <td>510354.0</td>\n",
              "      <td>373918.0</td>\n",
              "      <td>349840.0</td>\n",
              "      <td>317840.0</td>\n",
              "      <td>960024.0</td>\n",
              "      <td>25566.0</td>\n",
              "      <td>0.0</td>\n",
              "      <td>0.0</td>\n",
              "    </tr>\n",
              "    <tr>\n",
              "      <th>15996</th>\n",
              "      <td>neg</td>\n",
              "      <td>18</td>\n",
              "      <td>0.0</td>\n",
              "      <td>5.200000e+01</td>\n",
              "      <td>46.0</td>\n",
              "      <td>8.0</td>\n",
              "      <td>26.0</td>\n",
              "      <td>0.0</td>\n",
              "      <td>0.0</td>\n",
              "      <td>0.0</td>\n",
              "      <td>...</td>\n",
              "      <td>266.0</td>\n",
              "      <td>44.0</td>\n",
              "      <td>46.0</td>\n",
              "      <td>14.0</td>\n",
              "      <td>2.0</td>\n",
              "      <td>0.0</td>\n",
              "      <td>0.0</td>\n",
              "      <td>0.0</td>\n",
              "      <td>0.0</td>\n",
              "      <td>0.0</td>\n",
              "    </tr>\n",
              "    <tr>\n",
              "      <th>15997</th>\n",
              "      <td>neg</td>\n",
              "      <td>79636</td>\n",
              "      <td>NaN</td>\n",
              "      <td>1.670000e+03</td>\n",
              "      <td>1518.0</td>\n",
              "      <td>0.0</td>\n",
              "      <td>0.0</td>\n",
              "      <td>0.0</td>\n",
              "      <td>0.0</td>\n",
              "      <td>0.0</td>\n",
              "      <td>...</td>\n",
              "      <td>806832.0</td>\n",
              "      <td>449962.0</td>\n",
              "      <td>778826.0</td>\n",
              "      <td>581558.0</td>\n",
              "      <td>375498.0</td>\n",
              "      <td>222866.0</td>\n",
              "      <td>358934.0</td>\n",
              "      <td>19548.0</td>\n",
              "      <td>0.0</td>\n",
              "      <td>0.0</td>\n",
              "    </tr>\n",
              "    <tr>\n",
              "      <th>15998</th>\n",
              "      <td>neg</td>\n",
              "      <td>110</td>\n",
              "      <td>NaN</td>\n",
              "      <td>3.600000e+01</td>\n",
              "      <td>32.0</td>\n",
              "      <td>0.0</td>\n",
              "      <td>0.0</td>\n",
              "      <td>0.0</td>\n",
              "      <td>0.0</td>\n",
              "      <td>0.0</td>\n",
              "      <td>...</td>\n",
              "      <td>588.0</td>\n",
              "      <td>210.0</td>\n",
              "      <td>180.0</td>\n",
              "      <td>544.0</td>\n",
              "      <td>1004.0</td>\n",
              "      <td>1338.0</td>\n",
              "      <td>74.0</td>\n",
              "      <td>0.0</td>\n",
              "      <td>0.0</td>\n",
              "      <td>0.0</td>\n",
              "    </tr>\n",
              "    <tr>\n",
              "      <th>15999</th>\n",
              "      <td>neg</td>\n",
              "      <td>8</td>\n",
              "      <td>0.0</td>\n",
              "      <td>6.000000e+00</td>\n",
              "      <td>4.0</td>\n",
              "      <td>2.0</td>\n",
              "      <td>2.0</td>\n",
              "      <td>0.0</td>\n",
              "      <td>0.0</td>\n",
              "      <td>0.0</td>\n",
              "      <td>...</td>\n",
              "      <td>46.0</td>\n",
              "      <td>10.0</td>\n",
              "      <td>48.0</td>\n",
              "      <td>14.0</td>\n",
              "      <td>42.0</td>\n",
              "      <td>46.0</td>\n",
              "      <td>0.0</td>\n",
              "      <td>0.0</td>\n",
              "      <td>0.0</td>\n",
              "      <td>0.0</td>\n",
              "    </tr>\n",
              "  </tbody>\n",
              "</table>\n",
              "<p>16000 rows × 171 columns</p>\n",
              "</div>\n",
              "      <button class=\"colab-df-convert\" onclick=\"convertToInteractive('df-cd6a87ac-5d42-495c-845b-901441a56fa6')\"\n",
              "              title=\"Convert this dataframe to an interactive table.\"\n",
              "              style=\"display:none;\">\n",
              "        \n",
              "  <svg xmlns=\"http://www.w3.org/2000/svg\" height=\"24px\"viewBox=\"0 0 24 24\"\n",
              "       width=\"24px\">\n",
              "    <path d=\"M0 0h24v24H0V0z\" fill=\"none\"/>\n",
              "    <path d=\"M18.56 5.44l.94 2.06.94-2.06 2.06-.94-2.06-.94-.94-2.06-.94 2.06-2.06.94zm-11 1L8.5 8.5l.94-2.06 2.06-.94-2.06-.94L8.5 2.5l-.94 2.06-2.06.94zm10 10l.94 2.06.94-2.06 2.06-.94-2.06-.94-.94-2.06-.94 2.06-2.06.94z\"/><path d=\"M17.41 7.96l-1.37-1.37c-.4-.4-.92-.59-1.43-.59-.52 0-1.04.2-1.43.59L10.3 9.45l-7.72 7.72c-.78.78-.78 2.05 0 2.83L4 21.41c.39.39.9.59 1.41.59.51 0 1.02-.2 1.41-.59l7.78-7.78 2.81-2.81c.8-.78.8-2.07 0-2.86zM5.41 20L4 18.59l7.72-7.72 1.47 1.35L5.41 20z\"/>\n",
              "  </svg>\n",
              "      </button>\n",
              "      \n",
              "  <style>\n",
              "    .colab-df-container {\n",
              "      display:flex;\n",
              "      flex-wrap:wrap;\n",
              "      gap: 12px;\n",
              "    }\n",
              "\n",
              "    .colab-df-convert {\n",
              "      background-color: #E8F0FE;\n",
              "      border: none;\n",
              "      border-radius: 50%;\n",
              "      cursor: pointer;\n",
              "      display: none;\n",
              "      fill: #1967D2;\n",
              "      height: 32px;\n",
              "      padding: 0 0 0 0;\n",
              "      width: 32px;\n",
              "    }\n",
              "\n",
              "    .colab-df-convert:hover {\n",
              "      background-color: #E2EBFA;\n",
              "      box-shadow: 0px 1px 2px rgba(60, 64, 67, 0.3), 0px 1px 3px 1px rgba(60, 64, 67, 0.15);\n",
              "      fill: #174EA6;\n",
              "    }\n",
              "\n",
              "    [theme=dark] .colab-df-convert {\n",
              "      background-color: #3B4455;\n",
              "      fill: #D2E3FC;\n",
              "    }\n",
              "\n",
              "    [theme=dark] .colab-df-convert:hover {\n",
              "      background-color: #434B5C;\n",
              "      box-shadow: 0px 1px 3px 1px rgba(0, 0, 0, 0.15);\n",
              "      filter: drop-shadow(0px 1px 2px rgba(0, 0, 0, 0.3));\n",
              "      fill: #FFFFFF;\n",
              "    }\n",
              "  </style>\n",
              "\n",
              "      <script>\n",
              "        const buttonEl =\n",
              "          document.querySelector('#df-cd6a87ac-5d42-495c-845b-901441a56fa6 button.colab-df-convert');\n",
              "        buttonEl.style.display =\n",
              "          google.colab.kernel.accessAllowed ? 'block' : 'none';\n",
              "\n",
              "        async function convertToInteractive(key) {\n",
              "          const element = document.querySelector('#df-cd6a87ac-5d42-495c-845b-901441a56fa6');\n",
              "          const dataTable =\n",
              "            await google.colab.kernel.invokeFunction('convertToInteractive',\n",
              "                                                     [key], {});\n",
              "          if (!dataTable) return;\n",
              "\n",
              "          const docLinkHtml = 'Like what you see? Visit the ' +\n",
              "            '<a target=\"_blank\" href=https://colab.research.google.com/notebooks/data_table.ipynb>data table notebook</a>'\n",
              "            + ' to learn more about interactive tables.';\n",
              "          element.innerHTML = '';\n",
              "          dataTable['output_type'] = 'display_data';\n",
              "          await google.colab.output.renderOutput(dataTable, element);\n",
              "          const docLink = document.createElement('div');\n",
              "          docLink.innerHTML = docLinkHtml;\n",
              "          element.appendChild(docLink);\n",
              "        }\n",
              "      </script>\n",
              "    </div>\n",
              "  </div>\n",
              "  "
            ]
          },
          "metadata": {},
          "execution_count": 105
        }
      ]
    },
    {
      "cell_type": "code",
      "source": [],
      "metadata": {
        "id": "H6IluCqKvVJ0"
      },
      "execution_count": 105,
      "outputs": []
    },
    {
      "cell_type": "code",
      "source": [
        "Dataset_test.describe()"
      ],
      "metadata": {
        "colab": {
          "base_uri": "https://localhost:8080/",
          "height": 393
        },
        "id": "J7ZZctWRvIlu",
        "outputId": "c6b779f4-3a78-4244-8af3-f8450ad7dd6c"
      },
      "execution_count": 106,
      "outputs": [
        {
          "output_type": "execute_result",
          "data": {
            "text/plain": [
              "             aa_000       ab_000        ac_000        ad_000        ae_000  \\\n",
              "count  1.600000e+04  3637.000000  1.507400e+04  12019.000000  15310.000000   \n",
              "mean   6.799698e+04     0.772065  3.580393e+08    439.498794      6.428347   \n",
              "std    5.035350e+05     2.589224  7.966968e+08   1551.328109    118.186469   \n",
              "min    0.000000e+00     0.000000  0.000000e+00      0.000000      0.000000   \n",
              "25%    9.280000e+02     0.000000  1.600000e+01     26.000000      0.000000   \n",
              "50%    3.098200e+04     0.000000  1.590000e+02    130.000000      0.000000   \n",
              "75%    4.947900e+04     0.000000  1.003500e+03    430.000000      0.000000   \n",
              "max    4.294967e+07    58.000000  2.130707e+09  87038.000000  11044.000000   \n",
              "\n",
              "             af_000         ag_000        ag_001        ag_002        ag_003  \\\n",
              "count  15310.000000   15811.000000  1.581100e+04  1.581100e+04  1.581100e+04   \n",
              "mean      10.195950     120.858516  2.064204e+03  1.379236e+04  1.126276e+05   \n",
              "std      167.260463    6454.660300  8.925778e+04  2.358405e+05  1.025843e+06   \n",
              "min        0.000000       0.000000  0.000000e+00  0.000000e+00  0.000000e+00   \n",
              "25%        0.000000       0.000000  0.000000e+00  0.000000e+00  0.000000e+00   \n",
              "50%        0.000000       0.000000  0.000000e+00  0.000000e+00  0.000000e+00   \n",
              "75%        0.000000       0.000000  0.000000e+00  0.000000e+00  0.000000e+00   \n",
              "max    14186.000000  736174.000000  1.047252e+07  1.914916e+07  7.305747e+07   \n",
              "\n",
              "       ...        ee_002        ee_003        ee_004        ee_005  \\\n",
              "count  ...  1.580800e+04  1.580800e+04  1.580800e+04  1.580800e+04   \n",
              "mean   ...  4.649135e+05  2.212010e+05  4.690886e+05  4.256696e+05   \n",
              "std    ...  1.255197e+06  5.828691e+05  1.267550e+06  1.259560e+06   \n",
              "min    ...  0.000000e+00  0.000000e+00  0.000000e+00  0.000000e+00   \n",
              "25%    ...  3.178000e+03  1.256000e+03  2.883500e+03  3.869500e+03   \n",
              "50%    ...  2.409860e+05  1.147800e+05  2.297080e+05  1.956510e+05   \n",
              "75%    ...  4.391320e+05  2.189510e+05  4.714860e+05  4.034105e+05   \n",
              "max    ...  5.382333e+07  2.207969e+07  4.859750e+07  5.604348e+07   \n",
              "\n",
              "             ee_006        ee_007        ee_008        ee_009        ef_000  \\\n",
              "count  1.580800e+04  1.580800e+04  1.580800e+04  1.580800e+04  15238.000000   \n",
              "mean   3.559239e+05  3.524014e+05  1.442759e+05  8.560355e+03      0.064969   \n",
              "std    1.199544e+06  1.628545e+06  5.368225e+05  5.329946e+04      3.374657   \n",
              "min    0.000000e+00  0.000000e+00  0.000000e+00  0.000000e+00      0.000000   \n",
              "25%    6.100000e+02  1.240000e+02  0.000000e+00  0.000000e+00      0.000000   \n",
              "50%    9.657000e+04  4.201300e+04  3.985000e+03  0.000000e+00      0.000000   \n",
              "75%    2.790355e+05  1.699100e+05  1.389310e+05  1.907000e+03      0.000000   \n",
              "max    4.215944e+07  4.747137e+07  1.718575e+07  4.570398e+06    340.000000   \n",
              "\n",
              "             eg_000  \n",
              "count  15238.000000  \n",
              "mean       0.242683  \n",
              "std       14.339059  \n",
              "min        0.000000  \n",
              "25%        0.000000  \n",
              "50%        0.000000  \n",
              "75%        0.000000  \n",
              "max     1720.000000  \n",
              "\n",
              "[8 rows x 170 columns]"
            ],
            "text/html": [
              "\n",
              "  <div id=\"df-da88295b-60a8-44ce-bb6f-2b3bc8e9067b\">\n",
              "    <div class=\"colab-df-container\">\n",
              "      <div>\n",
              "<style scoped>\n",
              "    .dataframe tbody tr th:only-of-type {\n",
              "        vertical-align: middle;\n",
              "    }\n",
              "\n",
              "    .dataframe tbody tr th {\n",
              "        vertical-align: top;\n",
              "    }\n",
              "\n",
              "    .dataframe thead th {\n",
              "        text-align: right;\n",
              "    }\n",
              "</style>\n",
              "<table border=\"1\" class=\"dataframe\">\n",
              "  <thead>\n",
              "    <tr style=\"text-align: right;\">\n",
              "      <th></th>\n",
              "      <th>aa_000</th>\n",
              "      <th>ab_000</th>\n",
              "      <th>ac_000</th>\n",
              "      <th>ad_000</th>\n",
              "      <th>ae_000</th>\n",
              "      <th>af_000</th>\n",
              "      <th>ag_000</th>\n",
              "      <th>ag_001</th>\n",
              "      <th>ag_002</th>\n",
              "      <th>ag_003</th>\n",
              "      <th>...</th>\n",
              "      <th>ee_002</th>\n",
              "      <th>ee_003</th>\n",
              "      <th>ee_004</th>\n",
              "      <th>ee_005</th>\n",
              "      <th>ee_006</th>\n",
              "      <th>ee_007</th>\n",
              "      <th>ee_008</th>\n",
              "      <th>ee_009</th>\n",
              "      <th>ef_000</th>\n",
              "      <th>eg_000</th>\n",
              "    </tr>\n",
              "  </thead>\n",
              "  <tbody>\n",
              "    <tr>\n",
              "      <th>count</th>\n",
              "      <td>1.600000e+04</td>\n",
              "      <td>3637.000000</td>\n",
              "      <td>1.507400e+04</td>\n",
              "      <td>12019.000000</td>\n",
              "      <td>15310.000000</td>\n",
              "      <td>15310.000000</td>\n",
              "      <td>15811.000000</td>\n",
              "      <td>1.581100e+04</td>\n",
              "      <td>1.581100e+04</td>\n",
              "      <td>1.581100e+04</td>\n",
              "      <td>...</td>\n",
              "      <td>1.580800e+04</td>\n",
              "      <td>1.580800e+04</td>\n",
              "      <td>1.580800e+04</td>\n",
              "      <td>1.580800e+04</td>\n",
              "      <td>1.580800e+04</td>\n",
              "      <td>1.580800e+04</td>\n",
              "      <td>1.580800e+04</td>\n",
              "      <td>1.580800e+04</td>\n",
              "      <td>15238.000000</td>\n",
              "      <td>15238.000000</td>\n",
              "    </tr>\n",
              "    <tr>\n",
              "      <th>mean</th>\n",
              "      <td>6.799698e+04</td>\n",
              "      <td>0.772065</td>\n",
              "      <td>3.580393e+08</td>\n",
              "      <td>439.498794</td>\n",
              "      <td>6.428347</td>\n",
              "      <td>10.195950</td>\n",
              "      <td>120.858516</td>\n",
              "      <td>2.064204e+03</td>\n",
              "      <td>1.379236e+04</td>\n",
              "      <td>1.126276e+05</td>\n",
              "      <td>...</td>\n",
              "      <td>4.649135e+05</td>\n",
              "      <td>2.212010e+05</td>\n",
              "      <td>4.690886e+05</td>\n",
              "      <td>4.256696e+05</td>\n",
              "      <td>3.559239e+05</td>\n",
              "      <td>3.524014e+05</td>\n",
              "      <td>1.442759e+05</td>\n",
              "      <td>8.560355e+03</td>\n",
              "      <td>0.064969</td>\n",
              "      <td>0.242683</td>\n",
              "    </tr>\n",
              "    <tr>\n",
              "      <th>std</th>\n",
              "      <td>5.035350e+05</td>\n",
              "      <td>2.589224</td>\n",
              "      <td>7.966968e+08</td>\n",
              "      <td>1551.328109</td>\n",
              "      <td>118.186469</td>\n",
              "      <td>167.260463</td>\n",
              "      <td>6454.660300</td>\n",
              "      <td>8.925778e+04</td>\n",
              "      <td>2.358405e+05</td>\n",
              "      <td>1.025843e+06</td>\n",
              "      <td>...</td>\n",
              "      <td>1.255197e+06</td>\n",
              "      <td>5.828691e+05</td>\n",
              "      <td>1.267550e+06</td>\n",
              "      <td>1.259560e+06</td>\n",
              "      <td>1.199544e+06</td>\n",
              "      <td>1.628545e+06</td>\n",
              "      <td>5.368225e+05</td>\n",
              "      <td>5.329946e+04</td>\n",
              "      <td>3.374657</td>\n",
              "      <td>14.339059</td>\n",
              "    </tr>\n",
              "    <tr>\n",
              "      <th>min</th>\n",
              "      <td>0.000000e+00</td>\n",
              "      <td>0.000000</td>\n",
              "      <td>0.000000e+00</td>\n",
              "      <td>0.000000</td>\n",
              "      <td>0.000000</td>\n",
              "      <td>0.000000</td>\n",
              "      <td>0.000000</td>\n",
              "      <td>0.000000e+00</td>\n",
              "      <td>0.000000e+00</td>\n",
              "      <td>0.000000e+00</td>\n",
              "      <td>...</td>\n",
              "      <td>0.000000e+00</td>\n",
              "      <td>0.000000e+00</td>\n",
              "      <td>0.000000e+00</td>\n",
              "      <td>0.000000e+00</td>\n",
              "      <td>0.000000e+00</td>\n",
              "      <td>0.000000e+00</td>\n",
              "      <td>0.000000e+00</td>\n",
              "      <td>0.000000e+00</td>\n",
              "      <td>0.000000</td>\n",
              "      <td>0.000000</td>\n",
              "    </tr>\n",
              "    <tr>\n",
              "      <th>25%</th>\n",
              "      <td>9.280000e+02</td>\n",
              "      <td>0.000000</td>\n",
              "      <td>1.600000e+01</td>\n",
              "      <td>26.000000</td>\n",
              "      <td>0.000000</td>\n",
              "      <td>0.000000</td>\n",
              "      <td>0.000000</td>\n",
              "      <td>0.000000e+00</td>\n",
              "      <td>0.000000e+00</td>\n",
              "      <td>0.000000e+00</td>\n",
              "      <td>...</td>\n",
              "      <td>3.178000e+03</td>\n",
              "      <td>1.256000e+03</td>\n",
              "      <td>2.883500e+03</td>\n",
              "      <td>3.869500e+03</td>\n",
              "      <td>6.100000e+02</td>\n",
              "      <td>1.240000e+02</td>\n",
              "      <td>0.000000e+00</td>\n",
              "      <td>0.000000e+00</td>\n",
              "      <td>0.000000</td>\n",
              "      <td>0.000000</td>\n",
              "    </tr>\n",
              "    <tr>\n",
              "      <th>50%</th>\n",
              "      <td>3.098200e+04</td>\n",
              "      <td>0.000000</td>\n",
              "      <td>1.590000e+02</td>\n",
              "      <td>130.000000</td>\n",
              "      <td>0.000000</td>\n",
              "      <td>0.000000</td>\n",
              "      <td>0.000000</td>\n",
              "      <td>0.000000e+00</td>\n",
              "      <td>0.000000e+00</td>\n",
              "      <td>0.000000e+00</td>\n",
              "      <td>...</td>\n",
              "      <td>2.409860e+05</td>\n",
              "      <td>1.147800e+05</td>\n",
              "      <td>2.297080e+05</td>\n",
              "      <td>1.956510e+05</td>\n",
              "      <td>9.657000e+04</td>\n",
              "      <td>4.201300e+04</td>\n",
              "      <td>3.985000e+03</td>\n",
              "      <td>0.000000e+00</td>\n",
              "      <td>0.000000</td>\n",
              "      <td>0.000000</td>\n",
              "    </tr>\n",
              "    <tr>\n",
              "      <th>75%</th>\n",
              "      <td>4.947900e+04</td>\n",
              "      <td>0.000000</td>\n",
              "      <td>1.003500e+03</td>\n",
              "      <td>430.000000</td>\n",
              "      <td>0.000000</td>\n",
              "      <td>0.000000</td>\n",
              "      <td>0.000000</td>\n",
              "      <td>0.000000e+00</td>\n",
              "      <td>0.000000e+00</td>\n",
              "      <td>0.000000e+00</td>\n",
              "      <td>...</td>\n",
              "      <td>4.391320e+05</td>\n",
              "      <td>2.189510e+05</td>\n",
              "      <td>4.714860e+05</td>\n",
              "      <td>4.034105e+05</td>\n",
              "      <td>2.790355e+05</td>\n",
              "      <td>1.699100e+05</td>\n",
              "      <td>1.389310e+05</td>\n",
              "      <td>1.907000e+03</td>\n",
              "      <td>0.000000</td>\n",
              "      <td>0.000000</td>\n",
              "    </tr>\n",
              "    <tr>\n",
              "      <th>max</th>\n",
              "      <td>4.294967e+07</td>\n",
              "      <td>58.000000</td>\n",
              "      <td>2.130707e+09</td>\n",
              "      <td>87038.000000</td>\n",
              "      <td>11044.000000</td>\n",
              "      <td>14186.000000</td>\n",
              "      <td>736174.000000</td>\n",
              "      <td>1.047252e+07</td>\n",
              "      <td>1.914916e+07</td>\n",
              "      <td>7.305747e+07</td>\n",
              "      <td>...</td>\n",
              "      <td>5.382333e+07</td>\n",
              "      <td>2.207969e+07</td>\n",
              "      <td>4.859750e+07</td>\n",
              "      <td>5.604348e+07</td>\n",
              "      <td>4.215944e+07</td>\n",
              "      <td>4.747137e+07</td>\n",
              "      <td>1.718575e+07</td>\n",
              "      <td>4.570398e+06</td>\n",
              "      <td>340.000000</td>\n",
              "      <td>1720.000000</td>\n",
              "    </tr>\n",
              "  </tbody>\n",
              "</table>\n",
              "<p>8 rows × 170 columns</p>\n",
              "</div>\n",
              "      <button class=\"colab-df-convert\" onclick=\"convertToInteractive('df-da88295b-60a8-44ce-bb6f-2b3bc8e9067b')\"\n",
              "              title=\"Convert this dataframe to an interactive table.\"\n",
              "              style=\"display:none;\">\n",
              "        \n",
              "  <svg xmlns=\"http://www.w3.org/2000/svg\" height=\"24px\"viewBox=\"0 0 24 24\"\n",
              "       width=\"24px\">\n",
              "    <path d=\"M0 0h24v24H0V0z\" fill=\"none\"/>\n",
              "    <path d=\"M18.56 5.44l.94 2.06.94-2.06 2.06-.94-2.06-.94-.94-2.06-.94 2.06-2.06.94zm-11 1L8.5 8.5l.94-2.06 2.06-.94-2.06-.94L8.5 2.5l-.94 2.06-2.06.94zm10 10l.94 2.06.94-2.06 2.06-.94-2.06-.94-.94-2.06-.94 2.06-2.06.94z\"/><path d=\"M17.41 7.96l-1.37-1.37c-.4-.4-.92-.59-1.43-.59-.52 0-1.04.2-1.43.59L10.3 9.45l-7.72 7.72c-.78.78-.78 2.05 0 2.83L4 21.41c.39.39.9.59 1.41.59.51 0 1.02-.2 1.41-.59l7.78-7.78 2.81-2.81c.8-.78.8-2.07 0-2.86zM5.41 20L4 18.59l7.72-7.72 1.47 1.35L5.41 20z\"/>\n",
              "  </svg>\n",
              "      </button>\n",
              "      \n",
              "  <style>\n",
              "    .colab-df-container {\n",
              "      display:flex;\n",
              "      flex-wrap:wrap;\n",
              "      gap: 12px;\n",
              "    }\n",
              "\n",
              "    .colab-df-convert {\n",
              "      background-color: #E8F0FE;\n",
              "      border: none;\n",
              "      border-radius: 50%;\n",
              "      cursor: pointer;\n",
              "      display: none;\n",
              "      fill: #1967D2;\n",
              "      height: 32px;\n",
              "      padding: 0 0 0 0;\n",
              "      width: 32px;\n",
              "    }\n",
              "\n",
              "    .colab-df-convert:hover {\n",
              "      background-color: #E2EBFA;\n",
              "      box-shadow: 0px 1px 2px rgba(60, 64, 67, 0.3), 0px 1px 3px 1px rgba(60, 64, 67, 0.15);\n",
              "      fill: #174EA6;\n",
              "    }\n",
              "\n",
              "    [theme=dark] .colab-df-convert {\n",
              "      background-color: #3B4455;\n",
              "      fill: #D2E3FC;\n",
              "    }\n",
              "\n",
              "    [theme=dark] .colab-df-convert:hover {\n",
              "      background-color: #434B5C;\n",
              "      box-shadow: 0px 1px 3px 1px rgba(0, 0, 0, 0.15);\n",
              "      filter: drop-shadow(0px 1px 2px rgba(0, 0, 0, 0.3));\n",
              "      fill: #FFFFFF;\n",
              "    }\n",
              "  </style>\n",
              "\n",
              "      <script>\n",
              "        const buttonEl =\n",
              "          document.querySelector('#df-da88295b-60a8-44ce-bb6f-2b3bc8e9067b button.colab-df-convert');\n",
              "        buttonEl.style.display =\n",
              "          google.colab.kernel.accessAllowed ? 'block' : 'none';\n",
              "\n",
              "        async function convertToInteractive(key) {\n",
              "          const element = document.querySelector('#df-da88295b-60a8-44ce-bb6f-2b3bc8e9067b');\n",
              "          const dataTable =\n",
              "            await google.colab.kernel.invokeFunction('convertToInteractive',\n",
              "                                                     [key], {});\n",
              "          if (!dataTable) return;\n",
              "\n",
              "          const docLinkHtml = 'Like what you see? Visit the ' +\n",
              "            '<a target=\"_blank\" href=https://colab.research.google.com/notebooks/data_table.ipynb>data table notebook</a>'\n",
              "            + ' to learn more about interactive tables.';\n",
              "          element.innerHTML = '';\n",
              "          dataTable['output_type'] = 'display_data';\n",
              "          await google.colab.output.renderOutput(dataTable, element);\n",
              "          const docLink = document.createElement('div');\n",
              "          docLink.innerHTML = docLinkHtml;\n",
              "          element.appendChild(docLink);\n",
              "        }\n",
              "      </script>\n",
              "    </div>\n",
              "  </div>\n",
              "  "
            ]
          },
          "metadata": {},
          "execution_count": 106
        }
      ]
    },
    {
      "cell_type": "code",
      "source": [
        "Y_test = Dataset_test[['class']]"
      ],
      "metadata": {
        "id": "s2L2_yLfv0KB"
      },
      "execution_count": 107,
      "outputs": []
    },
    {
      "cell_type": "code",
      "source": [
        "Y_test"
      ],
      "metadata": {
        "colab": {
          "base_uri": "https://localhost:8080/",
          "height": 505
        },
        "id": "EGxBEZj6wCml",
        "outputId": "32a6d659-6cf2-4339-e184-26a1e8a3c552"
      },
      "execution_count": 108,
      "outputs": [
        {
          "output_type": "execute_result",
          "data": {
            "text/plain": [
              "      class\n",
              "0       neg\n",
              "1       neg\n",
              "2       neg\n",
              "3       neg\n",
              "4       neg\n",
              "...     ...\n",
              "15995   neg\n",
              "15996   neg\n",
              "15997   neg\n",
              "15998   neg\n",
              "15999   neg\n",
              "\n",
              "[16000 rows x 1 columns]"
            ],
            "text/html": [
              "\n",
              "  <div id=\"df-c2d08d05-41ce-44ae-bf01-0f8172fdaf34\">\n",
              "    <div class=\"colab-df-container\">\n",
              "      <div>\n",
              "<style scoped>\n",
              "    .dataframe tbody tr th:only-of-type {\n",
              "        vertical-align: middle;\n",
              "    }\n",
              "\n",
              "    .dataframe tbody tr th {\n",
              "        vertical-align: top;\n",
              "    }\n",
              "\n",
              "    .dataframe thead th {\n",
              "        text-align: right;\n",
              "    }\n",
              "</style>\n",
              "<table border=\"1\" class=\"dataframe\">\n",
              "  <thead>\n",
              "    <tr style=\"text-align: right;\">\n",
              "      <th></th>\n",
              "      <th>class</th>\n",
              "    </tr>\n",
              "  </thead>\n",
              "  <tbody>\n",
              "    <tr>\n",
              "      <th>0</th>\n",
              "      <td>neg</td>\n",
              "    </tr>\n",
              "    <tr>\n",
              "      <th>1</th>\n",
              "      <td>neg</td>\n",
              "    </tr>\n",
              "    <tr>\n",
              "      <th>2</th>\n",
              "      <td>neg</td>\n",
              "    </tr>\n",
              "    <tr>\n",
              "      <th>3</th>\n",
              "      <td>neg</td>\n",
              "    </tr>\n",
              "    <tr>\n",
              "      <th>4</th>\n",
              "      <td>neg</td>\n",
              "    </tr>\n",
              "    <tr>\n",
              "      <th>...</th>\n",
              "      <td>...</td>\n",
              "    </tr>\n",
              "    <tr>\n",
              "      <th>15995</th>\n",
              "      <td>neg</td>\n",
              "    </tr>\n",
              "    <tr>\n",
              "      <th>15996</th>\n",
              "      <td>neg</td>\n",
              "    </tr>\n",
              "    <tr>\n",
              "      <th>15997</th>\n",
              "      <td>neg</td>\n",
              "    </tr>\n",
              "    <tr>\n",
              "      <th>15998</th>\n",
              "      <td>neg</td>\n",
              "    </tr>\n",
              "    <tr>\n",
              "      <th>15999</th>\n",
              "      <td>neg</td>\n",
              "    </tr>\n",
              "  </tbody>\n",
              "</table>\n",
              "<p>16000 rows × 1 columns</p>\n",
              "</div>\n",
              "      <button class=\"colab-df-convert\" onclick=\"convertToInteractive('df-c2d08d05-41ce-44ae-bf01-0f8172fdaf34')\"\n",
              "              title=\"Convert this dataframe to an interactive table.\"\n",
              "              style=\"display:none;\">\n",
              "        \n",
              "  <svg xmlns=\"http://www.w3.org/2000/svg\" height=\"24px\"viewBox=\"0 0 24 24\"\n",
              "       width=\"24px\">\n",
              "    <path d=\"M0 0h24v24H0V0z\" fill=\"none\"/>\n",
              "    <path d=\"M18.56 5.44l.94 2.06.94-2.06 2.06-.94-2.06-.94-.94-2.06-.94 2.06-2.06.94zm-11 1L8.5 8.5l.94-2.06 2.06-.94-2.06-.94L8.5 2.5l-.94 2.06-2.06.94zm10 10l.94 2.06.94-2.06 2.06-.94-2.06-.94-.94-2.06-.94 2.06-2.06.94z\"/><path d=\"M17.41 7.96l-1.37-1.37c-.4-.4-.92-.59-1.43-.59-.52 0-1.04.2-1.43.59L10.3 9.45l-7.72 7.72c-.78.78-.78 2.05 0 2.83L4 21.41c.39.39.9.59 1.41.59.51 0 1.02-.2 1.41-.59l7.78-7.78 2.81-2.81c.8-.78.8-2.07 0-2.86zM5.41 20L4 18.59l7.72-7.72 1.47 1.35L5.41 20z\"/>\n",
              "  </svg>\n",
              "      </button>\n",
              "      \n",
              "  <style>\n",
              "    .colab-df-container {\n",
              "      display:flex;\n",
              "      flex-wrap:wrap;\n",
              "      gap: 12px;\n",
              "    }\n",
              "\n",
              "    .colab-df-convert {\n",
              "      background-color: #E8F0FE;\n",
              "      border: none;\n",
              "      border-radius: 50%;\n",
              "      cursor: pointer;\n",
              "      display: none;\n",
              "      fill: #1967D2;\n",
              "      height: 32px;\n",
              "      padding: 0 0 0 0;\n",
              "      width: 32px;\n",
              "    }\n",
              "\n",
              "    .colab-df-convert:hover {\n",
              "      background-color: #E2EBFA;\n",
              "      box-shadow: 0px 1px 2px rgba(60, 64, 67, 0.3), 0px 1px 3px 1px rgba(60, 64, 67, 0.15);\n",
              "      fill: #174EA6;\n",
              "    }\n",
              "\n",
              "    [theme=dark] .colab-df-convert {\n",
              "      background-color: #3B4455;\n",
              "      fill: #D2E3FC;\n",
              "    }\n",
              "\n",
              "    [theme=dark] .colab-df-convert:hover {\n",
              "      background-color: #434B5C;\n",
              "      box-shadow: 0px 1px 3px 1px rgba(0, 0, 0, 0.15);\n",
              "      filter: drop-shadow(0px 1px 2px rgba(0, 0, 0, 0.3));\n",
              "      fill: #FFFFFF;\n",
              "    }\n",
              "  </style>\n",
              "\n",
              "      <script>\n",
              "        const buttonEl =\n",
              "          document.querySelector('#df-c2d08d05-41ce-44ae-bf01-0f8172fdaf34 button.colab-df-convert');\n",
              "        buttonEl.style.display =\n",
              "          google.colab.kernel.accessAllowed ? 'block' : 'none';\n",
              "\n",
              "        async function convertToInteractive(key) {\n",
              "          const element = document.querySelector('#df-c2d08d05-41ce-44ae-bf01-0f8172fdaf34');\n",
              "          const dataTable =\n",
              "            await google.colab.kernel.invokeFunction('convertToInteractive',\n",
              "                                                     [key], {});\n",
              "          if (!dataTable) return;\n",
              "\n",
              "          const docLinkHtml = 'Like what you see? Visit the ' +\n",
              "            '<a target=\"_blank\" href=https://colab.research.google.com/notebooks/data_table.ipynb>data table notebook</a>'\n",
              "            + ' to learn more about interactive tables.';\n",
              "          element.innerHTML = '';\n",
              "          dataTable['output_type'] = 'display_data';\n",
              "          await google.colab.output.renderOutput(dataTable, element);\n",
              "          const docLink = document.createElement('div');\n",
              "          docLink.innerHTML = docLinkHtml;\n",
              "          element.appendChild(docLink);\n",
              "        }\n",
              "      </script>\n",
              "    </div>\n",
              "  </div>\n",
              "  "
            ]
          },
          "metadata": {},
          "execution_count": 108
        }
      ]
    },
    {
      "cell_type": "code",
      "source": [
        "X_test = Dataset_test.drop(['class'], axis=1)"
      ],
      "metadata": {
        "id": "IYAQXYKCwW9V"
      },
      "execution_count": 109,
      "outputs": []
    },
    {
      "cell_type": "code",
      "source": [
        "X_test.columns"
      ],
      "metadata": {
        "colab": {
          "base_uri": "https://localhost:8080/"
        },
        "id": "fOXCU54ZxzHw",
        "outputId": "baca3eb7-e413-4f62-8088-0490779ff097"
      },
      "execution_count": 110,
      "outputs": [
        {
          "output_type": "execute_result",
          "data": {
            "text/plain": [
              "Index(['aa_000', 'ab_000', 'ac_000', 'ad_000', 'ae_000', 'af_000', 'ag_000',\n",
              "       'ag_001', 'ag_002', 'ag_003',\n",
              "       ...\n",
              "       'ee_002', 'ee_003', 'ee_004', 'ee_005', 'ee_006', 'ee_007', 'ee_008',\n",
              "       'ee_009', 'ef_000', 'eg_000'],\n",
              "      dtype='object', length=170)"
            ]
          },
          "metadata": {},
          "execution_count": 110
        }
      ]
    },
    {
      "cell_type": "code",
      "source": [
        "for col in X_test.columns:\n",
        "  if col not in X.columns:\n",
        "    X_test = X_test.drop([col], axis=1)\n",
        "  else:\n",
        "    X_test[col] = X_test[col].replace(np.NaN, X_test[col].mean())\n"
      ],
      "metadata": {
        "id": "piKRIu0GwkGf"
      },
      "execution_count": 111,
      "outputs": []
    },
    {
      "cell_type": "code",
      "source": [
        "X_test"
      ],
      "metadata": {
        "colab": {
          "base_uri": "https://localhost:8080/",
          "height": 488
        },
        "id": "B3eCuev6x1dw",
        "outputId": "2351816e-079b-4ef0-c1c5-6d4bfc527dff"
      },
      "execution_count": 112,
      "outputs": [
        {
          "output_type": "execute_result",
          "data": {
            "text/plain": [
              "       aa_000        ac_000  ae_000  af_000  ag_000  ag_001  ag_002    ag_003  \\\n",
              "0          60  2.000000e+01     0.0     0.0     0.0     0.0     0.0    2682.0   \n",
              "1          82  6.800000e+01     0.0     0.0     0.0     0.0     0.0       0.0   \n",
              "2       66002  2.120000e+02     0.0     0.0     0.0     0.0     0.0  199486.0   \n",
              "3       59816  1.010000e+03     0.0     0.0     0.0     0.0     0.0       0.0   \n",
              "4        1814  1.560000e+02     0.0     0.0     0.0     0.0     0.0       0.0   \n",
              "...       ...           ...     ...     ...     ...     ...     ...       ...   \n",
              "15995   81852  2.130706e+09     0.0     0.0     0.0     0.0     0.0       0.0   \n",
              "15996      18  5.200000e+01     8.0    26.0     0.0     0.0     0.0       0.0   \n",
              "15997   79636  1.670000e+03     0.0     0.0     0.0     0.0     0.0       0.0   \n",
              "15998     110  3.600000e+01     0.0     0.0     0.0     0.0     0.0       0.0   \n",
              "15999       8  6.000000e+00     2.0     2.0     0.0     0.0     0.0       0.0   \n",
              "\n",
              "          ag_004     ag_005  ...    ee_002    ee_003    ee_004    ee_005  \\\n",
              "0         4736.0     3862.0  ...    1098.0     138.0     412.0     654.0   \n",
              "1          748.0    12594.0  ...    1068.0     276.0    1620.0     116.0   \n",
              "2      1358536.0  1952422.0  ...  495076.0  380368.0  440134.0  269556.0   \n",
              "3       123922.0   984314.0  ...  540820.0  243270.0  483302.0  485332.0   \n",
              "4           72.0    17926.0  ...    7646.0    4144.0   18466.0   49782.0   \n",
              "...          ...        ...  ...       ...       ...       ...       ...   \n",
              "15995     5486.0   704012.0  ...  632658.0  273242.0  510354.0  373918.0   \n",
              "15996     6444.0     3308.0  ...     266.0      44.0      46.0      14.0   \n",
              "15997    15062.0  1991298.0  ...  806832.0  449962.0  778826.0  581558.0   \n",
              "15998      198.0     3730.0  ...     588.0     210.0     180.0     544.0   \n",
              "15999     1350.0     3328.0  ...      46.0      10.0      48.0      14.0   \n",
              "\n",
              "          ee_006    ee_007    ee_008   ee_009  ef_000  eg_000  \n",
              "0           78.0      88.0       0.0      0.0     0.0     0.0  \n",
              "1           86.0     462.0       0.0      0.0     0.0     0.0  \n",
              "2      1315022.0  153680.0     516.0      0.0     0.0     0.0  \n",
              "3       431376.0  210074.0  281662.0   3232.0     0.0     0.0  \n",
              "4         3176.0     482.0      76.0      0.0     0.0     0.0  \n",
              "...          ...       ...       ...      ...     ...     ...  \n",
              "15995   349840.0  317840.0  960024.0  25566.0     0.0     0.0  \n",
              "15996        2.0       0.0       0.0      0.0     0.0     0.0  \n",
              "15997   375498.0  222866.0  358934.0  19548.0     0.0     0.0  \n",
              "15998     1004.0    1338.0      74.0      0.0     0.0     0.0  \n",
              "15999       42.0      46.0       0.0      0.0     0.0     0.0  \n",
              "\n",
              "[16000 rows x 142 columns]"
            ],
            "text/html": [
              "\n",
              "  <div id=\"df-77c56a12-4e92-4e92-8e14-4b95d0aa9d6b\">\n",
              "    <div class=\"colab-df-container\">\n",
              "      <div>\n",
              "<style scoped>\n",
              "    .dataframe tbody tr th:only-of-type {\n",
              "        vertical-align: middle;\n",
              "    }\n",
              "\n",
              "    .dataframe tbody tr th {\n",
              "        vertical-align: top;\n",
              "    }\n",
              "\n",
              "    .dataframe thead th {\n",
              "        text-align: right;\n",
              "    }\n",
              "</style>\n",
              "<table border=\"1\" class=\"dataframe\">\n",
              "  <thead>\n",
              "    <tr style=\"text-align: right;\">\n",
              "      <th></th>\n",
              "      <th>aa_000</th>\n",
              "      <th>ac_000</th>\n",
              "      <th>ae_000</th>\n",
              "      <th>af_000</th>\n",
              "      <th>ag_000</th>\n",
              "      <th>ag_001</th>\n",
              "      <th>ag_002</th>\n",
              "      <th>ag_003</th>\n",
              "      <th>ag_004</th>\n",
              "      <th>ag_005</th>\n",
              "      <th>...</th>\n",
              "      <th>ee_002</th>\n",
              "      <th>ee_003</th>\n",
              "      <th>ee_004</th>\n",
              "      <th>ee_005</th>\n",
              "      <th>ee_006</th>\n",
              "      <th>ee_007</th>\n",
              "      <th>ee_008</th>\n",
              "      <th>ee_009</th>\n",
              "      <th>ef_000</th>\n",
              "      <th>eg_000</th>\n",
              "    </tr>\n",
              "  </thead>\n",
              "  <tbody>\n",
              "    <tr>\n",
              "      <th>0</th>\n",
              "      <td>60</td>\n",
              "      <td>2.000000e+01</td>\n",
              "      <td>0.0</td>\n",
              "      <td>0.0</td>\n",
              "      <td>0.0</td>\n",
              "      <td>0.0</td>\n",
              "      <td>0.0</td>\n",
              "      <td>2682.0</td>\n",
              "      <td>4736.0</td>\n",
              "      <td>3862.0</td>\n",
              "      <td>...</td>\n",
              "      <td>1098.0</td>\n",
              "      <td>138.0</td>\n",
              "      <td>412.0</td>\n",
              "      <td>654.0</td>\n",
              "      <td>78.0</td>\n",
              "      <td>88.0</td>\n",
              "      <td>0.0</td>\n",
              "      <td>0.0</td>\n",
              "      <td>0.0</td>\n",
              "      <td>0.0</td>\n",
              "    </tr>\n",
              "    <tr>\n",
              "      <th>1</th>\n",
              "      <td>82</td>\n",
              "      <td>6.800000e+01</td>\n",
              "      <td>0.0</td>\n",
              "      <td>0.0</td>\n",
              "      <td>0.0</td>\n",
              "      <td>0.0</td>\n",
              "      <td>0.0</td>\n",
              "      <td>0.0</td>\n",
              "      <td>748.0</td>\n",
              "      <td>12594.0</td>\n",
              "      <td>...</td>\n",
              "      <td>1068.0</td>\n",
              "      <td>276.0</td>\n",
              "      <td>1620.0</td>\n",
              "      <td>116.0</td>\n",
              "      <td>86.0</td>\n",
              "      <td>462.0</td>\n",
              "      <td>0.0</td>\n",
              "      <td>0.0</td>\n",
              "      <td>0.0</td>\n",
              "      <td>0.0</td>\n",
              "    </tr>\n",
              "    <tr>\n",
              "      <th>2</th>\n",
              "      <td>66002</td>\n",
              "      <td>2.120000e+02</td>\n",
              "      <td>0.0</td>\n",
              "      <td>0.0</td>\n",
              "      <td>0.0</td>\n",
              "      <td>0.0</td>\n",
              "      <td>0.0</td>\n",
              "      <td>199486.0</td>\n",
              "      <td>1358536.0</td>\n",
              "      <td>1952422.0</td>\n",
              "      <td>...</td>\n",
              "      <td>495076.0</td>\n",
              "      <td>380368.0</td>\n",
              "      <td>440134.0</td>\n",
              "      <td>269556.0</td>\n",
              "      <td>1315022.0</td>\n",
              "      <td>153680.0</td>\n",
              "      <td>516.0</td>\n",
              "      <td>0.0</td>\n",
              "      <td>0.0</td>\n",
              "      <td>0.0</td>\n",
              "    </tr>\n",
              "    <tr>\n",
              "      <th>3</th>\n",
              "      <td>59816</td>\n",
              "      <td>1.010000e+03</td>\n",
              "      <td>0.0</td>\n",
              "      <td>0.0</td>\n",
              "      <td>0.0</td>\n",
              "      <td>0.0</td>\n",
              "      <td>0.0</td>\n",
              "      <td>0.0</td>\n",
              "      <td>123922.0</td>\n",
              "      <td>984314.0</td>\n",
              "      <td>...</td>\n",
              "      <td>540820.0</td>\n",
              "      <td>243270.0</td>\n",
              "      <td>483302.0</td>\n",
              "      <td>485332.0</td>\n",
              "      <td>431376.0</td>\n",
              "      <td>210074.0</td>\n",
              "      <td>281662.0</td>\n",
              "      <td>3232.0</td>\n",
              "      <td>0.0</td>\n",
              "      <td>0.0</td>\n",
              "    </tr>\n",
              "    <tr>\n",
              "      <th>4</th>\n",
              "      <td>1814</td>\n",
              "      <td>1.560000e+02</td>\n",
              "      <td>0.0</td>\n",
              "      <td>0.0</td>\n",
              "      <td>0.0</td>\n",
              "      <td>0.0</td>\n",
              "      <td>0.0</td>\n",
              "      <td>0.0</td>\n",
              "      <td>72.0</td>\n",
              "      <td>17926.0</td>\n",
              "      <td>...</td>\n",
              "      <td>7646.0</td>\n",
              "      <td>4144.0</td>\n",
              "      <td>18466.0</td>\n",
              "      <td>49782.0</td>\n",
              "      <td>3176.0</td>\n",
              "      <td>482.0</td>\n",
              "      <td>76.0</td>\n",
              "      <td>0.0</td>\n",
              "      <td>0.0</td>\n",
              "      <td>0.0</td>\n",
              "    </tr>\n",
              "    <tr>\n",
              "      <th>...</th>\n",
              "      <td>...</td>\n",
              "      <td>...</td>\n",
              "      <td>...</td>\n",
              "      <td>...</td>\n",
              "      <td>...</td>\n",
              "      <td>...</td>\n",
              "      <td>...</td>\n",
              "      <td>...</td>\n",
              "      <td>...</td>\n",
              "      <td>...</td>\n",
              "      <td>...</td>\n",
              "      <td>...</td>\n",
              "      <td>...</td>\n",
              "      <td>...</td>\n",
              "      <td>...</td>\n",
              "      <td>...</td>\n",
              "      <td>...</td>\n",
              "      <td>...</td>\n",
              "      <td>...</td>\n",
              "      <td>...</td>\n",
              "      <td>...</td>\n",
              "    </tr>\n",
              "    <tr>\n",
              "      <th>15995</th>\n",
              "      <td>81852</td>\n",
              "      <td>2.130706e+09</td>\n",
              "      <td>0.0</td>\n",
              "      <td>0.0</td>\n",
              "      <td>0.0</td>\n",
              "      <td>0.0</td>\n",
              "      <td>0.0</td>\n",
              "      <td>0.0</td>\n",
              "      <td>5486.0</td>\n",
              "      <td>704012.0</td>\n",
              "      <td>...</td>\n",
              "      <td>632658.0</td>\n",
              "      <td>273242.0</td>\n",
              "      <td>510354.0</td>\n",
              "      <td>373918.0</td>\n",
              "      <td>349840.0</td>\n",
              "      <td>317840.0</td>\n",
              "      <td>960024.0</td>\n",
              "      <td>25566.0</td>\n",
              "      <td>0.0</td>\n",
              "      <td>0.0</td>\n",
              "    </tr>\n",
              "    <tr>\n",
              "      <th>15996</th>\n",
              "      <td>18</td>\n",
              "      <td>5.200000e+01</td>\n",
              "      <td>8.0</td>\n",
              "      <td>26.0</td>\n",
              "      <td>0.0</td>\n",
              "      <td>0.0</td>\n",
              "      <td>0.0</td>\n",
              "      <td>0.0</td>\n",
              "      <td>6444.0</td>\n",
              "      <td>3308.0</td>\n",
              "      <td>...</td>\n",
              "      <td>266.0</td>\n",
              "      <td>44.0</td>\n",
              "      <td>46.0</td>\n",
              "      <td>14.0</td>\n",
              "      <td>2.0</td>\n",
              "      <td>0.0</td>\n",
              "      <td>0.0</td>\n",
              "      <td>0.0</td>\n",
              "      <td>0.0</td>\n",
              "      <td>0.0</td>\n",
              "    </tr>\n",
              "    <tr>\n",
              "      <th>15997</th>\n",
              "      <td>79636</td>\n",
              "      <td>1.670000e+03</td>\n",
              "      <td>0.0</td>\n",
              "      <td>0.0</td>\n",
              "      <td>0.0</td>\n",
              "      <td>0.0</td>\n",
              "      <td>0.0</td>\n",
              "      <td>0.0</td>\n",
              "      <td>15062.0</td>\n",
              "      <td>1991298.0</td>\n",
              "      <td>...</td>\n",
              "      <td>806832.0</td>\n",
              "      <td>449962.0</td>\n",
              "      <td>778826.0</td>\n",
              "      <td>581558.0</td>\n",
              "      <td>375498.0</td>\n",
              "      <td>222866.0</td>\n",
              "      <td>358934.0</td>\n",
              "      <td>19548.0</td>\n",
              "      <td>0.0</td>\n",
              "      <td>0.0</td>\n",
              "    </tr>\n",
              "    <tr>\n",
              "      <th>15998</th>\n",
              "      <td>110</td>\n",
              "      <td>3.600000e+01</td>\n",
              "      <td>0.0</td>\n",
              "      <td>0.0</td>\n",
              "      <td>0.0</td>\n",
              "      <td>0.0</td>\n",
              "      <td>0.0</td>\n",
              "      <td>0.0</td>\n",
              "      <td>198.0</td>\n",
              "      <td>3730.0</td>\n",
              "      <td>...</td>\n",
              "      <td>588.0</td>\n",
              "      <td>210.0</td>\n",
              "      <td>180.0</td>\n",
              "      <td>544.0</td>\n",
              "      <td>1004.0</td>\n",
              "      <td>1338.0</td>\n",
              "      <td>74.0</td>\n",
              "      <td>0.0</td>\n",
              "      <td>0.0</td>\n",
              "      <td>0.0</td>\n",
              "    </tr>\n",
              "    <tr>\n",
              "      <th>15999</th>\n",
              "      <td>8</td>\n",
              "      <td>6.000000e+00</td>\n",
              "      <td>2.0</td>\n",
              "      <td>2.0</td>\n",
              "      <td>0.0</td>\n",
              "      <td>0.0</td>\n",
              "      <td>0.0</td>\n",
              "      <td>0.0</td>\n",
              "      <td>1350.0</td>\n",
              "      <td>3328.0</td>\n",
              "      <td>...</td>\n",
              "      <td>46.0</td>\n",
              "      <td>10.0</td>\n",
              "      <td>48.0</td>\n",
              "      <td>14.0</td>\n",
              "      <td>42.0</td>\n",
              "      <td>46.0</td>\n",
              "      <td>0.0</td>\n",
              "      <td>0.0</td>\n",
              "      <td>0.0</td>\n",
              "      <td>0.0</td>\n",
              "    </tr>\n",
              "  </tbody>\n",
              "</table>\n",
              "<p>16000 rows × 142 columns</p>\n",
              "</div>\n",
              "      <button class=\"colab-df-convert\" onclick=\"convertToInteractive('df-77c56a12-4e92-4e92-8e14-4b95d0aa9d6b')\"\n",
              "              title=\"Convert this dataframe to an interactive table.\"\n",
              "              style=\"display:none;\">\n",
              "        \n",
              "  <svg xmlns=\"http://www.w3.org/2000/svg\" height=\"24px\"viewBox=\"0 0 24 24\"\n",
              "       width=\"24px\">\n",
              "    <path d=\"M0 0h24v24H0V0z\" fill=\"none\"/>\n",
              "    <path d=\"M18.56 5.44l.94 2.06.94-2.06 2.06-.94-2.06-.94-.94-2.06-.94 2.06-2.06.94zm-11 1L8.5 8.5l.94-2.06 2.06-.94-2.06-.94L8.5 2.5l-.94 2.06-2.06.94zm10 10l.94 2.06.94-2.06 2.06-.94-2.06-.94-.94-2.06-.94 2.06-2.06.94z\"/><path d=\"M17.41 7.96l-1.37-1.37c-.4-.4-.92-.59-1.43-.59-.52 0-1.04.2-1.43.59L10.3 9.45l-7.72 7.72c-.78.78-.78 2.05 0 2.83L4 21.41c.39.39.9.59 1.41.59.51 0 1.02-.2 1.41-.59l7.78-7.78 2.81-2.81c.8-.78.8-2.07 0-2.86zM5.41 20L4 18.59l7.72-7.72 1.47 1.35L5.41 20z\"/>\n",
              "  </svg>\n",
              "      </button>\n",
              "      \n",
              "  <style>\n",
              "    .colab-df-container {\n",
              "      display:flex;\n",
              "      flex-wrap:wrap;\n",
              "      gap: 12px;\n",
              "    }\n",
              "\n",
              "    .colab-df-convert {\n",
              "      background-color: #E8F0FE;\n",
              "      border: none;\n",
              "      border-radius: 50%;\n",
              "      cursor: pointer;\n",
              "      display: none;\n",
              "      fill: #1967D2;\n",
              "      height: 32px;\n",
              "      padding: 0 0 0 0;\n",
              "      width: 32px;\n",
              "    }\n",
              "\n",
              "    .colab-df-convert:hover {\n",
              "      background-color: #E2EBFA;\n",
              "      box-shadow: 0px 1px 2px rgba(60, 64, 67, 0.3), 0px 1px 3px 1px rgba(60, 64, 67, 0.15);\n",
              "      fill: #174EA6;\n",
              "    }\n",
              "\n",
              "    [theme=dark] .colab-df-convert {\n",
              "      background-color: #3B4455;\n",
              "      fill: #D2E3FC;\n",
              "    }\n",
              "\n",
              "    [theme=dark] .colab-df-convert:hover {\n",
              "      background-color: #434B5C;\n",
              "      box-shadow: 0px 1px 3px 1px rgba(0, 0, 0, 0.15);\n",
              "      filter: drop-shadow(0px 1px 2px rgba(0, 0, 0, 0.3));\n",
              "      fill: #FFFFFF;\n",
              "    }\n",
              "  </style>\n",
              "\n",
              "      <script>\n",
              "        const buttonEl =\n",
              "          document.querySelector('#df-77c56a12-4e92-4e92-8e14-4b95d0aa9d6b button.colab-df-convert');\n",
              "        buttonEl.style.display =\n",
              "          google.colab.kernel.accessAllowed ? 'block' : 'none';\n",
              "\n",
              "        async function convertToInteractive(key) {\n",
              "          const element = document.querySelector('#df-77c56a12-4e92-4e92-8e14-4b95d0aa9d6b');\n",
              "          const dataTable =\n",
              "            await google.colab.kernel.invokeFunction('convertToInteractive',\n",
              "                                                     [key], {});\n",
              "          if (!dataTable) return;\n",
              "\n",
              "          const docLinkHtml = 'Like what you see? Visit the ' +\n",
              "            '<a target=\"_blank\" href=https://colab.research.google.com/notebooks/data_table.ipynb>data table notebook</a>'\n",
              "            + ' to learn more about interactive tables.';\n",
              "          element.innerHTML = '';\n",
              "          dataTable['output_type'] = 'display_data';\n",
              "          await google.colab.output.renderOutput(dataTable, element);\n",
              "          const docLink = document.createElement('div');\n",
              "          docLink.innerHTML = docLinkHtml;\n",
              "          element.appendChild(docLink);\n",
              "        }\n",
              "      </script>\n",
              "    </div>\n",
              "  </div>\n",
              "  "
            ]
          },
          "metadata": {},
          "execution_count": 112
        }
      ]
    },
    {
      "cell_type": "markdown",
      "source": [
        "Convert a DataFrame to a NumPy array."
      ],
      "metadata": {
        "id": "koa0sh-2ywWE"
      }
    },
    {
      "cell_type": "code",
      "source": [
        "X = X.to_numpy()"
      ],
      "metadata": {
        "id": "89x2RCxXfxgT"
      },
      "execution_count": 113,
      "outputs": []
    },
    {
      "cell_type": "code",
      "source": [
        "Y = Y.to_numpy()"
      ],
      "metadata": {
        "id": "D35QbwrmjJLl"
      },
      "execution_count": 114,
      "outputs": []
    },
    {
      "cell_type": "code",
      "source": [
        "X_test = X_test.to_numpy()"
      ],
      "metadata": {
        "id": "GVLvaFsFyKQG"
      },
      "execution_count": 115,
      "outputs": []
    },
    {
      "cell_type": "code",
      "source": [
        "X_test.shape"
      ],
      "metadata": {
        "colab": {
          "base_uri": "https://localhost:8080/"
        },
        "id": "u4ZQgFM8yOwe",
        "outputId": "2e91842c-67aa-490c-f673-4ff36e629907"
      },
      "execution_count": 116,
      "outputs": [
        {
          "output_type": "execute_result",
          "data": {
            "text/plain": [
              "(16000, 142)"
            ]
          },
          "metadata": {},
          "execution_count": 116
        }
      ]
    },
    {
      "cell_type": "code",
      "source": [
        "X_test.shape"
      ],
      "metadata": {
        "colab": {
          "base_uri": "https://localhost:8080/"
        },
        "id": "SOOHpe2vyM4C",
        "outputId": "1e122af2-0819-426a-9d93-8bb5c694859e"
      },
      "execution_count": 117,
      "outputs": [
        {
          "output_type": "execute_result",
          "data": {
            "text/plain": [
              "(16000, 142)"
            ]
          },
          "metadata": {},
          "execution_count": 117
        }
      ]
    },
    {
      "cell_type": "code",
      "source": [
        "Y_test['class'].replace(['neg', 'pos'], [0,1], inplace=True)"
      ],
      "metadata": {
        "colab": {
          "base_uri": "https://localhost:8080/"
        },
        "id": "vFiQgYVRybxF",
        "outputId": "84ef2a52-d350-4062-c8ee-b6007e82e855"
      },
      "execution_count": 118,
      "outputs": [
        {
          "output_type": "stream",
          "name": "stderr",
          "text": [
            "/usr/local/lib/python3.8/dist-packages/pandas/core/generic.py:6619: SettingWithCopyWarning: \n",
            "A value is trying to be set on a copy of a slice from a DataFrame\n",
            "\n",
            "See the caveats in the documentation: https://pandas.pydata.org/pandas-docs/stable/user_guide/indexing.html#returning-a-view-versus-a-copy\n",
            "  return self._update_inplace(result)\n"
          ]
        }
      ]
    },
    {
      "cell_type": "code",
      "source": [
        "Y_test = Y_test.to_numpy()"
      ],
      "metadata": {
        "id": "dc3mHxfnyeMz"
      },
      "execution_count": 119,
      "outputs": []
    },
    {
      "cell_type": "markdown",
      "source": [
        "## PCA"
      ],
      "metadata": {
        "id": "3evnwgm1UXou"
      }
    },
    {
      "cell_type": "markdown",
      "source": [
        "#### 2 Principal Components"
      ],
      "metadata": {
        "id": "uhjZ29RNdGmX"
      }
    },
    {
      "cell_type": "code",
      "source": [
        "scaler = preprocessing.StandardScaler().fit(X)\n",
        "X = scaler.transform(X)"
      ],
      "metadata": {
        "id": "88CkMomuUY7k"
      },
      "execution_count": 120,
      "outputs": []
    },
    {
      "cell_type": "code",
      "source": [
        "\n",
        "fig = plt.figure(1, figsize=(8, 6))\n",
        "ax = fig.add_subplot()\n",
        "\n",
        "X_reduced = PCA(n_components=2).fit_transform(X)\n",
        "ax.scatter(\n",
        "    X_reduced[:, 0],\n",
        "    X_reduced[:, 1],\n",
        "    c=Y,\n",
        "    cmap=plt.cm.Set1,\n",
        "    edgecolor=\"k\",\n",
        "    s=40,\n",
        ")\n",
        "\n",
        "ax.set_title(\"PCA directions\")\n",
        "ax.set_xlabel(\"1st eigenvector\")\n",
        "ax.xaxis.set_ticklabels([])\n",
        "ax.set_ylabel(\"2nd eigenvector\")\n",
        "ax.yaxis.set_ticklabels([])\n",
        "\n",
        "plt.show()"
      ],
      "metadata": {
        "colab": {
          "base_uri": "https://localhost:8080/",
          "height": 54
        },
        "id": "MhCzHczQeSOl",
        "outputId": "03973284-7795-4e04-ff9e-2ccadc20d3fc"
      },
      "execution_count": 121,
      "outputs": [
        {
          "output_type": "display_data",
          "data": {
            "text/plain": [
              "<Figure size 576x432 with 1 Axes>"
            ],
            "image/png": "[encoded data removed]"
          },
          "metadata": {
            "needs_background": "light"
          }
        }
      ]
    },
    {
      "cell_type": "markdown",
      "source": [
        "#### 3 PCA"
      ],
      "metadata": {
        "id": "5aQuFZ2RgL9D"
      }
    },
    {
      "cell_type": "code",
      "source": [
        "fig = plt.figure(1, figsize=(8, 6))\n",
        "ax = fig.add_subplot(111, projection=\"3d\", elev=-150, azim=110)\n",
        "\n",
        "X_reduced = PCA(n_components=3).fit_transform(X)\n",
        "ax.scatter(\n",
        "    X_reduced[:, 0],\n",
        "    X_reduced[:, 1],\n",
        "    X_reduced[:, 2],\n",
        "    c=Y,\n",
        "    cmap=plt.cm.Set1,\n",
        "    edgecolor=\"k\",\n",
        "    s=40,\n",
        ")\n",
        "\n",
        "ax.set_title(\"First three PCA directions\")\n",
        "ax.set_xlabel(\"1st eigenvector\")\n",
        "ax.xaxis.set_ticklabels([])\n",
        "ax.set_ylabel(\"2nd eigenvector\")\n",
        "ax.yaxis.set_ticklabels([])\n",
        "ax.set_zlabel(\"3rd eigenvector\")\n",
        "ax.zaxis.set_ticklabels([])\n",
        "\n",
        "plt.show()"
      ],
      "metadata": {
        "colab": {
          "base_uri": "https://localhost:8080/",
          "height": 54
        },
        "id": "p9y_dL4GgLm-",
        "outputId": "b3074a2c-0404-44e8-ce49-416aff6321ec"
      },
      "execution_count": 122,
      "outputs": [
        {
          "output_type": "display_data",
          "data": {
            "text/plain": [
              "<Figure size 576x432 with 1 Axes>"
            ],
            "image/png": "[encoded data removed]"
          },
          "metadata": {
            "needs_background": "light"
          }
        }
      ]
    },
    {
      "cell_type": "markdown",
      "source": [
        "#### Optimum"
      ],
      "metadata": {
        "id": "QuPqV0Jsgy19"
      }
    },
    {
      "cell_type": "code",
      "source": [
        "pca = PCA()\n",
        "pca.fit(X)\n",
        "cumsum_var = pca.explained_variance_ratio_.cumsum()\n",
        "\n",
        "plt.figure(figsize = (16,8))\n",
        "plt.plot(range(1,131), cumsum_var[0:130], marker='o', ls='--', lw=2)\n",
        "plt.grid()\n",
        "plt.xlabel(\"Number of components\",fontsize=20)\n",
        "plt.ylabel(\"Cumulative explained variance\",fontsize=20)\n",
        "plt.title(\"Explained variance by components\",fontsize=20)\n",
        "plt.tick_params(axis='x', labelsize=18)\n",
        "plt.tick_params(axis='y', labelsize=18)"
      ],
      "metadata": {
        "colab": {
          "base_uri": "https://localhost:8080/",
          "height": 54
        },
        "id": "ABsOL5RPgynA",
        "outputId": "a768128d-e5bc-4f12-e4f6-a3f987bf887f"
      },
      "execution_count": 123,
      "outputs": [
        {
          "output_type": "display_data",
          "data": {
            "text/plain": [
              "<Figure size 1152x576 with 1 Axes>"
            ],
            "image/png": "[encoded data removed]"
          },
          "metadata": {
            "needs_background": "light"
          }
        }
      ]
    },
    {
      "cell_type": "code",
      "source": [
        "\n",
        "pca_50 = PCA(n_components = 50)\n",
        "pca_50.fit(X)\n",
        "\n",
        "Xpca = pca_50.transform(X)\n",
        "print(Xpca.shape)"
      ],
      "metadata": {
        "id": "AefdfUMeeWDR",
        "colab": {
          "base_uri": "https://localhost:8080/"
        },
        "outputId": "d24d4c40-10c5-409b-a777-668177c26904"
      },
      "execution_count": 124,
      "outputs": [
        {
          "output_type": "stream",
          "name": "stdout",
          "text": [
            "(60000, 50)\n"
          ]
        }
      ]
    },
    {
      "cell_type": "markdown",
      "source": [
        "## PCA with 50 components"
      ],
      "metadata": {
        "id": "7_iTVaJrnOoj"
      }
    },
    {
      "cell_type": "markdown",
      "source": [
        "### KMeans"
      ],
      "metadata": {
        "id": "MAN7hSLmb4nl"
      }
    },
    {
      "cell_type": "code",
      "source": [
        "from sklearn.cluster import KMeans\n",
        "\n",
        "\n",
        "WCCS_original = []\n",
        "WCCS_pca = []\n",
        "\n",
        "for k in range(2,11):\n",
        "    print('processing number of clusters k =', k)\n",
        "    # Kmeans on original data :\n",
        "    kmeans_original = KMeans(n_clusters = k, init = 'k-means++', random_state = 10)\n",
        "    kmeans_original.fit(X)\n",
        "    WCCS_original.append(kmeans_original.inertia_)\n",
        "    # Kmeans after PCA :\n",
        "    kmeans_pca = KMeans(n_clusters = k, init = 'k-means++', random_state = 10)\n",
        "    kmeans_pca.fit(Xpca)\n",
        "    WCCS_pca.append(kmeans_pca.inertia_)\n",
        " \n",
        "\n",
        "plt.figure(figsize = (10,6))\n",
        "plt.plot(range(2,11),WCCS_original, marker='o', ls='--', lw=2, label='Kmeans on original data')\n",
        "plt.plot(range(2,11),WCCS_pca, marker='o', ls='--', lw=2, label='Kmeans after PCA')\n",
        "plt.grid()\n",
        "plt.xlabel(\"Number of clusters\", fontsize=20)\n",
        "plt.ylabel(\"within-cluster sum of squares\", fontsize=20)\n",
        "plt.title(\"Kmeans before and after PCA\",fontsize=20)\n",
        "plt.tick_params(axis='x', labelsize=18)\n",
        "plt.tick_params(axis='y', labelsize=18)\n",
        "plt.legend(fontsize=18, loc='upper right')\n"
      ],
      "metadata": {
        "colab": {
          "base_uri": "https://localhost:8080/",
          "height": 600
        },
        "id": "972pUuiacBZ1",
        "outputId": "ac33dbbd-c962-4da3-f031-d0ee7392992a"
      },
      "execution_count": 125,
      "outputs": [
        {
          "output_type": "stream",
          "name": "stdout",
          "text": [
            "processing number of clusters k = 2\n",
            "processing number of clusters k = 3\n",
            "processing number of clusters k = 4\n",
            "processing number of clusters k = 5\n",
            "processing number of clusters k = 6\n",
            "processing number of clusters k = 7\n",
            "processing number of clusters k = 8\n",
            "processing number of clusters k = 9\n",
            "processing number of clusters k = 10\n"
          ]
        },
        {
          "output_type": "execute_result",
          "data": {
            "text/plain": [
              "<matplotlib.legend.Legend at 0x7f96126834f0>"
            ]
          },
          "metadata": {},
          "execution_count": 125
        },
        {
          "output_type": "display_data",
          "data": {
            "text/plain": [
              "<Figure size 720x432 with 1 Axes>"
            ],
            "image/png": "[encoded data removed]"
          },
          "metadata": {
            "needs_background": "light"
          }
        }
      ]
    },
    {
      "cell_type": "markdown",
      "source": [
        "### Comparison of different clustering algorithms"
      ],
      "metadata": {
        "id": "DvKlZom-coKx"
      }
    },
    {
      "cell_type": "code",
      "source": [
        "from sklearn.metrics import silhouette_samples, silhouette_score\n",
        "from sklearn.cluster import SpectralClustering\n",
        "from sklearn.cluster import AgglomerativeClustering\n",
        "from sklearn.cluster import Birch\n",
        "from sklearn.mixture import GaussianMixture\n",
        "\n",
        "np.random.seed(407)\n",
        "\n",
        "stock_silhouette_kmeans = []\n",
        "stock_silhouette_spectral = []\n",
        "stock_silhouette_Birch = []\n",
        "stock_silhouette_GaussianMixture = []\n",
        "stock_silhouette_Ward = []\n",
        "\n",
        "for K in np.arange(2,11):\n",
        "    print('processing number of clusters K =', K)\n",
        "    # Kmeans : \n",
        "    kmeans_pca = KMeans(n_clusters = K, init = 'k-means++', random_state = 10)\n",
        "    kmeans_pca.fit(Xpca)\n",
        "    stock_silhouette_kmeans.append(silhouette_score(Xpca, kmeans_pca.labels_))\n",
        "    \"\"\"\n",
        "    # Spectral Clustering : \n",
        "    spectral = SpectralClustering(n_clusters=K, eigen_solver=\"arpack\", affinity=\"nearest_neighbors\")\n",
        "    spectral.fit(X)\n",
        "    stock_silhouette_spectral.append(silhouette_score(X, spectral.labels_))\n",
        "    # Ward : \n",
        "    ward = AgglomerativeClustering(n_clusters=K, linkage=\"ward\")\n",
        "    ward.fit(X)\n",
        "    stock_silhouette_Ward.append(silhouette_score(X, ward.labels_))\n",
        "    # Birch \n",
        "    birch = Birch(n_clusters=K)\n",
        "    birch.fit(X)\n",
        "    stock_silhouette_Birch.append(silhouette_score(X, birch.labels_))\n",
        "    # Mixture Gaussian\n",
        "    gmm = GaussianMixture(n_components=K, covariance_type=\"diag\")\n",
        "    gmm.fit(Xpca)\n",
        "    gmm_labels = gmm.predict(Xpca)\n",
        "    stock_silhouette_GaussianMixture.append(silhouette_score(Xpca, gmm_labels))\n",
        "    \"\"\"\n",
        "\n",
        "    \n",
        "figSilhouette = plt.figure(figsize=(8,4))\n",
        "ax1 = figSilhouette.add_subplot(1,1,1)\n",
        "ax1.plot(np.arange(2,11),stock_silhouette_kmeans, marker='o', ls='--', lw=2, label='PCA-Kmeans')\n",
        "#ax1.plot(np.arange(2,10),stock_silhouette_spectral, marker='o', ls='--', lw=2, label='Spectral Clustering')\n",
        "#ax1.plot(np.arange(2,10),stock_silhouette_Ward, marker='o', ls='--', lw=2, label='Ward')\n",
        "#ax1.plot(np.arange(2,10),stock_silhouette_Birch, marker='o', ls='--', lw=2, label='Birch')\n",
        "#ax1.plot(np.arange(2,10),stock_silhouette_GaussianMixture, marker='o', ls='--', lw=2, label='Mixture_Gaussian')\n",
        "ax1.set_xlabel(\"Number of clusters $K$\",fontsize=20)\n",
        "ax1.set_ylabel(\"Silhouette Coefficient\",fontsize=20)\n",
        "ax1.set_title(\"Silhouette versus $K$\",fontsize=20)\n",
        "ax1.tick_params(axis='x', labelsize=18)\n",
        "ax1.tick_params(axis='y', labelsize=18)\n",
        "ax1.grid()\n",
        "ax1.legend(fontsize=18, bbox_to_anchor=(1.1, 1.05))\n",
        "\n"
      ],
      "metadata": {
        "id": "abwpCZabcnBi"
      },
      "execution_count": null,
      "outputs": []
    },
    {
      "cell_type": "code",
      "source": [
        "figSilhouette = plt.figure(figsize=(8,4))\n",
        "ax1 = figSilhouette.add_subplot(1,1,1)\n",
        "ax1.plot(np.arange(2,10),stock_silhouette_kmeans, marker='o', ls='--', lw=2, label='PCA-Kmeans')\n",
        "#ax1.plot(np.arange(2,10),stock_silhouette_spectral, marker='o', ls='--', lw=2, label='Spectral Clustering')\n",
        "#ax1.plot(np.arange(2,10),stock_silhouette_Ward, marker='o', ls='--', lw=2, label='Ward')\n",
        "#ax1.plot(np.arange(2,10),stock_silhouette_Birch, marker='o', ls='--', lw=2, label='Birch')\n",
        "#ax1.plot(np.arange(2,10),stock_silhouette_GaussianMixture, marker='o', ls='--', lw=2, label='Mixture_Gaussian')\n",
        "ax1.set_xlabel(\"Number of clusters $K$\",fontsize=20)\n",
        "ax1.set_ylabel(\"Silhouette Coefficient\",fontsize=20)\n",
        "ax1.set_title(\"Silhouette versus $K$\",fontsize=20)\n",
        "ax1.tick_params(axis='x', labelsize=18)\n",
        "ax1.tick_params(axis='y', labelsize=18)\n",
        "ax1.grid()\n",
        "ax1.legend(fontsize=18, bbox_to_anchor=(1.1, 1.05))\n"
      ],
      "metadata": {
        "id": "ohSuzgA_p6yM"
      },
      "execution_count": null,
      "outputs": []
    },
    {
      "cell_type": "code",
      "source": [
        "from sklearn.cluster import KMeans\n",
        "kmeans_pca = KMeans(n_clusters = 2, init = 'k-means++', random_state = 10)\n",
        "kmeans_pca.fit(Xpca)"
      ],
      "metadata": {
        "colab": {
          "base_uri": "https://localhost:8080/"
        },
        "id": "RH94G9x0nmVK",
        "outputId": "85f6894b-23a6-489d-e597-6d7c32d95c31"
      },
      "execution_count": 127,
      "outputs": [
        {
          "output_type": "execute_result",
          "data": {
            "text/plain": [
              "KMeans(n_clusters=2, random_state=10)"
            ]
          },
          "metadata": {},
          "execution_count": 127
        }
      ]
    },
    {
      "cell_type": "code",
      "source": [
        "from sklearn.metrics import confusion_matrix, ConfusionMatrixDisplay\n",
        "cm = confusion_matrix(Y, kmeans_pca.labels_)\n",
        "disp = ConfusionMatrixDisplay(confusion_matrix=cm)\n",
        "disp.plot()\n",
        "plt.show()"
      ],
      "metadata": {
        "colab": {
          "base_uri": "https://localhost:8080/",
          "height": 279
        },
        "id": "w-p6war1n-fZ",
        "outputId": "34f40690-ee79-4aa8-a154-e6014005b629"
      },
      "execution_count": 128,
      "outputs": [
        {
          "output_type": "display_data",
          "data": {
            "text/plain": [
              "<Figure size 432x288 with 2 Axes>"
            ],
            "image/png": "[encoded data removed]"
          },
          "metadata": {
            "needs_background": "light"
          }
        }
      ]
    },
    {
      "cell_type": "markdown",
      "source": [
        "## PCA with 35 components"
      ],
      "metadata": {
        "id": "1Rv_RMjSnUfP"
      }
    },
    {
      "cell_type": "code",
      "source": [
        "\n",
        "pca_35 = PCA(n_components = 35)\n",
        "pca_35.fit(X)\n",
        "\n",
        "Xpca = pca_35.transform(X)\n",
        "print(Xpca.shape)"
      ],
      "metadata": {
        "colab": {
          "base_uri": "https://localhost:8080/"
        },
        "id": "rC3H2nCYnU31",
        "outputId": "5fbb7509-d75b-4102-8159-bcd594de62a9"
      },
      "execution_count": 129,
      "outputs": [
        {
          "output_type": "stream",
          "name": "stdout",
          "text": [
            "(60000, 35)\n"
          ]
        }
      ]
    },
    {
      "cell_type": "code",
      "source": [
        "stock_silhouette_kmeans = []\n",
        "\n",
        "for K in np.arange(2,11):\n",
        "    print('processing number of clusters K =', K)\n",
        "    # Kmeans : \n",
        "    kmeans_pca = KMeans(n_clusters = K, init = 'k-means++', random_state = 10)\n",
        "    kmeans_pca.fit(Xpca)\n",
        "    stock_silhouette_kmeans.append(silhouette_score(Xpca, kmeans_pca.labels_))\n",
        "\n",
        "    \n",
        "figSilhouette = plt.figure(figsize=(8,4))\n",
        "ax1 = figSilhouette.add_subplot(1,1,1)\n",
        "ax1.plot(np.arange(2,11),stock_silhouette_kmeans, marker='o', ls='--', lw=2, label='PCA-Kmeans')\n",
        "ax1.set_xlabel(\"Number of clusters $K$\",fontsize=20)\n",
        "ax1.set_ylabel(\"Silhouette Coefficient\",fontsize=20)\n",
        "ax1.set_title(\"Silhouette versus $K$\",fontsize=20)\n",
        "ax1.tick_params(axis='x', labelsize=18)\n",
        "ax1.tick_params(axis='y', labelsize=18)\n",
        "ax1.grid()\n",
        "ax1.legend(fontsize=18, bbox_to_anchor=(1.1, 1.05))\n",
        "\n"
      ],
      "metadata": {
        "id": "pehoc1g-nbsJ"
      },
      "execution_count": null,
      "outputs": []
    },
    {
      "cell_type": "code",
      "source": [
        "Y = Y.ravel()"
      ],
      "metadata": {
        "id": "9_dc9ToUsOd9"
      },
      "execution_count": 132,
      "outputs": []
    },
    {
      "cell_type": "code",
      "source": [
        "Y.shape"
      ],
      "metadata": {
        "colab": {
          "base_uri": "https://localhost:8080/"
        },
        "id": "EalwRckZsTYR",
        "outputId": "3f59256d-a226-488a-e10d-438ed7850c80"
      },
      "execution_count": 133,
      "outputs": [
        {
          "output_type": "execute_result",
          "data": {
            "text/plain": [
              "(60000,)"
            ]
          },
          "metadata": {},
          "execution_count": 133
        }
      ]
    },
    {
      "cell_type": "markdown",
      "source": [
        "### Logistic Regression"
      ],
      "metadata": {
        "id": "oi0KWiWFlt_x"
      }
    },
    {
      "cell_type": "code",
      "source": [
        "scaler = preprocessing.StandardScaler().fit(X)\n",
        "X_test = scaler.transform(X_test)\n",
        "\n",
        "\n",
        "X_test_pca = pca_35.transform(X_test)"
      ],
      "metadata": {
        "id": "G42w-cDRzG-i"
      },
      "execution_count": 134,
      "outputs": []
    },
    {
      "cell_type": "code",
      "source": [
        "LR = LogisticRegression(max_iter = 10000).fit(Xpca,Y)"
      ],
      "metadata": {
        "id": "gLglC3e6skmn"
      },
      "execution_count": 135,
      "outputs": []
    },
    {
      "cell_type": "code",
      "source": [
        "LR.score(Xpca, Y)"
      ],
      "metadata": {
        "colab": {
          "base_uri": "https://localhost:8080/"
        },
        "id": "eIgzo2_2uNaQ",
        "outputId": "8b7330fd-d7ae-4ee4-bdc3-ddccce0801bb"
      },
      "execution_count": 136,
      "outputs": [
        {
          "output_type": "execute_result",
          "data": {
            "text/plain": [
              "0.9893833333333333"
            ]
          },
          "metadata": {},
          "execution_count": 136
        }
      ]
    },
    {
      "cell_type": "code",
      "source": [
        "Y_test = Y_test.ravel()"
      ],
      "metadata": {
        "id": "wfS0JHPNzVPN"
      },
      "execution_count": 137,
      "outputs": []
    },
    {
      "cell_type": "code",
      "source": [
        "LR.score(X_test_pca, Y_test)\n"
      ],
      "metadata": {
        "colab": {
          "base_uri": "https://localhost:8080/"
        },
        "id": "QJezkhHuzToj",
        "outputId": "ad1cfb36-72bf-4793-fc7c-c540e9a39b1f"
      },
      "execution_count": 138,
      "outputs": [
        {
          "output_type": "execute_result",
          "data": {
            "text/plain": [
              "0.23375"
            ]
          },
          "metadata": {},
          "execution_count": 138
        }
      ]
    },
    {
      "cell_type": "code",
      "source": [
        "cm = confusion_matrix(Y, LR.predict(Xpca), labels=LR.classes_)\n",
        "disp = ConfusionMatrixDisplay(confusion_matrix=cm)\n",
        "disp.plot()\n",
        "plt.show()"
      ],
      "metadata": {
        "colab": {
          "base_uri": "https://localhost:8080/",
          "height": 279
        },
        "id": "RSrsSqmaz8L8",
        "outputId": "74e4f1ca-03d9-4c0e-c31b-00e6231ce933"
      },
      "execution_count": 139,
      "outputs": [
        {
          "output_type": "display_data",
          "data": {
            "text/plain": [
              "<Figure size 432x288 with 2 Axes>"
            ],
            "image/png": "[encoded data removed]"
          },
          "metadata": {
            "needs_background": "light"
          }
        }
      ]
    },
    {
      "cell_type": "code",
      "source": [
        "cm = confusion_matrix(Y_test, LR.predict(X_test_pca), labels=LR.classes_)\n",
        "disp = ConfusionMatrixDisplay(confusion_matrix=cm)\n",
        "disp.plot()\n",
        "plt.show()"
      ],
      "metadata": {
        "colab": {
          "base_uri": "https://localhost:8080/",
          "height": 282
        },
        "id": "_hiIC93k0MWi",
        "outputId": "c4074b26-a4db-473d-b2ce-e57ade047a2f"
      },
      "execution_count": 140,
      "outputs": [
        {
          "output_type": "display_data",
          "data": {
            "text/plain": [
              "<Figure size 432x288 with 2 Axes>"
            ],
            "image/png": "[encoded data removed]"
          },
          "metadata": {
            "needs_background": "light"
          }
        }
      ]
    },
    {
      "cell_type": "code",
      "source": [
        "np.count_nonzero(Y_test == 1)"
      ],
      "metadata": {
        "colab": {
          "base_uri": "https://localhost:8080/"
        },
        "id": "-M_qrbb40VIh",
        "outputId": "e3dbfa63-7bf5-4d79-b189-b461affb9b49"
      },
      "execution_count": 141,
      "outputs": [
        {
          "output_type": "execute_result",
          "data": {
            "text/plain": [
              "375"
            ]
          },
          "metadata": {},
          "execution_count": 141
        }
      ]
    },
    {
      "cell_type": "code",
      "source": [
        "np.count_nonzero(Y_test == 0)"
      ],
      "metadata": {
        "id": "N7s4QjpB0gET",
        "outputId": "6f8d4be3-a2a8-4fb1-d035-52149982a078",
        "colab": {
          "base_uri": "https://localhost:8080/"
        }
      },
      "execution_count": 142,
      "outputs": [
        {
          "output_type": "execute_result",
          "data": {
            "text/plain": [
              "15625"
            ]
          },
          "metadata": {},
          "execution_count": 142
        }
      ]
    },
    {
      "cell_type": "markdown",
      "source": [
        "Issue ==> imbalanced classes"
      ],
      "metadata": {
        "id": "jm-wTmKshgxY"
      }
    },
    {
      "cell_type": "code",
      "source": [
        "#Reweight Logistic Regression\n",
        "LR = LogisticRegression(class_weight='auto',max_iter = 10000).fit(Xpca,Y)"
      ],
      "metadata": {
        "id": "_sY3V0Mwje8B"
      },
      "execution_count": 143,
      "outputs": []
    },
    {
      "cell_type": "code",
      "source": [
        "LR.score(Xpca, Y)"
      ],
      "metadata": {
        "colab": {
          "base_uri": "https://localhost:8080/"
        },
        "id": "QGjLSe8zj8NB",
        "outputId": "d8b2f78e-09a9-420d-d89c-8080809d2e03"
      },
      "execution_count": 144,
      "outputs": [
        {
          "output_type": "execute_result",
          "data": {
            "text/plain": [
              "0.9893833333333333"
            ]
          },
          "metadata": {},
          "execution_count": 144
        }
      ]
    },
    {
      "cell_type": "code",
      "source": [
        "LR.score(X_test_pca, Y_test)"
      ],
      "metadata": {
        "colab": {
          "base_uri": "https://localhost:8080/"
        },
        "id": "yFEoycnhkC7h",
        "outputId": "f4437058-9990-48d8-891e-e72b0ebd02a6"
      },
      "execution_count": 145,
      "outputs": [
        {
          "output_type": "execute_result",
          "data": {
            "text/plain": [
              "0.23375"
            ]
          },
          "metadata": {},
          "execution_count": 145
        }
      ]
    },
    {
      "cell_type": "code",
      "source": [
        "cm = confusion_matrix(Y_test, LR.predict(X_test_pca), labels=LR.classes_)\n",
        "disp = ConfusionMatrixDisplay(confusion_matrix=cm)\n",
        "disp.plot()\n",
        "plt.show()"
      ],
      "metadata": {
        "colab": {
          "base_uri": "https://localhost:8080/",
          "height": 282
        },
        "id": "3rGpCycjkGG3",
        "outputId": "95731e8b-33ac-4f4a-89f9-b456fb05056c"
      },
      "execution_count": 146,
      "outputs": [
        {
          "output_type": "display_data",
          "data": {
            "text/plain": [
              "<Figure size 432x288 with 2 Axes>"
            ],
            "image/png": "[encoded data removed]"
          },
          "metadata": {
            "needs_background": "light"
          }
        }
      ]
    },
    {
      "cell_type": "markdown",
      "source": [
        "### LDA"
      ],
      "metadata": {
        "id": "BNG4eLLtlwYe"
      }
    },
    {
      "cell_type": "code",
      "source": [
        "\n",
        "LDA = LinearDiscriminantAnalysis().fit(Xpca, Y)\n"
      ],
      "metadata": {
        "id": "mJpopOSwklsf"
      },
      "execution_count": 147,
      "outputs": []
    },
    {
      "cell_type": "code",
      "source": [
        "cm = confusion_matrix(Y, LDA.predict(Xpca), labels=LDA.classes_)\n",
        "disp = ConfusionMatrixDisplay(confusion_matrix=cm)\n",
        "disp.plot()\n",
        "plt.show()"
      ],
      "metadata": {
        "colab": {
          "base_uri": "https://localhost:8080/",
          "height": 54
        },
        "id": "SskDuErrnD6Y",
        "outputId": "30fc703f-50bb-4c51-f1a3-a46a30761995"
      },
      "execution_count": 148,
      "outputs": [
        {
          "output_type": "display_data",
          "data": {
            "text/plain": [
              "<Figure size 432x288 with 2 Axes>"
            ],
            "image/png": "[encoded data removed]"
          },
          "metadata": {
            "needs_background": "light"
          }
        }
      ]
    },
    {
      "cell_type": "code",
      "source": [
        "cm = confusion_matrix(Y_test, LDA.predict(X_test_pca), labels=LDA.classes_)\n",
        "disp = ConfusionMatrixDisplay(confusion_matrix=cm)\n",
        "disp.plot()\n",
        "plt.show()"
      ],
      "metadata": {
        "colab": {
          "base_uri": "https://localhost:8080/",
          "height": 54
        },
        "id": "Qu-v8i7rmwBw",
        "outputId": "c8009598-0345-4604-988f-4e99a12bc178"
      },
      "execution_count": 149,
      "outputs": [
        {
          "output_type": "display_data",
          "data": {
            "text/plain": [
              "<Figure size 432x288 with 2 Axes>"
            ],
            "image/png": "[encoded data removed]"
          },
          "metadata": {
            "needs_background": "light"
          }
        }
      ]
    },
    {
      "cell_type": "markdown",
      "source": [
        "### Oversampling"
      ],
      "metadata": {
        "id": "NlxLUd_GrXXk"
      }
    },
    {
      "cell_type": "code",
      "source": [
        "sm = SMOTE()\n",
        "X_res, y_res = sm.fit_resample(Xpca, Y)"
      ],
      "metadata": {
        "id": "qtg66CA1nZpM"
      },
      "execution_count": 150,
      "outputs": []
    },
    {
      "cell_type": "code",
      "source": [
        "np.bincount(Y)"
      ],
      "metadata": {
        "colab": {
          "base_uri": "https://localhost:8080/"
        },
        "id": "72Cnw9Jqr-PY",
        "outputId": "904fb39b-e23f-41b4-f832-e138129ce7ab"
      },
      "execution_count": 151,
      "outputs": [
        {
          "output_type": "execute_result",
          "data": {
            "text/plain": [
              "array([59000,  1000])"
            ]
          },
          "metadata": {},
          "execution_count": 151
        }
      ]
    },
    {
      "cell_type": "code",
      "source": [
        "print('Resampled dataset shape %s' % Counter(y_res))"
      ],
      "metadata": {
        "colab": {
          "base_uri": "https://localhost:8080/"
        },
        "id": "jiuWjKbirR6b",
        "outputId": "f8c41111-3ac6-4f52-f919-131a914ebd93"
      },
      "execution_count": 152,
      "outputs": [
        {
          "output_type": "stream",
          "name": "stdout",
          "text": [
            "Resampled dataset shape Counter({0: 59000, 1: 59000})\n"
          ]
        }
      ]
    },
    {
      "cell_type": "code",
      "source": [
        "X_res.shape"
      ],
      "metadata": {
        "colab": {
          "base_uri": "https://localhost:8080/"
        },
        "id": "1c2yXMaPssah",
        "outputId": "513101cb-9619-48ff-c7ad-412bd0d8bcc6"
      },
      "execution_count": 153,
      "outputs": [
        {
          "output_type": "execute_result",
          "data": {
            "text/plain": [
              "(118000, 35)"
            ]
          },
          "metadata": {},
          "execution_count": 153
        }
      ]
    },
    {
      "cell_type": "code",
      "source": [
        "LR = LogisticRegression(max_iter = 10000).fit(X_res, y_res)"
      ],
      "metadata": {
        "id": "bkKu1LpgtgBA"
      },
      "execution_count": 154,
      "outputs": []
    },
    {
      "cell_type": "code",
      "source": [
        "cm = confusion_matrix(y_res, LR.predict(X_res), labels=LR.classes_)\n",
        "disp = ConfusionMatrixDisplay(confusion_matrix=cm)\n",
        "disp.plot()\n",
        "plt.show()"
      ],
      "metadata": {
        "colab": {
          "base_uri": "https://localhost:8080/",
          "height": 54
        },
        "id": "FpYttOjLt3Mn",
        "outputId": "d16a95de-7894-4740-a3d0-a82267b0d2da"
      },
      "execution_count": 155,
      "outputs": [
        {
          "output_type": "display_data",
          "data": {
            "text/plain": [
              "<Figure size 432x288 with 2 Axes>"
            ],
            "image/png": "[encoded data removed]"
          },
          "metadata": {
            "needs_background": "light"
          }
        }
      ]
    },
    {
      "cell_type": "code",
      "source": [
        "cm = confusion_matrix(Y_test, LR.predict(X_test_pca), labels=LR.classes_)\n",
        "disp = ConfusionMatrixDisplay(confusion_matrix=cm)\n",
        "disp.plot()\n",
        "plt.show()"
      ],
      "metadata": {
        "colab": {
          "base_uri": "https://localhost:8080/",
          "height": 54
        },
        "id": "b566-frluVnm",
        "outputId": "9e8f6b34-eb20-4789-ac0f-527532de406a"
      },
      "execution_count": 156,
      "outputs": [
        {
          "output_type": "display_data",
          "data": {
            "text/plain": [
              "<Figure size 432x288 with 2 Axes>"
            ],
            "image/png": "[encoded data removed]"
          },
          "metadata": {
            "needs_background": "light"
          }
        }
      ]
    },
    {
      "cell_type": "code",
      "source": [
        "LR.score(X_test_pca, Y_test)"
      ],
      "metadata": {
        "colab": {
          "base_uri": "https://localhost:8080/"
        },
        "id": "D_7OMb01unV9",
        "outputId": "db5f7153-ba4f-4fc0-b58f-8155ec72810a"
      },
      "execution_count": 157,
      "outputs": [
        {
          "output_type": "execute_result",
          "data": {
            "text/plain": [
              "0.253"
            ]
          },
          "metadata": {},
          "execution_count": 157
        }
      ]
    },
    {
      "cell_type": "markdown",
      "source": [
        "### Random Forest"
      ],
      "metadata": {
        "id": "khoDAWVcu9dS"
      }
    },
    {
      "cell_type": "code",
      "source": [
        "clf = RandomForestClassifier(max_depth=20, random_state=0)\n",
        "clf.fit(Xpca,Y)"
      ],
      "metadata": {
        "colab": {
          "base_uri": "https://localhost:8080/"
        },
        "id": "N0gQJd55u_gk",
        "outputId": "c3aeb04a-0152-487d-b670-d5db8b7b2003"
      },
      "execution_count": 158,
      "outputs": [
        {
          "output_type": "execute_result",
          "data": {
            "text/plain": [
              "RandomForestClassifier(max_depth=20, random_state=0)"
            ]
          },
          "metadata": {},
          "execution_count": 158
        }
      ]
    },
    {
      "cell_type": "code",
      "source": [
        "clf.score(Xpca, Y)"
      ],
      "metadata": {
        "colab": {
          "base_uri": "https://localhost:8080/"
        },
        "id": "Oj0QzUcfvm0I",
        "outputId": "32065ee0-2579-47d8-d321-3f6e27ce70e7"
      },
      "execution_count": 159,
      "outputs": [
        {
          "output_type": "execute_result",
          "data": {
            "text/plain": [
              "0.9995"
            ]
          },
          "metadata": {},
          "execution_count": 159
        }
      ]
    },
    {
      "cell_type": "code",
      "source": [
        "cm = confusion_matrix(Y, clf.predict(Xpca), labels=clf.classes_)\n",
        "disp = ConfusionMatrixDisplay(confusion_matrix=cm)\n",
        "disp.plot()\n",
        "plt.show()"
      ],
      "metadata": {
        "colab": {
          "base_uri": "https://localhost:8080/",
          "height": 279
        },
        "id": "H12fG5_hxA7s",
        "outputId": "04123934-5284-432e-c2e2-5a270d574834"
      },
      "execution_count": 160,
      "outputs": [
        {
          "output_type": "display_data",
          "data": {
            "text/plain": [
              "<Figure size 432x288 with 2 Axes>"
            ],
            "image/png": "[encoded data removed]"
          },
          "metadata": {
            "needs_background": "light"
          }
        }
      ]
    },
    {
      "cell_type": "code",
      "source": [
        "cm = confusion_matrix(Y_test, clf.predict(X_test_pca), labels=clf.classes_)\n",
        "disp = ConfusionMatrixDisplay(confusion_matrix=cm)\n",
        "disp.plot()\n",
        "plt.show()"
      ],
      "metadata": {
        "colab": {
          "base_uri": "https://localhost:8080/",
          "height": 282
        },
        "id": "i_aWzS2Lxdqw",
        "outputId": "c07f9bf2-15ec-48bd-e3b2-ae2b91d9db57"
      },
      "execution_count": 161,
      "outputs": [
        {
          "output_type": "display_data",
          "data": {
            "text/plain": [
              "<Figure size 432x288 with 2 Axes>"
            ],
            "image/png": "[encoded data removed]"
          },
          "metadata": {
            "needs_background": "light"
          }
        }
      ]
    },
    {
      "cell_type": "code",
      "source": [],
      "metadata": {
        "id": "e4ohnSigxl9O"
      },
      "execution_count": 161,
      "outputs": []
    },
    {
      "cell_type": "code",
      "source": [],
      "metadata": {
        "id": "pm8yzINOxymd"
      },
      "execution_count": 161,
      "outputs": []
    },
    {
      "cell_type": "code",
      "source": [
        "clf = RandomForestClassifier(max_depth=15, random_state=0)\n",
        "clf.fit(Xpca,Y)"
      ],
      "metadata": {
        "colab": {
          "base_uri": "https://localhost:8080/"
        },
        "outputId": "242d9c6c-62b7-43f3-d78f-0aec91b83062",
        "id": "7QzNLneixy6I"
      },
      "execution_count": 162,
      "outputs": [
        {
          "output_type": "execute_result",
          "data": {
            "text/plain": [
              "RandomForestClassifier(max_depth=15, random_state=0)"
            ]
          },
          "metadata": {},
          "execution_count": 162
        }
      ]
    },
    {
      "cell_type": "code",
      "source": [
        "clf.score(Xpca, Y)"
      ],
      "metadata": {
        "colab": {
          "base_uri": "https://localhost:8080/"
        },
        "outputId": "f2ca26bf-28fc-4aac-e130-3f852364b22c",
        "id": "GLbl8OL5xy6M"
      },
      "execution_count": 163,
      "outputs": [
        {
          "output_type": "execute_result",
          "data": {
            "text/plain": [
              "0.9986666666666667"
            ]
          },
          "metadata": {},
          "execution_count": 163
        }
      ]
    },
    {
      "cell_type": "code",
      "source": [
        "cm = confusion_matrix(Y, clf.predict(Xpca), labels=clf.classes_)\n",
        "disp = ConfusionMatrixDisplay(confusion_matrix=cm)\n",
        "disp.plot()\n",
        "plt.show()"
      ],
      "metadata": {
        "colab": {
          "base_uri": "https://localhost:8080/",
          "height": 279
        },
        "outputId": "848d4cf9-2ce0-4ebc-ef15-31af2279fc08",
        "id": "Ksp9-rePxy6R"
      },
      "execution_count": 164,
      "outputs": [
        {
          "output_type": "display_data",
          "data": {
            "text/plain": [
              "<Figure size 432x288 with 2 Axes>"
            ],
            "image/png": "[encoded data removed]"
          },
          "metadata": {
            "needs_background": "light"
          }
        }
      ]
    },
    {
      "cell_type": "code",
      "source": [
        "cm = confusion_matrix(Y_test, clf.predict(X_test_pca), labels=clf.classes_)\n",
        "disp = ConfusionMatrixDisplay(confusion_matrix=cm)\n",
        "disp.plot()\n",
        "plt.show()"
      ],
      "metadata": {
        "colab": {
          "base_uri": "https://localhost:8080/",
          "height": 279
        },
        "outputId": "ada3c4a7-aa88-4b10-b330-e39563e42bf2",
        "id": "xwPYM-j2xy6T"
      },
      "execution_count": 165,
      "outputs": [
        {
          "output_type": "display_data",
          "data": {
            "text/plain": [
              "<Figure size 432x288 with 2 Axes>"
            ],
            "image/png": "[encoded data removed]"
          },
          "metadata": {
            "needs_background": "light"
          }
        }
      ]
    },
    {
      "cell_type": "code",
      "source": [],
      "metadata": {
        "id": "1vMEkaUbxy6Y"
      },
      "execution_count": 165,
      "outputs": []
    }
  ]
}